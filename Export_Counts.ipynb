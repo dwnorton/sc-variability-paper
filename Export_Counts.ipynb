{
 "cells": [
  {
   "cell_type": "code",
   "execution_count": null,
   "metadata": {
    "lines_to_next_cell": 2
   },
   "outputs": [],
   "source": [
    "import itertools\n",
    "\n",
    "import matplotlib.pyplot as plt\n",
    "import numpy as np\n",
    "import pandas as pd\n",
    "\n",
    "from rp2 import hagai_2018, create_folder\n",
    "from rp2.environment import check_environment\n",
    "from rp2.paths import get_output_path\n",
    "\n",
    "check_environment()"
   ]
  },
  {
   "cell_type": "code",
   "execution_count": null,
   "metadata": {},
   "outputs": [],
   "source": [
    "def load_gene_list(csv_path, symbol_column=\"symbol\"):\n",
    "    df = pd.read_csv(csv_path)\n",
    "    return df[symbol_column].values"
   ]
  },
  {
   "cell_type": "markdown",
   "metadata": {},
   "source": [
    "## Export expression counts from Hagai *et al.* (2018) dataset\n",
    "\n",
    "To export RNA counts for specific genes and conditions:\n",
    "1. Ensure all previous cells have been executed\n",
    "2. Edit the values of export_conditions (and show_histograms) accordingly in the cell below\n",
    "3. Run the cell below\n",
    "\n",
    "Output files will be created in *Output/Exported_Counts*.\n",
    "\n",
    "Note that it is possible to combine conditions (i.e. replicate, treatment and time_point) by creating a list of lists. For example\n",
    "```python\n",
    "replicate = [[\"1\", \"2\"], \"3\"]\n",
    "```\n",
    "will create results with replicates 1 and 2 combined and 3 as a separate condition.\n",
    "\n",
    "For bulk exporting, a list of genes can be loaded from a .csv file as follows:\n",
    "\n",
    "```python\n",
    "genes = load_gene_list(\"Output/burst_trends_gene_list.csv\")\n",
    "```"
   ]
  },
  {
   "cell_type": "code",
   "execution_count": null,
   "metadata": {},
   "outputs": [],
   "source": [
    "export_conditions = dict(\n",
    "    species=[\"mouse\"],\n",
    "    count_type=[\"median\"],  # Choose from umi, cpt, cpm or median\n",
    "    genes=[\"tnf\"],\n",
    "    replicate=[\"1\", \"2\", \"3\"],\n",
    "    treatment=[[\"unst\", \"lps\"], [\"unst\", \"pic\"]],\n",
    "    time_point=[\"0\", \"2\", \"4\", \"6\"],\n",
    ")\n",
    "\n",
    "show_histograms = True\n",
    "\n",
    "\n",
    "output_path = get_output_path(\"Exported_Counts\")\n",
    "create_folder(output_path)\n",
    "\n",
    "count_adata_map = {}\n",
    "\n",
    "for values in itertools.product(*export_conditions.values()):\n",
    "    export_dict = dict(zip(export_conditions.keys(), values))\n",
    "\n",
    "    species = export_dict.pop(\"species\")\n",
    "    count_type = export_dict.pop(\"count_type\")\n",
    "    gene_symbols = export_dict.pop(\"genes\").lower()\n",
    "\n",
    "    count_key = f\"{species}-{count_type}\"\n",
    "    if count_key in count_adata_map:\n",
    "        count_adata = count_adata_map[count_key]\n",
    "    else:\n",
    "        print(f'Loading {species} \"{count_type}\" counts')\n",
    "        count_adata = hagai_2018.load_counts(species, scaling=count_type)\n",
    "        count_adata_map[count_key] = count_adata\n",
    "\n",
    "    count_adata = count_adata[:, count_adata.var.symbol.str.lower() == gene_symbols]\n",
    "    if count_adata.n_vars != 1:\n",
    "        if count_adata.n_vars == 0:\n",
    "            print(f\"  No genes with symbol '{gene_symbols}'\")\n",
    "        else:\n",
    "            print(f\"  Multiple genes with symbol '{gene_symbols}':\")\n",
    "            for name in count_adata:\n",
    "                print(f\"  {name}\")\n",
    "        continue\n",
    "\n",
    "    filename = f\"{species}_{count_type}_{gene_symbols}\"\n",
    "\n",
    "    for k, v in export_dict.items():\n",
    "        if not isinstance(v, list):\n",
    "            v = [v]\n",
    "        count_adata = count_adata[count_adata.obs[k].isin(v), :]\n",
    "\n",
    "        filename += f\"_{k}_\" + \"_\".join(v)\n",
    "\n",
    "    filename += \".txt\"\n",
    "\n",
    "    print(f\"File: {filename}\")\n",
    "    print(f\"  {len(count_adata):,} samples\")\n",
    "\n",
    "    counts = np.asarray(count_adata.X.A).squeeze().round().astype(np.int)\n",
    "    np.savetxt(output_path.joinpath(filename), counts, fmt=\"%d\")\n",
    "\n",
    "    if show_histograms and (len(counts) > 0):\n",
    "        plt.hist(counts, log=True)\n",
    "        plt.xlabel(\"Count\")\n",
    "        plt.ylabel(\"Frequency\")\n",
    "        plt.show()"
   ]
  },
  {
   "cell_type": "code",
   "execution_count": null,
   "metadata": {},
   "outputs": [],
   "source": []
  }
 ],
 "metadata": {
  "jupytext": {
   "encoding": "# -*- coding: utf-8 -*-",
   "formats": "ipynb,.ipynb.py:percent"
  },
  "kernelspec": {
   "display_name": "Python 3",
   "language": "python",
   "name": "python3"
  },
  "language_info": {
   "codemirror_mode": {
    "name": "ipython",
    "version": 3
   },
   "file_extension": ".py",
   "mimetype": "text/x-python",
   "name": "python",
   "nbconvert_exporter": "python",
   "pygments_lexer": "ipython3",
   "version": "3.8.2"
  }
 },
 "nbformat": 4,
 "nbformat_minor": 4
}
