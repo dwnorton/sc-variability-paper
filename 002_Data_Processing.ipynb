{
 "cells": [
  {
   "cell_type": "code",
   "execution_count": null,
   "metadata": {},
   "outputs": [],
   "source": [
    "import anndata\n",
    "import matplotlib.pyplot as plt\n",
    "import numpy as np\n",
    "import pandas as pd\n",
    "from IPython.core.display import display\n",
    "from scipy import linalg, spatial, stats\n",
    "from sklearn.linear_model import LinearRegression\n",
    "\n",
    "from rp2 import get_data_path, get_output_path, GeneSymbolMap"
   ]
  },
  {
   "cell_type": "markdown",
   "metadata": {},
   "source": [
    "Load the results for phagocytes from Hagai *et al.* (2018) and determine their list of \"responsive\" genes"
   ]
  },
  {
   "cell_type": "code",
   "execution_count": null,
   "metadata": {},
   "outputs": [],
   "source": [
    "phagocyte_genes_df = pd.read_excel(\n",
    "    get_data_path(\"hagai_2018\", \"41586_2018_657_MOESM4_ESM.xlsx\"),\n",
    "    sheet_name=\"phagocytes_FC_diveregnce\"\n",
    ")\n",
    "display(phagocyte_genes_df)"
   ]
  },
  {
   "cell_type": "code",
   "execution_count": null,
   "metadata": {},
   "outputs": [],
   "source": [
    "study_species = \"mouse\"\n",
    "\n",
    "responsive_phagocyte_genes = phagocyte_genes_df.loc[phagocyte_genes_df[f\"{study_species}_padj\"] < 0.01].gene\n",
    "print(f\"{len(responsive_phagocyte_genes):,} responsive phagocyte genes\")"
   ]
  },
  {
   "cell_type": "markdown",
   "metadata": {},
   "source": [
    "Load Hagai *et al.* (2018) UMI counts and reduce the dataset to values of interest to optimise memory usage and access performance"
   ]
  },
  {
   "cell_type": "code",
   "execution_count": null,
   "metadata": {},
   "outputs": [],
   "source": [
    "array_express_path = get_data_path(\"ArrayExpress\")\n",
    "umi_ad = anndata.read_h5ad(array_express_path.joinpath(f\"E-MTAB-6754.processed.2.{study_species}.h5ad\"))\n",
    "\n",
    "study_genes = responsive_phagocyte_genes\n",
    "study_replicates = [\"1\", \"2\", \"3\"]\n",
    "study_control = \"unst\"\n",
    "study_treatments = [\"lps\", \"pic\"]\n",
    "study_time_points = [\"0\", \"2\", \"4\", \"6\"]\n",
    "\n",
    "umi_ad = umi_ad[:, study_genes]\n",
    "umi_ad = umi_ad[umi_ad.obs.replicate.isin(study_replicates), :]\n",
    "umi_ad = umi_ad[umi_ad.obs.treatment.isin(study_treatments + [study_control]), :]\n",
    "umi_ad = umi_ad[umi_ad.obs.time_point.isin(study_time_points), :]\n",
    "umi_ad = umi_ad.copy()"
   ]
  },
  {
   "cell_type": "markdown",
   "metadata": {},
   "source": [
    "Create a map between gene IDs and symbols"
   ]
  },
  {
   "cell_type": "code",
   "execution_count": null,
   "metadata": {},
   "outputs": [],
   "source": [
    "gene_symbols_df = pd.read_table(\n",
    "    get_data_path(\"BioMart\", f\"{study_species}_genes.tsv\"),\n",
    "    names=[\"id\", \"symbol\", \"description\"],\n",
    "    index_col=0\n",
    ")\n",
    "symbol_map = GeneSymbolMap(gene_symbols_df)"
   ]
  },
  {
   "cell_type": "markdown",
   "metadata": {},
   "source": [
    "Create a rough estimation of gene variability"
   ]
  },
  {
   "cell_type": "code",
   "execution_count": null,
   "metadata": {},
   "outputs": [],
   "source": [
    "gene_variability = pd.Series(index=umi_ad.var.index, data=umi_ad.X.A.var(axis=0)).sort_values(ascending=False)\n",
    "print(gene_variability)"
   ]
  },
  {
   "cell_type": "markdown",
   "metadata": {},
   "source": [
    "Create a StudyTreatmentSet for each treatment of interest so they may each be analysed"
   ]
  },
  {
   "cell_type": "code",
   "execution_count": null,
   "metadata": {},
   "outputs": [],
   "source": [
    "class StudyTreatmentSet:\n",
    "    @staticmethod\n",
    "    def add_method(method):\n",
    "        setattr(StudyTreatmentSet, method.__name__, method)\n",
    "\n",
    "    def __init__(self, umi_counts_ad, treatments, control_name):\n",
    "        all_treatments = treatments + [control_name]\n",
    "        self.umi_counts_ad = umi_counts_ad[umi_counts_ad.obs.treatment.isin(all_treatments), :]\n",
    "        self.condition_stats_df = None\n",
    "        self.lr_fit_with_intercept_df = None\n",
    "        self.lr_fit_without_intercept_df = None\n",
    "\n",
    "\n",
    "treatment_sets = {}\n",
    "for treatment in study_treatments:\n",
    "    treatment_sets[treatment] = StudyTreatmentSet(umi_ad, [treatment], study_control)\n",
    "\n",
    "if len(study_treatments) > 1:\n",
    "    treatment_sets[\"all\"] = StudyTreatmentSet(umi_ad, study_treatments, study_control)\n",
    "else:\n",
    "    treatment_sets[\"all\"] = treatment_sets[study_treatments[0]]\n",
    "\n",
    "# Restrict focus to the LPS treatment for now\n",
    "focus_treatment_set = treatment_sets[\"lps\"]\n",
    "all_treatment_set = treatment_sets[\"all\"]"
   ]
  },
  {
   "cell_type": "markdown",
   "metadata": {},
   "source": [
    "Calculate and display per condition statistics"
   ]
  },
  {
   "cell_type": "code",
   "execution_count": null,
   "metadata": {},
   "outputs": [],
   "source": [
    "def calculate_condition_stats(self: StudyTreatmentSet):\n",
    "    self.condition_stats_df = pd.DataFrame()\n",
    "\n",
    "    for (replicate, treatment, time_point), group_df in self.umi_counts_ad.obs.groupby([\"replicate\", \"treatment\", \"time_point\"]):\n",
    "        cell_view = self.umi_counts_ad[group_df.index, :]\n",
    "\n",
    "        self.condition_stats_df = self.condition_stats_df.append(\n",
    "            pd.DataFrame(\n",
    "                data={\n",
    "                    \"gene\": study_genes,\n",
    "                    \"replicate\": replicate,\n",
    "                    \"treatment\": treatment,\n",
    "                    \"time_point\": time_point,\n",
    "                    \"n_barcodes\": cell_view.n_obs,\n",
    "                    \"min\": cell_view.X.A.min(axis=0),\n",
    "                    \"max\": cell_view.X.A.max(axis=0),\n",
    "                    \"mean\": cell_view.X.A.mean(axis=0),\n",
    "                    \"variance\": cell_view.X.A.var(axis=0, ddof=1),\n",
    "                    \"std_dev\": cell_view.X.A.std(axis=0, ddof=1),\n",
    "                },\n",
    "            ),\n",
    "            ignore_index=True,\n",
    "        )\n",
    "\n",
    "    self.condition_stats_df = self.condition_stats_df.sort_values([\"gene\", \"replicate\", \"time_point\", \"treatment\"])\n",
    "\n",
    "\n",
    "StudyTreatmentSet.add_method(calculate_condition_stats)\n",
    "\n",
    "for treatment_set in treatment_sets.values():\n",
    "    treatment_set.calculate_condition_stats()\n",
    "\n",
    "condition_stats_df = focus_treatment_set.condition_stats_df\n",
    "display(symbol_map.added_to(condition_stats_df))"
   ]
  },
  {
   "cell_type": "markdown",
   "metadata": {},
   "source": [
    "Display conditions that have a zero mean UMI count"
   ]
  },
  {
   "cell_type": "code",
   "execution_count": null,
   "metadata": {},
   "outputs": [],
   "source": [
    "zero_mean_df = all_treatment_set.condition_stats_df.loc[all_treatment_set.condition_stats_df[\"mean\"] == 0]\n",
    "display(symbol_map.added_to(zero_mean_df))\n",
    "display(zero_mean_df.time_point.value_counts().sort_index())"
   ]
  },
  {
   "cell_type": "markdown",
   "metadata": {},
   "source": [
    "Determine outliers based on (squared) Mahalanobis distance"
   ]
  },
  {
   "cell_type": "code",
   "execution_count": null,
   "metadata": {},
   "outputs": [],
   "source": [
    "def calculate_mahalanobis_distance(df, column_name=\"distance\"):\n",
    "    centroid = df.mean(axis=0)\n",
    "    cov_mtx = np.cov(df, rowvar=False)\n",
    "\n",
    "    try:\n",
    "        inv_cov_mtx = linalg.inv(cov_mtx)\n",
    "        distances = [spatial.distance.mahalanobis(row, centroid, inv_cov_mtx)\n",
    "                     for row in df.to_numpy()]\n",
    "    except linalg.LinAlgError:\n",
    "        distances = np.nan\n",
    "\n",
    "    return pd.DataFrame(\n",
    "        index=df.index,\n",
    "        data={column_name: distances},\n",
    "    )"
   ]
  },
  {
   "cell_type": "code",
   "execution_count": null,
   "metadata": {},
   "outputs": [],
   "source": [
    "def calculate_outliers(self: StudyTreatmentSet, distance_threshold):\n",
    "    mahalanobis_distances = self.condition_stats_df.groupby(\"gene\")[[\"mean\", \"variance\"]].apply(calculate_mahalanobis_distance)\n",
    "    self.condition_stats_df[\"m_distance\"] = mahalanobis_distances.loc[self.condition_stats_df.index]\n",
    "    self.condition_stats_df[\"outlier\"] = self.condition_stats_df.m_distance > distance_threshold\n",
    "\n",
    "\n",
    "StudyTreatmentSet.add_method(calculate_outliers)\n",
    "\n",
    "outlier_distance_threshold = np.sqrt(stats.chi2.ppf(0.95, 2))\n",
    "for treatment_set in treatment_sets.values():\n",
    "    treatment_set.calculate_outliers(outlier_distance_threshold)\n",
    "\n",
    "print(f\"Outliers: {condition_stats_df.outlier.sum():,}\")"
   ]
  },
  {
   "cell_type": "markdown",
   "metadata": {},
   "source": [
    "Plot histograms of mean and variance for all non-outliers"
   ]
  },
  {
   "cell_type": "code",
   "execution_count": null,
   "metadata": {},
   "outputs": [],
   "source": [
    "for stat_name in [\"Mean\", \"Variance\"]:\n",
    "    condition_stats_df.loc[~condition_stats_df.outlier, stat_name.lower()].plot.hist(log=True).set(xlabel=stat_name)\n",
    "    plt.show()\n",
    "\n",
    "condition_stats_df.loc[~condition_stats_df.outlier].groupby(\"gene\")[\"mean\"].max().plot.hist(log=True).set(xlabel=\"Max mean\")\n",
    "plt.show()"
   ]
  },
  {
   "cell_type": "markdown",
   "metadata": {},
   "source": [
    "Fit linear regression model to mean-variance relationship of all genes"
   ]
  },
  {
   "cell_type": "code",
   "execution_count": null,
   "metadata": {},
   "outputs": [],
   "source": [
    "def fit_linear_regression(df, fit_intercept=True):\n",
    "    lr_values = df.to_numpy().reshape(1, -1, 2).T\n",
    "\n",
    "    lr = LinearRegression(fit_intercept=fit_intercept)\n",
    "    lr.fit(*lr_values)\n",
    "\n",
    "    results = {}\n",
    "    results[\"slope\"] = np.squeeze(lr.coef_)\n",
    "    if fit_intercept:\n",
    "        results[\"intercept\"] = np.squeeze(lr.intercept_)\n",
    "    results[\"r2\"] = lr.score(*lr_values)\n",
    "\n",
    "    return pd.Series(results)"
   ]
  },
  {
   "cell_type": "code",
   "execution_count": null,
   "metadata": {},
   "outputs": [],
   "source": [
    "def calculate_linear_regression_fit(self: StudyTreatmentSet):\n",
    "    group = self.condition_stats_df.loc[~self.condition_stats_df.outlier].groupby(\"gene\")[[\"mean\", \"variance\"]]\n",
    "    self.lr_fit_with_intercept_df = group.apply(fit_linear_regression, fit_intercept=True)\n",
    "    self.lr_fit_without_intercept_df = group.apply(fit_linear_regression, fit_intercept=False)\n",
    "\n",
    "\n",
    "StudyTreatmentSet.add_method(calculate_linear_regression_fit)\n",
    "\n",
    "for treatment_set in treatment_sets.values():\n",
    "    treatment_set.calculate_linear_regression_fit()\n",
    "\n",
    "gene_regression_df = focus_treatment_set.lr_fit_with_intercept_df\n",
    "display(symbol_map.added_to(gene_regression_df))"
   ]
  },
  {
   "cell_type": "markdown",
   "metadata": {},
   "source": [
    "Save the descriptive statistics and results of fitting the regression models"
   ]
  },
  {
   "cell_type": "code",
   "execution_count": null,
   "metadata": {},
   "outputs": [],
   "source": [
    "def save_data(self: StudyTreatmentSet, output_path, prefix):\n",
    "    self.condition_stats_df.to_csv(output_path.joinpath(prefix + \"_stats_per_condition_per_gene.csv\"), index=False)\n",
    "    self.lr_fit_with_intercept_df.to_csv(output_path.joinpath(prefix + \"_lr_fit_per_gene.csv\"))\n",
    "\n",
    "\n",
    "StudyTreatmentSet.add_method(save_data)\n",
    "\n",
    "output_path = get_output_path()\n",
    "output_path.mkdir(parents=True, exist_ok=True)\n",
    "\n",
    "for treatment, treatment_set in treatment_sets.items():\n",
    "    file_prefix = f\"{study_species}_{treatment}\"\n",
    "    treatment_set.save_data(output_path, file_prefix)"
   ]
  },
  {
   "cell_type": "markdown",
   "metadata": {},
   "source": [
    "Show mean-variance plots for 10 most variable genes"
   ]
  },
  {
   "cell_type": "code",
   "execution_count": null,
   "metadata": {},
   "outputs": [],
   "source": [
    "plot_outliers = True\n",
    "\n",
    "replicate_colour_map = {\n",
    "    \"1\": \"black\",\n",
    "    \"2\": \"red\",\n",
    "    \"3\": \"blue\",\n",
    "}\n",
    "\n",
    "for gene in gene_variability.index[:10]:\n",
    "    gene_df = condition_stats_df.loc[condition_stats_df.gene == gene]\n",
    "\n",
    "    slope, intercept = gene_regression_df.loc[gene, [\"slope\", \"intercept\"]]\n",
    "\n",
    "    lr_plot_x = gene_df[\"mean\"]\n",
    "    if not plot_outliers:\n",
    "        lr_plot_x = lr_plot_x[~gene_df.outlier]\n",
    "    lr_plot_x = np.sort(lr_plot_x)\n",
    "    lr_plot_y = (lr_plot_x * slope) + intercept\n",
    "\n",
    "    ax = plt.subplot()\n",
    "    if plot_outliers:\n",
    "        gene_df.loc[gene_df.outlier].plot.scatter(\"mean\", \"variance\", ax=ax, marker=\"x\")\n",
    "\n",
    "    for replicate, df in gene_df.loc[~gene_df.outlier].groupby(\"replicate\"):\n",
    "        df.plot.scatter(\"mean\", \"variance\", ax=ax, marker=\"o\", label=replicate, color=replicate_colour_map[replicate])\n",
    "    plt.plot(lr_plot_x, lr_plot_y)\n",
    "    plt.title(f\"{symbol_map.lookup(gene)} / {gene}\")\n",
    "    plt.xlabel(\"Mean\")\n",
    "    plt.ylabel(\"Variance\")\n",
    "    plt.xlim(left=min(0, np.min(lr_plot_x)))\n",
    "    plt.ylim(bottom=min(0, np.min(lr_plot_y)))\n",
    "    plt.legend(title=\"Replicate\")\n",
    "    plt.show()"
   ]
  },
  {
   "cell_type": "code",
   "execution_count": null,
   "metadata": {},
   "outputs": [],
   "source": []
  }
 ],
 "metadata": {
  "jupytext": {
   "formats": "ipynb,.ipynb.py:percent"
  },
  "kernelspec": {
   "display_name": "Python 3",
   "language": "python",
   "name": "python3"
  },
  "language_info": {
   "codemirror_mode": {
    "name": "ipython",
    "version": 3
   },
   "file_extension": ".py",
   "mimetype": "text/x-python",
   "name": "python",
   "nbconvert_exporter": "python",
   "pygments_lexer": "ipython3",
   "version": "3.8.2"
  }
 },
 "nbformat": 4,
 "nbformat_minor": 4
}
