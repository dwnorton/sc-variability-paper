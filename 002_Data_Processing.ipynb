{
 "cells": [
  {
   "cell_type": "code",
   "execution_count": null,
   "metadata": {},
   "outputs": [],
   "source": [
    "import anndata\n",
    "import matplotlib.pyplot as plt\n",
    "import numpy as np\n",
    "import pandas as pd\n",
    "\n",
    "from sklearn.linear_model import LinearRegression\n",
    "\n",
    "from rp2 import get_data_path"
   ]
  },
  {
   "cell_type": "code",
   "execution_count": null,
   "metadata": {},
   "outputs": [],
   "source": [
    "phagocyte_genes_df = pd.read_excel(\n",
    "    get_data_path(\"hagai_2018\", \"41586_2018_657_MOESM4_ESM.xlsx\"),\n",
    "    sheet_name=\"phagocytes_FC_diveregnce\"\n",
    ")\n",
    "display(phagocyte_genes_df)"
   ]
  },
  {
   "cell_type": "code",
   "execution_count": null,
   "metadata": {},
   "outputs": [],
   "source": [
    "responsive_phagocyte_genes = phagocyte_genes_df.loc[phagocyte_genes_df.mouse_padj < 0.01].gene\n",
    "print(f\"{len(responsive_phagocyte_genes):,} responsive phagocyte genes\")"
   ]
  },
  {
   "cell_type": "markdown",
   "metadata": {},
   "source": [
    "Load Hagai *et al.* (2018) UMI counds and prepare them for mean-variance calculations"
   ]
  },
  {
   "cell_type": "code",
   "execution_count": null,
   "metadata": {},
   "outputs": [],
   "source": [
    "ae_path = get_data_path(\"ArrayExpress\")\n",
    "\n",
    "mv_genes = responsive_phagocyte_genes\n",
    "mv_replicates = [\"1\", \"2\", \"3\"]\n",
    "mv_treatments = [\"unst\", \"lps\"]\n",
    "mv_time_points = [\"0\", \"2\", \"4\", \"6\"]\n",
    "\n",
    "adata = anndata.read_h5ad(ae_path.joinpath(\"E-MTAB-6754.processed.2.mouse.h5ad\"))\n",
    "adata = adata[:, mv_genes]\n",
    "adata = adata[adata.obs.replicate.isin(mv_replicates), :]\n",
    "adata = adata[adata.obs.treatment.isin(mv_treatments), :]\n",
    "adata = adata[adata.obs.time_point.isin(mv_time_points), :]\n",
    "adata = adata.copy()"
   ]
  },
  {
   "cell_type": "code",
   "execution_count": null,
   "metadata": {},
   "outputs": [],
   "source": [
    "gene_variability = pd.Series(index=adata.var.index, data=adata.X.A.var(axis=0)).sort_values(ascending=False)\n",
    "print(gene_variability)"
   ]
  },
  {
   "cell_type": "code",
   "execution_count": null,
   "metadata": {},
   "outputs": [],
   "source": [
    "gene_stats_df = pd.DataFrame()\n",
    "\n",
    "for (replicate, treatment, time_point), group_df in adata.obs.groupby([\"replicate\", \"treatment\", \"time_point\"]):\n",
    "    print(f\"Calculating mean and variance for replicate {replicate} treatment {treatment} time point {time_point}\")\n",
    "\n",
    "    cell_view = adata[group_df.index, :]\n",
    "\n",
    "    gene_stats_df = gene_stats_df.append(pd.DataFrame(data={\n",
    "        \"gene\": mv_genes,\n",
    "        \"replicate\": replicate,\n",
    "        \"treatment\": treatment,\n",
    "        \"time_point\": time_point,\n",
    "        \"n_barcodes\": cell_view.n_obs,\n",
    "        \"mean\": cell_view.X.A.mean(axis=0),\n",
    "        \"variance\": cell_view.X.A.var(axis=0, ddof=1),\n",
    "        \"std_dev\": cell_view.X.A.std(axis=0, ddof=1),\n",
    "    }))\n",
    "\n",
    "display(gene_stats_df)"
   ]
  },
  {
   "cell_type": "markdown",
   "metadata": {},
   "source": [
    "Show mean-regression plots for 10 most variable genes"
   ]
  },
  {
   "cell_type": "code",
   "execution_count": null,
   "metadata": {},
   "outputs": [],
   "source": [
    "for gene in gene_variability.index[:10]:\n",
    "    gene_df = gene_stats_df.loc[gene_stats_df.gene == gene]\n",
    "    mean_values = gene_df[\"mean\"].values.reshape(-1, 1)\n",
    "    var_values = gene_df[\"variance\"].values.reshape(-1, 1)\n",
    "\n",
    "    lr = LinearRegression().fit(mean_values, var_values)\n",
    "    lr_y = lr.predict(mean_values)\n",
    "\n",
    "    plt.scatter(mean_values, var_values)\n",
    "    plt.plot(mean_values, lr_y)\n",
    "    plt.title(gene)\n",
    "    plt.xlabel(\"Mean\")\n",
    "    plt.ylabel(\"Variance\")\n",
    "    plt.xlim(left=min(0, np.min(mean_values)))\n",
    "    plt.ylim(bottom=min(0, np.min(lr_y)))\n",
    "    plt.show()"
   ]
  },
  {
   "cell_type": "code",
   "execution_count": null,
   "metadata": {},
   "outputs": [],
   "source": []
  }
 ],
 "metadata": {
  "kernelspec": {
   "display_name": "Python 3",
   "language": "python",
   "name": "python3"
  },
  "language_info": {
   "codemirror_mode": {
    "name": "ipython",
    "version": 3
   },
   "file_extension": ".py",
   "mimetype": "text/x-python",
   "name": "python",
   "nbconvert_exporter": "python",
   "pygments_lexer": "ipython3",
   "version": "3.8.2"
  }
 },
 "nbformat": 4,
 "nbformat_minor": 4
}
