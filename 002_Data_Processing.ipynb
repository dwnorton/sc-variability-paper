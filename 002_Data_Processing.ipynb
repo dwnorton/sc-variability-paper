{
 "cells": [
  {
   "cell_type": "markdown",
   "metadata": {},
   "source": [
    "This notebook loads and processes data associated with Hagai *et al.* (2018)"
   ]
  },
  {
   "cell_type": "code",
   "execution_count": null,
   "metadata": {},
   "outputs": [],
   "source": [
    "import anndata\n",
    "import matplotlib.pyplot as plt\n",
    "import numpy as np\n",
    "import pandas as pd\n",
    "import seaborn as sns\n",
    "from IPython.core.display import display\n",
    "from scipy import linalg, spatial, stats\n",
    "from sklearn.linear_model import LinearRegression\n",
    "\n",
    "from rp2 import get_data_path, get_output_path, GeneSymbolMap"
   ]
  },
  {
   "cell_type": "markdown",
   "metadata": {},
   "source": [
    "# 1. Loading and preparing data<a id=\"1\" />\n",
    "\n",
    "## 1.1. Settings<a id=\"1_1\" />"
   ]
  },
  {
   "cell_type": "code",
   "execution_count": null,
   "metadata": {},
   "outputs": [],
   "source": [
    "study_species = \"mouse\"\n",
    "study_replicates = [\"1\", \"2\", \"3\"]\n",
    "study_control = \"unst\"\n",
    "study_treatments = [\"lps\", \"pic\"]\n",
    "study_time_points = [\"0\", \"2\", \"4\", \"6\"]\n",
    "\n",
    "maximum_responsive_gene_padj = 0.01"
   ]
  },
  {
   "cell_type": "markdown",
   "metadata": {},
   "source": [
    "## 1.2. List of \"responsive\" genes<a id=\"1_2\" />"
   ]
  },
  {
   "cell_type": "code",
   "execution_count": null,
   "metadata": {},
   "outputs": [],
   "source": [
    "phagocyte_genes_df = pd.read_excel(\n",
    "    get_data_path(\"hagai_2018\", \"41586_2018_657_MOESM4_ESM.xlsx\"),\n",
    "    sheet_name=\"phagocytes_FC_diveregnce\"\n",
    ")\n",
    "display(phagocyte_genes_df.head())"
   ]
  },
  {
   "cell_type": "code",
   "execution_count": null,
   "metadata": {},
   "outputs": [],
   "source": [
    "responsive_phagocyte_genes = phagocyte_genes_df.loc[phagocyte_genes_df[f\"{study_species}_padj\"] < maximum_responsive_gene_padj].gene\n",
    "print(f\"{len(responsive_phagocyte_genes):,} responsive phagocyte genes\")"
   ]
  },
  {
   "cell_type": "markdown",
   "metadata": {},
   "source": [
    "Create a map between gene IDs and symbols"
   ]
  },
  {
   "cell_type": "code",
   "execution_count": null,
   "metadata": {},
   "outputs": [],
   "source": [
    "gene_symbols_df = pd.read_table(\n",
    "    get_data_path(\"BioMart\", f\"{study_species}_genes.tsv\"),\n",
    "    names=[\"id\", \"symbol\", \"description\"],\n",
    "    index_col=0\n",
    ")\n",
    "symbol_map = GeneSymbolMap(gene_symbols_df)"
   ]
  },
  {
   "cell_type": "markdown",
   "metadata": {},
   "source": [
    "## 1.3. UMI counts<a id=\"1_3\" />\n",
    "\n",
    "Load the UMI counts and reduce the dataset to values of interest (to optimise memory usage and access performance)"
   ]
  },
  {
   "cell_type": "code",
   "execution_count": null,
   "metadata": {},
   "outputs": [],
   "source": [
    "array_express_path = get_data_path(\"ArrayExpress\")\n",
    "umi_ad = anndata.read_h5ad(array_express_path.joinpath(f\"E-MTAB-6754.processed.2.{study_species}.h5ad\"))\n",
    "\n",
    "umi_ad = umi_ad[:, responsive_phagocyte_genes]\n",
    "umi_ad = umi_ad[umi_ad.obs.replicate.isin(study_replicates), :]\n",
    "umi_ad = umi_ad[umi_ad.obs.treatment.isin(study_treatments + [study_control]), :]\n",
    "umi_ad = umi_ad[umi_ad.obs.time_point.isin(study_time_points), :]\n",
    "umi_ad = umi_ad.copy()"
   ]
  },
  {
   "cell_type": "markdown",
   "metadata": {},
   "source": [
    "Create a StudyTreatmentSet for each treatment of interest so they may each be analysed"
   ]
  },
  {
   "cell_type": "code",
   "execution_count": null,
   "metadata": {},
   "outputs": [],
   "source": [
    "class StudyTreatmentSet:\n",
    "    @staticmethod\n",
    "    def add_method(method):\n",
    "        setattr(StudyTreatmentSet, method.__name__, method)\n",
    "\n",
    "    def __init__(self, umi_counts_ad, treatments, control_name):\n",
    "        all_treatments = treatments + [control_name]\n",
    "        self.umi_counts_ad = umi_counts_ad[umi_counts_ad.obs.treatment.isin(all_treatments), :]\n",
    "        self.condition_stats_df = None\n",
    "        self.lr_fit_with_intercept_df = None\n",
    "        self.lr_fit_without_intercept_df = None\n",
    "\n",
    "    @property\n",
    "    def number_of_genes(self):\n",
    "        return self.umi_counts_ad.n_vars\n",
    "\n",
    "    @property\n",
    "    def number_of_conditions(self):\n",
    "        return len(self.umi_counts_ad.obs.loc[:, [\"replicate\", \"treatment\", \"time_point\"]].drop_duplicates())\n",
    "\n",
    "    def check_integrity(self):\n",
    "        gene_set = set(self.umi_counts_ad.var_names)\n",
    "        if self.condition_stats_df is not None:\n",
    "            assert(gene_set == set(self.condition_stats_df.gene))\n",
    "\n",
    "    def drop_genes(self, genes):\n",
    "        self.umi_counts_ad = self.umi_counts_ad[:, ~self.umi_counts_ad.var_names.isin(genes)]\n",
    "        self.condition_stats_df = self.condition_stats_df.loc[~self.condition_stats_df.gene.isin(genes)]\n",
    "\n",
    "        self.check_integrity()\n",
    "\n",
    "\n",
    "treatment_sets = {}\n",
    "for treatment in study_treatments:\n",
    "    treatment_sets[treatment] = StudyTreatmentSet(umi_ad, [treatment], study_control)\n",
    "\n",
    "treatment_sets[\"all\"] = StudyTreatmentSet(umi_ad, study_treatments, study_control)\n",
    "\n",
    "for set_name, treatment_set in treatment_sets.items():\n",
    "    print(f'\"{set_name}\" treatment set:')\n",
    "    print(f\"  {treatment_set.number_of_genes} genes\")\n",
    "    print(f\"  {treatment_set.number_of_conditions} conditions\")"
   ]
  },
  {
   "cell_type": "markdown",
   "metadata": {},
   "source": [
    "# 2. Quality control<a id=\"2\" />\n",
    "\n",
    "## 2.1. Settings<a id=\"2_1\" />"
   ]
  },
  {
   "cell_type": "code",
   "execution_count": null,
   "metadata": {},
   "outputs": [],
   "source": [
    "minimum_samples_per_gene = 6"
   ]
  },
  {
   "cell_type": "markdown",
   "metadata": {},
   "source": [
    "## 2.2 Remove undersampled genes<a id=\"2_2\" />\n",
    "\n",
    "Calculate per condition statistics (for each treatment set)"
   ]
  },
  {
   "cell_type": "code",
   "execution_count": null,
   "metadata": {},
   "outputs": [],
   "source": [
    "def calculate_condition_stats(self: StudyTreatmentSet):\n",
    "    self.condition_stats_df = pd.DataFrame()\n",
    "\n",
    "    for (replicate, treatment, time_point), group_df in self.umi_counts_ad.obs.groupby([\"replicate\", \"treatment\", \"time_point\"]):\n",
    "        cell_view = self.umi_counts_ad[group_df.index, :]\n",
    "\n",
    "        self.condition_stats_df = self.condition_stats_df.append(\n",
    "            pd.DataFrame(\n",
    "                data={\n",
    "                    \"gene\": cell_view.var_names,\n",
    "                    \"replicate\": replicate,\n",
    "                    \"treatment\": treatment,\n",
    "                    \"time_point\": time_point,\n",
    "                    \"n_barcodes\": cell_view.n_obs,\n",
    "                    \"min\": cell_view.X.A.min(axis=0),\n",
    "                    \"max\": cell_view.X.A.max(axis=0),\n",
    "                    \"mean\": cell_view.X.A.mean(axis=0),\n",
    "                    \"variance\": cell_view.X.A.var(axis=0, ddof=1),\n",
    "                    \"std_dev\": cell_view.X.A.std(axis=0, ddof=1),\n",
    "                },\n",
    "            ),\n",
    "            ignore_index=True,\n",
    "        )\n",
    "\n",
    "    self.condition_stats_df = self.condition_stats_df.sort_values([\"gene\", \"replicate\", \"time_point\", \"treatment\"])\n",
    "\n",
    "\n",
    "StudyTreatmentSet.add_method(calculate_condition_stats)\n",
    "\n",
    "for treatment_set in treatment_sets.values():\n",
    "    treatment_set.calculate_condition_stats()\n",
    "    display(symbol_map.added_to(treatment_set.condition_stats_df).head())"
   ]
  },
  {
   "cell_type": "markdown",
   "metadata": {},
   "source": [
    "Drop undersampled genes (those that have too few conditions with a non-zero mean UMI count)"
   ]
  },
  {
   "cell_type": "code",
   "execution_count": null,
   "metadata": {},
   "outputs": [],
   "source": [
    "for set_name, treatment_set in treatment_sets.items():\n",
    "    n_non_zero_means_series = treatment_set.condition_stats_df.groupby(\"gene\", as_index=True)[\"mean\"].apply(np.count_nonzero)\n",
    "    undersampled_genes = n_non_zero_means_series[n_non_zero_means_series < minimum_samples_per_gene].index\n",
    "    treatment_set.drop_genes(undersampled_genes)\n",
    "    print(f'\"{set_name}\" dropped {len(undersampled_genes)} genes ({treatment_set.number_of_genes} remaining)')"
   ]
  },
  {
   "cell_type": "markdown",
   "metadata": {},
   "source": [
    "Enumerate remaining conditions with zero mean UMI count by time point (for each treatment set)"
   ]
  },
  {
   "cell_type": "code",
   "execution_count": null,
   "metadata": {},
   "outputs": [],
   "source": [
    "def drop_sample_points(self: StudyTreatmentSet, condition_ids):\n",
    "    self.condition_stats_df = self.condition_stats_df.drop(index=condition_ids)\n",
    "    self.check_integrity()\n",
    "\n",
    "\n",
    "StudyTreatmentSet.add_method(drop_sample_points)\n",
    "\n",
    "remove_all_zero_mean_samples = True\n",
    "\n",
    "for set_name, treatment_set in treatment_sets.items():\n",
    "    print(f'Zero mean conditions remaining for \"{set_name}\" treatment set:')\n",
    "    zero_mean_series = treatment_set.condition_stats_df.loc[treatment_set.condition_stats_df[\"mean\"] == 0, \"time_point\"]\n",
    "    for time_point, n in zero_mean_series.value_counts().sort_index().iteritems():\n",
    "        print(f\"  {n} at time point {time_point}\")\n",
    "\n",
    "    if remove_all_zero_mean_samples:\n",
    "        treatment_set.drop_sample_points(zero_mean_series.index)"
   ]
  },
  {
   "cell_type": "markdown",
   "metadata": {},
   "source": [
    "## 2.3 Remove genes with low abundance<a id=\"2_3\" />"
   ]
  },
  {
   "cell_type": "code",
   "execution_count": null,
   "metadata": {},
   "outputs": [],
   "source": [
    "minimum_max_mean = 2\n",
    "\n",
    "for set_name, treatment_set in treatment_sets.items():\n",
    "    print(f'\"{set_name}\" treatment set:')\n",
    "    max_mean_series = treatment_set.condition_stats_df.groupby(\"gene\")[\"mean\"].apply(np.max).sort_values()\n",
    "\n",
    "    rejected_genes = max_mean_series[max_mean_series < minimum_max_mean]\n",
    "    print(f\"  {len(rejected_genes):,} genes rejected ({len(max_mean_series) - len(rejected_genes):,} remaining)\")\n",
    "\n",
    "    max_mean_series.plot.hist(figsize=(16, 4), bins=40, log=True).set(xlabel=\"Max mean\")\n",
    "    plt.axvline(x=minimum_max_mean)\n",
    "    plt.show()\n",
    "\n",
    "    if len(rejected_genes) == 0:\n",
    "        continue\n",
    "\n",
    "    top_rejected_genes = rejected_genes[-4:]\n",
    "    print(f\"  Top {len(top_rejected_genes)} rejections:\")\n",
    "    _, axes = plt.subplots(1, len(top_rejected_genes), figsize=(4 * len(top_rejected_genes), 4))\n",
    "    for gene_id, ax in zip(top_rejected_genes.index, axes.flatten()):\n",
    "        treatment_set.condition_stats_df.loc[treatment_set.condition_stats_df.gene == gene_id].plot.scatter(\"mean\", \"variance\", ax=ax)\n",
    "        ax.set_title(symbol_map.lookup(gene_id))\n",
    "        ax.set_xlim(0, minimum_max_mean)\n",
    "        ax.set_ylim(0)\n",
    "    plt.show()\n",
    "\n",
    "    treatment_set.drop_genes(rejected_genes.index)"
   ]
  },
  {
   "cell_type": "markdown",
   "metadata": {},
   "source": [
    "## 2.4 Detect outliers<a id=\"2_4\" />"
   ]
  },
  {
   "cell_type": "markdown",
   "metadata": {},
   "source": [
    "Determine outliers based on Mahalanobis distance"
   ]
  },
  {
   "cell_type": "code",
   "execution_count": null,
   "metadata": {},
   "outputs": [],
   "source": [
    "def calculate_mahalanobis_distance(df, column_name=\"distance\"):\n",
    "    centroid = df.mean(axis=0)\n",
    "    cov_mtx = np.cov(df, rowvar=False)\n",
    "    inv_cov_mtx = linalg.inv(cov_mtx)\n",
    "    distances = [spatial.distance.mahalanobis(row, centroid, inv_cov_mtx)\n",
    "                 for row in df.to_numpy()]\n",
    "\n",
    "    return pd.DataFrame(\n",
    "        index=df.index,\n",
    "        data={column_name: distances},\n",
    "    )"
   ]
  },
  {
   "cell_type": "code",
   "execution_count": null,
   "metadata": {},
   "outputs": [],
   "source": [
    "def calculate_outliers(self: StudyTreatmentSet, distance_threshold):\n",
    "    mahalanobis_distances = self.condition_stats_df.groupby(\"gene\")[[\"mean\", \"variance\"]].apply(calculate_mahalanobis_distance)\n",
    "    self.condition_stats_df[\"m_distance\"] = mahalanobis_distances.loc[self.condition_stats_df.index]\n",
    "    self.condition_stats_df[\"outlier\"] = self.condition_stats_df.m_distance > distance_threshold\n",
    "\n",
    "\n",
    "StudyTreatmentSet.add_method(calculate_outliers)\n",
    "\n",
    "outlier_distance_threshold = np.sqrt(stats.chi2.ppf(0.95, 2))\n",
    "\n",
    "for set_name, treatment_set in treatment_sets.items():\n",
    "    treatment_set.calculate_outliers(outlier_distance_threshold)\n",
    "    n_outliers = np.count_nonzero(treatment_set.condition_stats_df.outlier)\n",
    "    print(f'{n_outliers:,} outliers in \"{set_name}\" treatment set')"
   ]
  },
  {
   "cell_type": "code",
   "execution_count": null,
   "metadata": {},
   "outputs": [],
   "source": [
    "def count_zero(a):\n",
    "    return np.count_nonzero(a == 0)\n",
    "\n",
    "\n",
    "for set_name, treatment_set in treatment_sets.items():\n",
    "    n_non_outlier_series = treatment_set.condition_stats_df.groupby(\"gene\", as_index=True)[\"outlier\"].apply(count_zero).sort_values()\n",
    "    undersampled_genes = n_non_outlier_series[n_non_outlier_series < minimum_samples_per_gene].index\n",
    "    print(f'\"{set_name}\" has {len(undersampled_genes)} undersampled genes if outliers are discounted')"
   ]
  },
  {
   "cell_type": "markdown",
   "metadata": {},
   "source": [
    "# 3. Mean-variance plots<a id=\"3\" />\n",
    "\n",
    "## 3.1 Fit regression models<a id=\"3_1\" />\n",
    "\n",
    "Fit linear regression model to mean-variance relationship of all genes for all treatment sets"
   ]
  },
  {
   "cell_type": "code",
   "execution_count": null,
   "metadata": {},
   "outputs": [],
   "source": [
    "def fit_linear_regression(df, fit_intercept=True):\n",
    "    lr_values = df.to_numpy().reshape(1, -1, 2).T\n",
    "\n",
    "    lr = LinearRegression(fit_intercept=fit_intercept)\n",
    "    lr.fit(*lr_values)\n",
    "\n",
    "    results = {}\n",
    "    results[\"slope\"] = np.squeeze(lr.coef_)\n",
    "    if fit_intercept:\n",
    "        results[\"intercept\"] = np.squeeze(lr.intercept_)\n",
    "    results[\"r2\"] = lr.score(*lr_values)\n",
    "\n",
    "    return pd.Series(results)"
   ]
  },
  {
   "cell_type": "code",
   "execution_count": null,
   "metadata": {},
   "outputs": [],
   "source": [
    "def calculate_linear_regression_fit(self: StudyTreatmentSet):\n",
    "    group = self.condition_stats_df.loc[~self.condition_stats_df.outlier].groupby(\"gene\")[[\"mean\", \"variance\"]]\n",
    "    self.lr_fit_with_intercept_df = group.apply(fit_linear_regression, fit_intercept=True)\n",
    "    self.lr_fit_without_intercept_df = group.apply(fit_linear_regression, fit_intercept=False)\n",
    "\n",
    "\n",
    "StudyTreatmentSet.add_method(calculate_linear_regression_fit)\n",
    "\n",
    "r2_scores_df = []\n",
    "\n",
    "for set_name, treatment_set in treatment_sets.items():\n",
    "    treatment_set.calculate_linear_regression_fit()\n",
    "    r2_scores_df.append(pd.DataFrame(data={\n",
    "        \"set\": set_name,\n",
    "        \"intercept\": True,\n",
    "        \"r2\": treatment_set.lr_fit_with_intercept_df.r2\n",
    "    }))\n",
    "    r2_scores_df.append(pd.DataFrame(data={\n",
    "        \"set\": set_name,\n",
    "        \"intercept\": False,\n",
    "        \"r2\": treatment_set.lr_fit_without_intercept_df.r2\n",
    "    }))\n",
    "    print(f'\"{set_name}\" mean R2 values:')\n",
    "    print(f\"  With intercept: {treatment_set.lr_fit_with_intercept_df.r2.mean():.2f}\")\n",
    "    print(f\"  Without intercept: {treatment_set.lr_fit_without_intercept_df.r2.mean():.2f}\")\n",
    "\n",
    "r2_scores_df = pd.concat(r2_scores_df)\n",
    "sns.boxplot(\n",
    "    x=\"set\",\n",
    "    y=\"r2\",\n",
    "    hue=\"intercept\",\n",
    "    data=r2_scores_df,\n",
    ")\n",
    "plt.ylim(bottom=0.6)\n",
    "plt.legend(loc=\"upper left\", bbox_to_anchor=(1, 1))\n",
    "plt.show()"
   ]
  },
  {
   "cell_type": "markdown",
   "metadata": {},
   "source": [
    "## 3.2 Save results<a id=\"3_2\" />\n",
    "\n",
    "Save the descriptive statistics and results of fitting the regression models"
   ]
  },
  {
   "cell_type": "code",
   "execution_count": null,
   "metadata": {},
   "outputs": [],
   "source": [
    "def save_data(self: StudyTreatmentSet, output_path, prefix):\n",
    "    self.condition_stats_df.to_csv(output_path.joinpath(prefix + \"_stats_per_condition_per_gene.csv\"), index=False)\n",
    "    self.lr_fit_with_intercept_df.to_csv(output_path.joinpath(prefix + \"_lr_fit_per_gene.csv\"))\n",
    "\n",
    "\n",
    "StudyTreatmentSet.add_method(save_data)\n",
    "\n",
    "output_path = get_output_path()\n",
    "output_path.mkdir(parents=True, exist_ok=True)\n",
    "\n",
    "for treatment, treatment_set in treatment_sets.items():\n",
    "    file_prefix = f\"{study_species}_{treatment}\"\n",
    "    treatment_set.save_data(output_path, file_prefix)"
   ]
  },
  {
   "cell_type": "markdown",
   "metadata": {},
   "source": [
    "## 3.3 Display plots<a id=\"3_3\" />\n",
    "\n",
    "Show mean-variance plots for 10 most variable genes"
   ]
  },
  {
   "cell_type": "code",
   "execution_count": null,
   "metadata": {},
   "outputs": [],
   "source": [
    "common_genes = set.intersection(*[set(treatment_set.umi_counts_ad.var_names)\n",
    "                                  for treatment_set in treatment_sets.values()])\n",
    "print(f\"{len(common_genes):,} genes common to all treatment sets\")\n",
    "\n",
    "# Calculate a rough estimate of gene variability\n",
    "gene_variability = pd.Series(index=umi_ad.var.index, data=umi_ad.X.A.var(axis=0))\n",
    "gene_variability = gene_variability[common_genes].sort_values(ascending=False)\n",
    "\n",
    "points_treatment_set = treatment_sets[\"all\"]\n",
    "\n",
    "for gene_id in gene_variability.index[:10]:\n",
    "    gene_df = points_treatment_set.condition_stats_df.loc[points_treatment_set.condition_stats_df.gene == gene_id]\n",
    "\n",
    "    ax = plt.subplot()\n",
    "\n",
    "    sns.scatterplot(\n",
    "        data=gene_df,\n",
    "        x=\"mean\",\n",
    "        y=\"variance\",\n",
    "        hue=\"treatment\",\n",
    "        style=\"replicate\",\n",
    "        ax=ax,\n",
    "    )\n",
    "\n",
    "    line_df = []\n",
    "\n",
    "    for set_name, treatment_set in treatment_sets.items():\n",
    "        slope, intercept = treatment_set.lr_fit_with_intercept_df.loc[gene_id, [\"slope\", \"intercept\"]]\n",
    "        slope2 = treatment_set.lr_fit_without_intercept_df.loc[gene_id, \"slope\"]\n",
    "\n",
    "        lr_plot_x = np.asarray([0, gene_df[\"mean\"].max()])\n",
    "\n",
    "        line_df.append(pd.DataFrame(data={\n",
    "            \"set\": set_name,\n",
    "            \"intercept\": True,\n",
    "            \"mean\": lr_plot_x,\n",
    "            \"variance\": (lr_plot_x * slope) + intercept,\n",
    "        }))\n",
    "        line_df.append(pd.DataFrame(data={\n",
    "            \"set\": set_name,\n",
    "            \"intercept\": False,\n",
    "            \"mean\": lr_plot_x,\n",
    "            \"variance\": lr_plot_x * slope2,\n",
    "        }))\n",
    "\n",
    "    line_df = pd.concat(line_df)\n",
    "\n",
    "    sns.lineplot(\n",
    "        x=\"mean\",\n",
    "        y=\"variance\",\n",
    "        data=line_df,\n",
    "        hue=\"set\",\n",
    "        style=\"intercept\",\n",
    "        ax=ax,\n",
    "    )\n",
    "\n",
    "    plt.title(f\"{symbol_map.lookup(gene_id)} / {gene_id}\")\n",
    "    plt.xlabel(\"Mean\")\n",
    "    plt.ylabel(\"Variance\")\n",
    "    plt.xlim(left=0)\n",
    "    plt.ylim(bottom=0)\n",
    "    plt.legend(loc=\"upper left\", bbox_to_anchor=(1, 1))\n",
    "    plt.show()"
   ]
  },
  {
   "cell_type": "code",
   "execution_count": null,
   "metadata": {},
   "outputs": [],
   "source": []
  }
 ],
 "metadata": {
  "jupytext": {
   "formats": "ipynb,.ipynb.py:percent"
  },
  "kernelspec": {
   "display_name": "Python 3",
   "language": "python",
   "name": "python3"
  },
  "language_info": {
   "codemirror_mode": {
    "name": "ipython",
    "version": 3
   },
   "file_extension": ".py",
   "mimetype": "text/x-python",
   "name": "python",
   "nbconvert_exporter": "python",
   "pygments_lexer": "ipython3",
   "version": "3.8.2"
  }
 },
 "nbformat": 4,
 "nbformat_minor": 4
}
