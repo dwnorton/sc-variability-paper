{
 "cells": [
  {
   "cell_type": "code",
   "execution_count": null,
   "metadata": {},
   "outputs": [],
   "source": [
    "import anndata\n",
    "import matplotlib.pyplot as plt\n",
    "import numpy as np\n",
    "import pandas as pd\n",
    "\n",
    "from scipy import linalg, spatial, stats\n",
    "from sklearn.linear_model import LinearRegression\n",
    "\n",
    "from rp2 import get_data_path, get_output_path, GeneSymbolMap"
   ]
  },
  {
   "cell_type": "code",
   "execution_count": null,
   "metadata": {},
   "outputs": [],
   "source": [
    "phagocyte_genes_df = pd.read_excel(\n",
    "    get_data_path(\"hagai_2018\", \"41586_2018_657_MOESM4_ESM.xlsx\"),\n",
    "    sheet_name=\"phagocytes_FC_diveregnce\"\n",
    ")\n",
    "display(phagocyte_genes_df)"
   ]
  },
  {
   "cell_type": "code",
   "execution_count": null,
   "metadata": {},
   "outputs": [],
   "source": [
    "responsive_phagocyte_genes = phagocyte_genes_df.loc[phagocyte_genes_df.mouse_padj < 0.01].gene\n",
    "print(f\"{len(responsive_phagocyte_genes):,} responsive phagocyte genes\")"
   ]
  },
  {
   "cell_type": "markdown",
   "metadata": {},
   "source": [
    "Load Hagai *et al.* (2018) UMI counds and prepare them for mean-variance calculations"
   ]
  },
  {
   "cell_type": "code",
   "execution_count": null,
   "metadata": {},
   "outputs": [],
   "source": [
    "ae_path = get_data_path(\"ArrayExpress\")\n",
    "\n",
    "mv_genes = responsive_phagocyte_genes\n",
    "mv_replicates = [\"1\", \"2\", \"3\"]\n",
    "mv_treatments = [\"unst\", \"lps\"]\n",
    "mv_time_points = [\"0\", \"2\", \"4\", \"6\"]\n",
    "\n",
    "adata = anndata.read_h5ad(ae_path.joinpath(\"E-MTAB-6754.processed.2.mouse.h5ad\"))\n",
    "adata = adata[:, mv_genes]\n",
    "adata = adata[adata.obs.replicate.isin(mv_replicates), :]\n",
    "adata = adata[adata.obs.treatment.isin(mv_treatments), :]\n",
    "adata = adata[adata.obs.time_point.isin(mv_time_points), :]\n",
    "adata = adata.copy()"
   ]
  },
  {
   "cell_type": "code",
   "execution_count": null,
   "metadata": {},
   "outputs": [],
   "source": [
    "gene_variability = pd.Series(index=adata.var.index, data=adata.X.A.var(axis=0)).sort_values(ascending=False)\n",
    "print(gene_variability)"
   ]
  },
  {
   "cell_type": "code",
   "execution_count": null,
   "metadata": {},
   "outputs": [],
   "source": [
    "mouse_genes_df = pd.read_table(get_data_path(\"BioMart\", \"mouse_genes.tsv\"), names=[\"id\", \"symbol\", \"description\"], index_col=0)\n",
    "symbol_map = GeneSymbolMap(mouse_genes_df)"
   ]
  },
  {
   "cell_type": "code",
   "execution_count": null,
   "metadata": {},
   "outputs": [],
   "source": [
    "gene_stats_df = pd.DataFrame()\n",
    "\n",
    "for (replicate, treatment, time_point), group_df in adata.obs.groupby([\"replicate\", \"treatment\", \"time_point\"]):\n",
    "    print(f\"Calculating mean and variance for replicate={replicate}, treatment={treatment}, time={time_point}h\")\n",
    "\n",
    "    cell_view = adata[group_df.index, :]\n",
    "\n",
    "    gene_stats_df = gene_stats_df.append(\n",
    "        pd.DataFrame(\n",
    "            data={\n",
    "                \"gene\": mv_genes,\n",
    "                \"replicate\": replicate,\n",
    "                \"treatment\": treatment,\n",
    "                \"time_point\": time_point,\n",
    "                \"n_barcodes\": cell_view.n_obs,\n",
    "                \"mean\": cell_view.X.A.mean(axis=0),\n",
    "                \"variance\": cell_view.X.A.var(axis=0, ddof=1),\n",
    "                \"std_dev\": cell_view.X.A.std(axis=0, ddof=1),\n",
    "            },\n",
    "        ),\n",
    "        ignore_index=True,\n",
    "    )\n",
    "\n",
    "gene_stats_df = gene_stats_df.sort_values([\"gene\", \"replicate\", \"time_point\", \"treatment\"])\n",
    "display(symbol_map.added_to(gene_stats_df))"
   ]
  },
  {
   "cell_type": "markdown",
   "metadata": {},
   "source": [
    "Determine outliers based on (squared) Mahalanobis distance"
   ]
  },
  {
   "cell_type": "code",
   "execution_count": null,
   "metadata": {},
   "outputs": [],
   "source": [
    "gene_stats_df[\"outlier\"] = False\n",
    "\n",
    "outlier_distance_threshold = np.sqrt(stats.chi2.ppf(0.95, 2))\n",
    "\n",
    "for _, gene_df in gene_stats_df.groupby(\"gene\"):\n",
    "    mean_var = gene_df.loc[:, [\"mean\", \"variance\"]].to_numpy()\n",
    "    centroid = mean_var.mean(axis=0)\n",
    "\n",
    "    mv_cov = np.cov(mean_var, rowvar=False)\n",
    "    mv_cov_inv = linalg.inv(mv_cov)\n",
    "\n",
    "    outlier_ids = []\n",
    "    for idx, mv in zip(gene_df.index, mean_var):\n",
    "        distance = spatial.distance.mahalanobis(mv, centroid, mv_cov_inv)\n",
    "        if distance > outlier_distance_threshold:\n",
    "            outlier_ids.append(idx)\n",
    "\n",
    "    gene_stats_df.loc[outlier_ids, \"outlier\"] = True\n",
    "\n",
    "print(f\"Outliers: {gene_stats_df.outlier.sum():,}\")"
   ]
  },
  {
   "cell_type": "markdown",
   "metadata": {},
   "source": [
    "Plot histograms of mean and variance for all non-outliers"
   ]
  },
  {
   "cell_type": "code",
   "execution_count": null,
   "metadata": {},
   "outputs": [],
   "source": [
    "for stat_name in [\"Mean\", \"Variance\"]:\n",
    "    gene_stats_df.loc[~gene_stats_df.outlier, stat_name.lower()].plot.hist(log=True).set(xlabel=stat_name)\n",
    "    plt.show()\n",
    "\n",
    "gene_stats_df.loc[~gene_stats_df.outlier].groupby(\"gene\")[\"mean\"].max().plot.hist(log=True).set(xlabel=\"Max mean\")\n",
    "plt.show()"
   ]
  },
  {
   "cell_type": "markdown",
   "metadata": {},
   "source": [
    "Fit linear regression model to mean-variance relationship of all genes"
   ]
  },
  {
   "cell_type": "code",
   "execution_count": null,
   "metadata": {},
   "outputs": [],
   "source": [
    "def fit_mean_var_regression(gene_df):\n",
    "    mean_and_var = gene_df[[\"mean\", \"variance\"]].to_numpy()\n",
    "    outlier_mask = gene_df.outlier.to_numpy()\n",
    "\n",
    "    lr = LinearRegression().fit(*mean_and_var[np.newaxis, ~outlier_mask].T)\n",
    "    r2 = lr.score(*mean_and_var[np.newaxis, ~outlier_mask].T)\n",
    "\n",
    "    return pd.Series(data={\n",
    "        \"slope\": np.squeeze(lr.coef_),\n",
    "        \"intercept\": np.squeeze(lr.intercept_),\n",
    "        \"r2\": r2,\n",
    "    })\n",
    "\n",
    "\n",
    "gene_regression_df = gene_stats_df.groupby(\"gene\").apply(fit_mean_var_regression)\n",
    "display(symbol_map.added_to(gene_regression_df))"
   ]
  },
  {
   "cell_type": "markdown",
   "metadata": {},
   "source": [
    "Save the descriptive statistics and results of fitting the regression models"
   ]
  },
  {
   "cell_type": "code",
   "execution_count": null,
   "metadata": {},
   "outputs": [],
   "source": [
    "output_path = get_output_path()\n",
    "output_path.mkdir(parents=True, exist_ok=True)\n",
    "\n",
    "gene_stats_df.to_csv(output_path.joinpath(\"mouse_stats_per_condition_per_gene.csv\"), index=False)\n",
    "gene_regression_df.to_csv(output_path.joinpath(\"mouse_lr_fit_per_gene.csv\"))"
   ]
  },
  {
   "cell_type": "markdown",
   "metadata": {},
   "source": [
    "Show mean-variance plots for 10 most variable genes"
   ]
  },
  {
   "cell_type": "code",
   "execution_count": null,
   "metadata": {},
   "outputs": [],
   "source": [
    "plot_outliers = True\n",
    "\n",
    "for gene in gene_variability.index[:10]:\n",
    "    gene_df = gene_stats_df.loc[gene_stats_df.gene == gene]\n",
    "\n",
    "    mean_and_var = gene_df[[\"mean\", \"variance\"]].to_numpy()\n",
    "    outlier_mask = gene_df.outlier.to_numpy()\n",
    "\n",
    "    slope, intercept = gene_regression_df.loc[gene, [\"slope\", \"intercept\"]]\n",
    "\n",
    "    lr_plot_x = mean_and_var[:, 0, np.newaxis]\n",
    "    if not plot_outliers:\n",
    "        lr_plot_x = lr_plot_x[~outlier_mask]\n",
    "    lr_plot_x = np.sort(lr_plot_x)\n",
    "    lr_plot_y = (lr_plot_x * slope) + intercept\n",
    "\n",
    "    if plot_outliers:\n",
    "        plt.scatter(*mean_and_var[outlier_mask].T, marker=\"x\")\n",
    "    plt.scatter(*mean_and_var[~outlier_mask].T, marker=\"o\")\n",
    "    plt.plot(lr_plot_x, lr_plot_y)\n",
    "    plt.title(f\"{symbol_map.lookup(gene)} / {gene}\")\n",
    "    plt.xlabel(\"Mean\")\n",
    "    plt.ylabel(\"Variance\")\n",
    "    plt.xlim(left=min(0, np.min(lr_plot_x)))\n",
    "    plt.ylim(bottom=min(0, np.min(lr_plot_y)))\n",
    "    plt.show()"
   ]
  },
  {
   "cell_type": "code",
   "execution_count": null,
   "metadata": {},
   "outputs": [],
   "source": []
  }
 ],
 "metadata": {
  "kernelspec": {
   "display_name": "Python 3",
   "language": "python",
   "name": "python3"
  },
  "language_info": {
   "codemirror_mode": {
    "name": "ipython",
    "version": 3
   },
   "file_extension": ".py",
   "mimetype": "text/x-python",
   "name": "python",
   "nbconvert_exporter": "python",
   "pygments_lexer": "ipython3",
   "version": "3.8.2"
  }
 },
 "nbformat": 4,
 "nbformat_minor": 4
}
