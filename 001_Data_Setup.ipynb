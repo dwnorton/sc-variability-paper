{
 "cells": [
  {
   "cell_type": "code",
   "execution_count": null,
   "metadata": {},
   "outputs": [],
   "source": [
    "from pathlib import Path\n",
    "from zipfile import ZipFile\n",
    "\n",
    "from rp2 import fetch_file, get_data_path"
   ]
  },
  {
   "cell_type": "code",
   "execution_count": null,
   "metadata": {},
   "outputs": [],
   "source": [
    "hagai_path = get_data_path(\"hagai_2018\")\n",
    "fetch_file(\n",
    "    \"https://static-content.springer.com/esm/art%3A10.1038%2Fs41586-018-0657-2/MediaObjects/41586_2018_657_MOESM4_ESM.xlsx\",\n",
    "    hagai_path\n",
    ");"
   ]
  },
  {
   "cell_type": "code",
   "execution_count": null,
   "metadata": {},
   "outputs": [],
   "source": [
    "ae_path = get_data_path(\"ArrayExpress\")\n",
    "fetch_file(\n",
    "    \"https://www.ebi.ac.uk/arrayexpress/files/E-MTAB-6754/E-MTAB-6754.processed.2.zip\",\n",
    "    ae_path\n",
    ");"
   ]
  },
  {
   "cell_type": "code",
   "execution_count": null,
   "metadata": {},
   "outputs": [],
   "source": [
    "for zip_path in ae_path.glob(\"*.zip\"):\n",
    "    extract_path = ae_path.joinpath(zip_path.stem)\n",
    "    if extract_path.exists():\n",
    "        continue\n",
    "\n",
    "    print(\"Extracting:\", zip_path)\n",
    "\n",
    "    with ZipFile(zip_path, \"r\") as zip_file:\n",
    "        zip_file.extractall(extract_path)"
   ]
  },
  {
   "cell_type": "code",
   "execution_count": null,
   "metadata": {},
   "outputs": [],
   "source": [
    "txburst_filenames = (\n",
    "    \"txburstML.py\",\n",
    "    \"txburstPL.py\",\n",
    "    \"txburstTEST.py\",\n",
    ")\n",
    "\n",
    "txburst_path = Path(\"txburst\")\n",
    "\n",
    "for filename in txburst_filenames:\n",
    "    url = f\"https://raw.githubusercontent.com/sandberg-lab/txburst/master/{filename}\"\n",
    "    fetch_file(url, txburst_path)"
   ]
  },
  {
   "cell_type": "code",
   "execution_count": null,
   "metadata": {},
   "outputs": [],
   "source": []
  }
 ],
 "metadata": {
  "kernelspec": {
   "display_name": "Python 3",
   "language": "python",
   "name": "python3"
  },
  "language_info": {
   "codemirror_mode": {
    "name": "ipython",
    "version": 3
   },
   "file_extension": ".py",
   "mimetype": "text/x-python",
   "name": "python",
   "nbconvert_exporter": "python",
   "pygments_lexer": "ipython3",
   "version": "3.8.2"
  }
 },
 "nbformat": 4,
 "nbformat_minor": 4
}
