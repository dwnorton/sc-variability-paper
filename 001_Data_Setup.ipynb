{
 "cells": [
  {
   "cell_type": "code",
   "execution_count": null,
   "metadata": {},
   "outputs": [],
   "source": [
    "import anndata\n",
    "import numpy as np\n",
    "import re\n",
    "import scipy\n",
    "import scipy.sparse\n",
    "import urllib\n",
    "\n",
    "from zipfile import ZipFile\n",
    "\n",
    "from rp2 import fetch_file, get_data_path, get_scripts_path"
   ]
  },
  {
   "cell_type": "markdown",
   "metadata": {},
   "source": [
    "Download supplementary data for Hagai *et al.* (2018)"
   ]
  },
  {
   "cell_type": "code",
   "execution_count": null,
   "metadata": {},
   "outputs": [],
   "source": [
    "hagai_path = get_data_path(\"hagai_2018\")\n",
    "fetch_file(\n",
    "    \"https://static-content.springer.com/esm/art%3A10.1038%2Fs41586-018-0657-2/MediaObjects/41586_2018_657_MOESM4_ESM.xlsx\",\n",
    "    hagai_path\n",
    ");"
   ]
  },
  {
   "cell_type": "markdown",
   "metadata": {},
   "source": [
    "Download Hagai *et al.* (2018) datasets from ArrayExpress"
   ]
  },
  {
   "cell_type": "code",
   "execution_count": null,
   "metadata": {},
   "outputs": [],
   "source": [
    "ae_path = get_data_path(\"ArrayExpress\")\n",
    "fetch_file(\n",
    "    \"https://www.ebi.ac.uk/arrayexpress/files/E-MTAB-6754/E-MTAB-6754.processed.2.zip\",\n",
    "    ae_path\n",
    ");"
   ]
  },
  {
   "cell_type": "markdown",
   "metadata": {},
   "source": [
    "Extract zipped ArrayExpress datasets"
   ]
  },
  {
   "cell_type": "code",
   "execution_count": null,
   "metadata": {},
   "outputs": [],
   "source": [
    "for zip_path in ae_path.glob(\"*.zip\"):\n",
    "    extract_path = ae_path.joinpath(zip_path.stem)\n",
    "    if extract_path.exists():\n",
    "        continue\n",
    "\n",
    "    print(\"Extracting:\", zip_path)\n",
    "\n",
    "    with ZipFile(zip_path, \"r\") as zip_file:\n",
    "        zip_file.extractall(extract_path)"
   ]
  },
  {
   "cell_type": "markdown",
   "metadata": {},
   "source": [
    "Download txburst scripts for Larsson *et al.* (2019) burst modelling"
   ]
  },
  {
   "cell_type": "code",
   "execution_count": null,
   "metadata": {},
   "outputs": [],
   "source": [
    "txburst_filenames = (\n",
    "    \"txburstML.py\",\n",
    "    \"txburstPL.py\",\n",
    "    \"txburstTEST.py\",\n",
    ")\n",
    "\n",
    "txburst_path = get_scripts_path(\"txburst\")\n",
    "\n",
    "for filename in txburst_filenames:\n",
    "    url = f\"https://raw.githubusercontent.com/sandberg-lab/txburst/master/{filename}\"\n",
    "    fetch_file(url, txburst_path)"
   ]
  },
  {
   "cell_type": "markdown",
   "metadata": {},
   "source": [
    "Collate Hagai *et al.* (2018) mouse UMI counts into a single dataframe"
   ]
  },
  {
   "cell_type": "code",
   "execution_count": null,
   "metadata": {},
   "outputs": [],
   "source": [
    "def extract_species_and_replicate(token):\n",
    "    return token[:-1], token[-1]\n",
    "\n",
    "\n",
    "def extract_treatment_and_time_point(token):\n",
    "    matches = re.match(r\"^([a-z]+)(\\d*[^\\d]*)$\", token)\n",
    "    return matches.group(1), matches.group(2) or \"0\"\n",
    "\n",
    "\n",
    "def load_umi_count_adata(file_path):\n",
    "    species_and_replicate, treatment_and_time_point = file_path.name.split(\"_\")[:2]\n",
    "    species, replicate = extract_species_and_replicate(species_and_replicate)\n",
    "    treatment, time_point = extract_treatment_and_time_point(treatment_and_time_point)\n",
    "\n",
    "    umi_ad = anndata.read_csv(file_path, delimiter=\" \").T\n",
    "    umi_ad.X = scipy.sparse.csr_matrix(umi_ad.X, dtype=np.int)\n",
    "\n",
    "    umi_ad.obs[\"species\"] = species\n",
    "    umi_ad.obs[\"replicate\"] = replicate\n",
    "    umi_ad.obs[\"treatment\"] = treatment\n",
    "    umi_ad.obs[\"time_point\"] = time_point\n",
    "    umi_ad.obs[\"barcode\"] = umi_ad.obs.index\n",
    "\n",
    "    return umi_ad\n",
    "\n",
    "\n",
    "def collate_umi_counts(csv_file_paths):\n",
    "    total_obs = 0\n",
    "    all_adata = []\n",
    "\n",
    "    for file_path in csv_file_paths:\n",
    "        print(\"Loading\", file_path.name)\n",
    "\n",
    "        csv_adata = load_umi_count_adata(file_path)\n",
    "        csv_adata.obs.index = [str(i) for i in range(total_obs, total_obs + csv_adata.n_obs)]\n",
    "\n",
    "        all_adata.append(csv_adata)\n",
    "\n",
    "        total_obs += csv_adata.n_obs\n",
    "\n",
    "    print(\"Collating\")\n",
    "\n",
    "    adata = all_adata[0].concatenate(all_adata[1:], join=\"outer\", index_unique=None)\n",
    "    adata.obs.drop(columns=[\"batch\"], inplace=True)\n",
    "    return adata"
   ]
  },
  {
   "cell_type": "code",
   "execution_count": null,
   "metadata": {},
   "outputs": [],
   "source": [
    "species_of_interest = [\"mouse\"]\n",
    "\n",
    "umi_files_path = ae_path.joinpath(\"E-MTAB-6754.processed.2\")\n",
    "\n",
    "for species in species_of_interest:\n",
    "    umi_file_path = umi_files_path.parent.joinpath(umi_files_path.name + f\".{species}.h5ad\")\n",
    "\n",
    "    if not umi_file_path.exists():\n",
    "        csv_glob = umi_files_path.glob(f\"{species}*.txt.gz\")\n",
    "        adata = collate_umi_counts(csv_glob)\n",
    "        adata.write_h5ad(umi_file_path)"
   ]
  },
  {
   "cell_type": "markdown",
   "metadata": {},
   "source": [
    "Download a list of mouse genes (Ensembl ID, symbol and description) from BioMart"
   ]
  },
  {
   "cell_type": "code",
   "execution_count": null,
   "metadata": {},
   "outputs": [],
   "source": [
    "biomart_path = get_data_path(\"BioMart\")\n",
    "mouse_genes_tsv_path = biomart_path.joinpath(\"mouse_genes.tsv\")\n",
    "\n",
    "if not mouse_genes_tsv_path.exists():\n",
    "    biomart_query = '<?xml version=\"1.0\" encoding=\"UTF-8\"?>' \\\n",
    "                    '<!DOCTYPE Query>' \\\n",
    "                    '<Query virtualSchemaName=\"default\" formatter=\"TSV\" header=\"0\" uniqueRows=\"1\" count=\"\" datasetConfigVersion=\"0.6\">' \\\n",
    "                    '<Dataset name=\"mmusculus_gene_ensembl\" interface=\"default\">' \\\n",
    "                    '<Attribute name=\"ensembl_gene_id\" />' \\\n",
    "                    '<Attribute name=\"external_gene_name\" />' \\\n",
    "                    '<Attribute name=\"description\" />' \\\n",
    "                    '</Dataset>' \\\n",
    "                    '</Query>'\n",
    "    biomart_url = \"http://mar2016.archive.ensembl.org/biomart/martservice?query=\" + urllib.parse.quote(biomart_query)\n",
    "    fetch_file(biomart_url, mouse_genes_tsv_path.parent, rename_to=mouse_genes_tsv_path.name)"
   ]
  },
  {
   "cell_type": "code",
   "execution_count": null,
   "metadata": {},
   "outputs": [],
   "source": []
  }
 ],
 "metadata": {
  "jupytext": {
   "formats": "ipynb,.ipynb.py:percent"
  },
  "kernelspec": {
   "display_name": "Python 3",
   "language": "python",
   "name": "python3"
  },
  "language_info": {
   "codemirror_mode": {
    "name": "ipython",
    "version": 3
   },
   "file_extension": ".py",
   "mimetype": "text/x-python",
   "name": "python",
   "nbconvert_exporter": "python",
   "pygments_lexer": "ipython3",
   "version": "3.8.2"
  }
 },
 "nbformat": 4,
 "nbformat_minor": 4
}
