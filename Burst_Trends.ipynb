{
 "cells": [
  {
   "cell_type": "code",
   "execution_count": null,
   "metadata": {},
   "outputs": [],
   "source": [
    "import warnings\n",
    "\n",
    "import ipywidgets as widgets\n",
    "import matplotlib.pyplot as plt\n",
    "import numpy as np\n",
    "import pandas as pd\n",
    "import seaborn as sns\n",
    "from IPython.display import display, Latex\n",
    "from scipy.optimize import curve_fit\n",
    "from sklearn.linear_model import HuberRegressor, RANSACRegressor\n",
    "\n",
    "import rp2\n",
    "from rp2 import hagai_2018, create_gene_symbol_map\n",
    "from rp2.paths import get_txburst_results_csv_path\n",
    "\n",
    "rp2.check_environment()"
   ]
  },
  {
   "cell_type": "markdown",
   "metadata": {},
   "source": [
    "### Settings controlling downstream analysis"
   ]
  },
  {
   "cell_type": "code",
   "execution_count": null,
   "metadata": {},
   "outputs": [],
   "source": [
    "analysis_species = \"mouse\"\n",
    "analysis_counts = \"median\"\n",
    "analysis_treatments = [\"unst\", \"lps\"]\n",
    "analysis_time_points = [\"0\", \"2\", \"4\", \"6\"]\n",
    "\n",
    "min_conditions = 6\n",
    "mv_outlier_factor = 1.35\n",
    "\n",
    "index_columns = [\"replicate\", \"treatment\", \"time_point\"]\n",
    "all_index_columns = [\"gene\"] + index_columns"
   ]
  },
  {
   "cell_type": "code",
   "execution_count": null,
   "metadata": {},
   "outputs": [],
   "source": [
    "gene_symbol_map = create_gene_symbol_map(analysis_species)"
   ]
  },
  {
   "cell_type": "markdown",
   "metadata": {},
   "source": [
    "### Determine which genes have a sufficient number of conditions with valid burst parameters"
   ]
  },
  {
   "cell_type": "code",
   "execution_count": null,
   "metadata": {
    "jupyter": {
     "source_hidden": true
    }
   },
   "outputs": [],
   "source": [
    "condition_info_df = pd.read_csv(get_txburst_results_csv_path(analysis_species, index_columns, count_type=analysis_counts))\n",
    "condition_info_df.replicate = condition_info_df.replicate.astype(str)\n",
    "condition_info_df[\"k_burstiness\"] = condition_info_df.k_off / condition_info_df.k_on\n",
    "\n",
    "condition_info_df = condition_info_df.loc[condition_info_df.treatment.isin(analysis_treatments)]\n",
    "condition_info_df = condition_info_df.loc[condition_info_df.time_point.isin(analysis_time_points)]\n",
    "print(f\"{len(condition_info_df):,} conditions for {condition_info_df.gene.nunique():,} genes have been processed by txburst\")\n",
    "\n",
    "condition_info_df[\"valid_bp\"] = condition_info_df.bs_point.notna() & condition_info_df.bf_point.notna()\n",
    "\n",
    "valid_counts = condition_info_df.groupby(\"gene\").valid_bp.agg(np.count_nonzero)\n",
    "valid_gene_ids = valid_counts.index[valid_counts >= min_conditions]\n",
    "print(f\"{len(valid_gene_ids):,} genes have {min_conditions} or more conditions with valid burst parameters\")\n",
    "\n",
    "condition_info_df = condition_info_df.loc[condition_info_df.gene.isin(valid_gene_ids)]"
   ]
  },
  {
   "cell_type": "markdown",
   "metadata": {},
   "source": [
    "### Calculate statistics of RNA counts"
   ]
  },
  {
   "cell_type": "code",
   "execution_count": null,
   "metadata": {
    "jupyter": {
     "source_hidden": true
    }
   },
   "outputs": [],
   "source": [
    "def calculate_count_stats(condition_subset):\n",
    "    counts_adata = hagai_2018.load_counts(analysis_species, scaling=analysis_counts)\n",
    "    print(f\"Counts available for {counts_adata.n_obs:,} cells and {counts_adata.n_vars:,} genes\")\n",
    "\n",
    "    counts_adata = counts_adata[:, counts_adata.var_names.isin(condition_subset.gene)]\n",
    "    for column in index_columns:\n",
    "        counts_adata = counts_adata[counts_adata.obs[column].isin(condition_subset[column])]\n",
    "\n",
    "    counts_adata = counts_adata.copy()\n",
    "    print(f\"Calculating count statistics for {counts_adata.n_obs:,} cells and {counts_adata.n_vars:,} genes\")\n",
    "\n",
    "    return hagai_2018.calculate_counts_condition_stats(counts_adata, group_columns=index_columns)\n",
    "\n",
    "\n",
    "condition_info_df = condition_info_df.set_index(all_index_columns).join(\n",
    "    calculate_count_stats(condition_info_df).set_index(all_index_columns),\n",
    "    how=\"left\",\n",
    ").reset_index()"
   ]
  },
  {
   "cell_type": "markdown",
   "metadata": {},
   "source": [
    "### Display an interactive mean-variance plot for genes with sufficient conditions with valid burst parameters\n",
    "\n",
    "Although the list of genes is restricted to those with a minimum number of conditions with valid burst parameters, all conditions are plotted and used to fit the regression line. Points determined to be outliers by the regressor are indicated and the sensitivity can be adjusted using the outlier_factor slider. Changes to this value are for illustration only and will not change downstream analysis (for this, change the value of mv_outlier_factor above and re-run all cells)."
   ]
  },
  {
   "cell_type": "code",
   "execution_count": null,
   "metadata": {
    "jupyter": {
     "source_hidden": true
    }
   },
   "outputs": [],
   "source": [
    "def create_mv_regressor(condition_df, outlier_factor=None):\n",
    "    outlier_factor = outlier_factor or mv_outlier_factor\n",
    "    return HuberRegressor(epsilon=outlier_factor)\n",
    "\n",
    "\n",
    "def get_regression_parameters(regressor):\n",
    "    if isinstance(regressor, RANSACRegressor):\n",
    "        regressor = regressor.estimator_\n",
    "\n",
    "    return {\n",
    "        \"slope\": regressor.coef_.item(),\n",
    "        \"intercept\": regressor.intercept_.item(),\n",
    "    }\n",
    "\n",
    "\n",
    "def get_regression_outliers(regressor):\n",
    "    if isinstance(regressor, RANSACRegressor):\n",
    "        return ~regressor.inlier_mask_\n",
    "\n",
    "    return regressor.outliers_\n",
    "\n",
    "\n",
    "def calculate_regression(df, x_var, y_var, regressor=None, output_outliers=False):\n",
    "    regressor = regressor or HuberRegressor()\n",
    "\n",
    "    rx, ry = df.loc[:, [x_var, y_var]].to_numpy().reshape(1, -1, 2).T\n",
    "\n",
    "    with warnings.catch_warnings():\n",
    "        warnings.simplefilter(\"ignore\")\n",
    "        r = regressor.fit(rx, ry)\n",
    "\n",
    "    results = get_regression_parameters(r)\n",
    "    results[\"r2\"] = r.score(rx, ry)\n",
    "\n",
    "    if output_outliers:\n",
    "        outliers_mask = get_regression_outliers(r)\n",
    "        results[\"outliers\"] = outliers_mask\n",
    "        results[\"r2_without_outliers\"] = r.score(rx[~outliers_mask], ry[~outliers_mask])\n",
    "\n",
    "    return results\n",
    "\n",
    "\n",
    "def make_gene_selector(gene_ids):\n",
    "    gene_symbols = gene_symbol_map.lookup(gene_ids).sort_values()\n",
    "    return widgets.Select(\n",
    "        options=list(zip(gene_symbols.values, gene_symbols.index)),\n",
    "        rows=3,\n",
    "    )\n",
    "\n",
    "\n",
    "def plot_outlier_points(x, y, outliers):\n",
    "    plt.scatter(\n",
    "        x[~outliers],\n",
    "        y[~outliers],\n",
    "        marker=\"o\",\n",
    "    )\n",
    "    plt.scatter(\n",
    "        x[outliers],\n",
    "        y[outliers],\n",
    "        marker=\"x\",\n",
    "        label=\"outlier\",\n",
    "    )\n",
    "\n",
    "    \n",
    "def format_plus_c(c):\n",
    "    return f\"+{c:.2f}\" if c > 0 else f\"-{abs(c):.2f}\"\n",
    "\n",
    "\n",
    "@widgets.interact(gene_id=make_gene_selector(valid_gene_ids), outlier_factor=widgets.FloatSlider(mv_outlier_factor, min=1.01, max=5, step=0.01))\n",
    "def plot_mean_var(gene_id, outlier_factor):\n",
    "    plot_output = widgets.Output()\n",
    "    info_output = widgets.Output()\n",
    "\n",
    "    condition_info_subset = condition_info_df.loc[condition_info_df.gene == gene_id]\n",
    "\n",
    "    lr_results = calculate_regression(condition_info_subset, \"mean\", \"variance\", regressor=create_mv_regressor(condition_info_subset, outlier_factor), output_outliers=True)\n",
    "    outliers = lr_results[\"outliers\"]\n",
    "\n",
    "    with plot_output:\n",
    "        x, y = condition_info_subset.loc[:, [\"mean\", \"variance\"]].to_numpy().T\n",
    "        plot_outlier_points(x, y, outliers)\n",
    "\n",
    "        lr_x = np.asarray((0, x.max()))\n",
    "        lr_y = (lr_x * lr_results[\"slope\"]) + lr_results[\"intercept\"]\n",
    "        plt.plot(lr_x, lr_y)\n",
    "\n",
    "        plt.xlim(left=0)\n",
    "        plt.ylim(bottom=0)\n",
    "        plt.legend(loc=\"upper left\", bbox_to_anchor=(1, 1))\n",
    "        plt.show()\n",
    "\n",
    "    with info_output:\n",
    "        print(f\"No. of conditions with burst parameters: {np.count_nonzero(condition_info_subset.valid_bp)} / {len(condition_info_subset)}\")\n",
    "        print(f\"No. of outliers: {np.count_nonzero(outliers)}\")\n",
    "        display(Latex(f\"$R^2$ with outliers: {lr_results['r2']:.3f}\"))\n",
    "        display(Latex(f\"$R^2$ without outliers: {lr_results['r2_without_outliers']:.3f}\"))\n",
    "        display(Latex(f\"$\\sigma^2={lr_results['slope']:.2f}\\mu{format_plus_c(lr_results['intercept'])}$\"))\n",
    "\n",
    "    display(widgets.HBox((plot_output, info_output)))"
   ]
  },
  {
   "cell_type": "markdown",
   "metadata": {},
   "source": [
    "### Fit trends to mean-variance relationships"
   ]
  },
  {
   "cell_type": "code",
   "execution_count": null,
   "metadata": {
    "jupyter": {
     "source_hidden": true
    }
   },
   "outputs": [],
   "source": [
    "condition_info_df[\"mv_outlier\"] = False\n",
    "mv_gene_info_df = pd.DataFrame()\n",
    "\n",
    "for gene_id, gene_df in condition_info_df.groupby(\"gene\"):\n",
    "    results = calculate_regression(gene_df, \"mean\", \"variance\", regressor=create_mv_regressor(gene_df), output_outliers=True)\n",
    "\n",
    "    outliers = results.pop(\"outliers\")\n",
    "    results[\"n_outliers\"] = np.count_nonzero(outliers)\n",
    "    results[\"r2\"] = results.pop(\"r2_without_outliers\")\n",
    "\n",
    "    mv_gene_info_df = mv_gene_info_df.append(pd.DataFrame(index=[gene_id], data=results))\n",
    "    condition_info_df.loc[gene_df.index, \"mv_outlier\"] = outliers\n",
    "\n",
    "print(f\"{mv_gene_info_df.n_outliers.sum()} mean-variance outliers in total\")"
   ]
  },
  {
   "cell_type": "markdown",
   "metadata": {},
   "source": [
    "### Fit trends to burst parameters\n",
    "\n",
    "Lines and curves are fit for all genes based on points with valid burst parameters **including mean-variance outliers**."
   ]
  },
  {
   "cell_type": "code",
   "execution_count": null,
   "metadata": {
    "jupyter": {
     "source_hidden": true
    }
   },
   "outputs": [],
   "source": [
    "def power_function(x, a, b, c):\n",
    "    return (a * np.power(x, b)) + c\n",
    "\n",
    "\n",
    "def calculate_curve_fit(df, x_var, y_var):\n",
    "    x, y = df.loc[:, [x_var, y_var]].to_numpy().T\n",
    "    try:\n",
    "        with warnings.catch_warnings():\n",
    "            warnings.simplefilter(\"ignore\")\n",
    "            params, cov = curve_fit(\n",
    "                power_function,\n",
    "                x,\n",
    "                y,\n",
    "                p0=[1, 1, 0],\n",
    "            )\n",
    "    except:\n",
    "        params = [np.nan] * 3\n",
    "    return {\n",
    "        \"a\": params[0],\n",
    "        \"b\": params[1],\n",
    "        \"c\": params[2],\n",
    "    }\n",
    "\n",
    "\n",
    "def calculate_per_gene_info(df):\n",
    "    lr_dict = {\n",
    "        \"bf\": calculate_regression(df, \"mean\", \"bf_point\"),\n",
    "        \"bs\": calculate_regression(df, \"mean\", \"bs_point\"),\n",
    "    }\n",
    "\n",
    "    curve_dict = {\n",
    "        \"bf\": calculate_curve_fit(df, \"mean\", \"bf_point\"),\n",
    "        \"bs\": calculate_curve_fit(df, \"mean\", \"bs_point\"),\n",
    "    }\n",
    "\n",
    "    results_dict = {\n",
    "        \"n_conditions\": len(df),\n",
    "    }\n",
    "    for lr_n, lr_v in lr_dict.items():\n",
    "        for n, v in lr_v.items():\n",
    "            results_dict[f\"{lr_n}_{n}\"] = v\n",
    "    for curve_n, curve_v in curve_dict.items():\n",
    "        for n, v in curve_v.items():\n",
    "            results_dict[f\"{curve_n}_pf_{n}\"] = v\n",
    "\n",
    "    return pd.Series(results_dict)\n",
    "\n",
    "\n",
    "gene_info_df = condition_info_df.loc[condition_info_df.valid_bp].groupby(\"gene\").apply(calculate_per_gene_info).join(\n",
    "    mv_gene_info_df.rename(columns={n: f\"mv_{n}\" for n in mv_gene_info_df.columns}),\n",
    ")\n",
    "\n",
    "print(\"Curves successfully fit to:\")\n",
    "print(f\"  Burst sizes of {gene_info_df.bs_pf_a.count():,} genes\")\n",
    "print(f\"  Burst frequencies of {gene_info_df.bf_pf_a.count():,} genes\")"
   ]
  },
  {
   "cell_type": "markdown",
   "metadata": {},
   "source": [
    "### Display a scatter plot of $R^2$ values for burst size against frequency to indicate dominant modulation"
   ]
  },
  {
   "cell_type": "code",
   "execution_count": null,
   "metadata": {
    "jupyter": {
     "source_hidden": true
    }
   },
   "outputs": [],
   "source": [
    "ax = sns.scatterplot(\n",
    "    x=\"bs_r2\",\n",
    "    y=\"bf_r2\",\n",
    "    data=gene_info_df,\n",
    ")\n",
    "plt.plot((-0.5, 1), (-0.5, 1), \"-\")\n",
    "plt.axvline(x=0, ls=\":\")\n",
    "plt.axhline(y=0, ls=\":\")\n",
    "ax.set_aspect(1)\n",
    "plt.show()"
   ]
  },
  {
   "cell_type": "markdown",
   "metadata": {},
   "source": [
    "### Show plots of trends against mean RNA for all genes with a sufficient number of conditions with valid burst parameters\n",
    "\n",
    "Genes are sorted by descending $R^2$ value of the burst frequency linear regression fit. Highlighted outliers are outliers of the mean-variance fit which are included in the line and curve fitting of burst parameters."
   ]
  },
  {
   "cell_type": "code",
   "execution_count": null,
   "metadata": {
    "jupyter": {
     "source_hidden": true
    }
   },
   "outputs": [],
   "source": [
    "def plot_relationship_scatter(ax, condition_info, y_var):\n",
    "    x = condition_info.loc[:, \"mean\"]\n",
    "    y = condition_info.loc[:, y_var]\n",
    "\n",
    "    ax.scatter(\n",
    "        x[~condition_info.mv_outlier],\n",
    "        y[~condition_info.mv_outlier],\n",
    "        marker=\"o\",\n",
    "    )\n",
    "    ax.scatter(\n",
    "        x[condition_info.mv_outlier],\n",
    "        y[condition_info.mv_outlier],\n",
    "        marker=\"x\",\n",
    "        label=\"mv outlier\",\n",
    "    )\n",
    "    ax.set_xlim(left=0)\n",
    "    ax.set_ylim(bottom=0)\n",
    "    ax.set_xlabel(\"mean\")\n",
    "    ax.set_ylabel(y_var)\n",
    "\n",
    "\n",
    "def plot_relationship_line(ax, condition_info, lr_info, y_var_prefix):\n",
    "    x_range = np.asarray((0, condition_info[\"mean\"].max()))\n",
    "    ax.plot(x_range, (x_range * lr_info[f\"{y_var_prefix}_slope\"]) + lr_row[f\"{y_var_prefix}_intercept\"])\n",
    "\n",
    "    r2 = lr_info[f\"{y_var_prefix}_r2\"]\n",
    "    ax.set_title(f\"$R^2=${r2:.2f}\")\n",
    "\n",
    "\n",
    "def plot_relationship_curve(ax, condition_info, lr_info, y_var_prefix):\n",
    "    a, b, c = [lr_info[f\"{y_var_prefix}_pf_{coef}\"] for coef in [\"a\", \"b\", \"c\"]]\n",
    "    if a is np.nan: return\n",
    "\n",
    "    x = np.linspace(np.finfo(np.float).eps, condition_info[\"mean\"].max())\n",
    "    y = power_function(x, a, b, c)\n",
    "\n",
    "    ax.plot(x, y, \"--\")\n",
    "\n",
    "\n",
    "lr_to_plot = gene_info_df.sort_values(by=\"bf_r2\", ascending=False)\n",
    "for idx, (gene_id, lr_row) in enumerate(lr_to_plot.iterrows(), start=1):\n",
    "    print(f\"{idx}. {gene_symbol_map.lookup(gene_id)}\")\n",
    "    display(lr_row.to_frame().T)\n",
    "\n",
    "    condition_info_subset = condition_info_df.loc[condition_info_df.gene == gene_id]\n",
    "\n",
    "    _, axes = plt.subplots(ncols=4, figsize=(16, 4), sharex=True)\n",
    "\n",
    "    plot_relationship_scatter(axes[0], condition_info_subset, \"variance\")\n",
    "    plot_relationship_line(axes[0], condition_info_subset, lr_row, \"mv\")\n",
    "\n",
    "    valid_bp_condition_info = condition_info_subset.loc[condition_info_subset.valid_bp]\n",
    "\n",
    "    for prefix, ax in zip((\"bf\", \"bs\"), axes[1:3]):\n",
    "        plot_relationship_scatter(ax, valid_bp_condition_info, f\"{prefix}_point\")\n",
    "        plot_relationship_line(ax, valid_bp_condition_info, lr_row, prefix)\n",
    "        plot_relationship_curve(ax, valid_bp_condition_info, lr_row, prefix)\n",
    "\n",
    "    plot_relationship_scatter(axes[3], valid_bp_condition_info, \"k_burstiness\")\n",
    "    axes[3].set_ylim(bottom=valid_bp_condition_info.k_burstiness.min())\n",
    "    axes[3].set_yscale(\"log\")\n",
    "\n",
    "    plt.tight_layout()\n",
    "    plt.legend(loc=\"upper left\", bbox_to_anchor=(1, 1))\n",
    "    plt.show()"
   ]
  },
  {
   "cell_type": "code",
   "execution_count": null,
   "metadata": {},
   "outputs": [],
   "source": []
  }
 ],
 "metadata": {
  "jupytext": {
   "formats": "ipynb,.ipynb.py:percent"
  },
  "kernelspec": {
   "display_name": "Python 3",
   "language": "python",
   "name": "python3"
  },
  "language_info": {
   "codemirror_mode": {
    "name": "ipython",
    "version": 3
   },
   "file_extension": ".py",
   "mimetype": "text/x-python",
   "name": "python",
   "nbconvert_exporter": "python",
   "pygments_lexer": "ipython3",
   "version": "3.8.2"
  }
 },
 "nbformat": 4,
 "nbformat_minor": 4
}
