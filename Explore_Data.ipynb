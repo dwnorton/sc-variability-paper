{
 "cells": [
  {
   "cell_type": "code",
   "execution_count": null,
   "metadata": {},
   "outputs": [],
   "source": [
    "import ipywidgets as widgets\n",
    "import matplotlib.pyplot as plt\n",
    "import seaborn as sns\n",
    "from IPython.display import display\n",
    "\n",
    "from rp2 import load_biomart_gene_symbols_df, hagai_2018"
   ]
  },
  {
   "cell_type": "code",
   "execution_count": null,
   "metadata": {},
   "outputs": [],
   "source": [
    "\n",
    "species = \"mouse\""
   ]
  },
  {
   "cell_type": "code",
   "execution_count": null,
   "metadata": {},
   "outputs": [],
   "source": [
    "gene_info_df = load_biomart_gene_symbols_df(species)"
   ]
  },
  {
   "cell_type": "code",
   "execution_count": null,
   "metadata": {},
   "outputs": [],
   "source": [
    "umi_counts_ad = hagai_2018.load_umi_count(species)"
   ]
  },
  {
   "cell_type": "code",
   "execution_count": null,
   "metadata": {
    "lines_to_next_cell": 2
   },
   "outputs": [],
   "source": [
    "all_gene_ids = hagai_2018.load_lps_responsive_genes()\n",
    "umi_counts_ad = umi_counts_ad[:, all_gene_ids].copy()"
   ]
  },
  {
   "cell_type": "code",
   "execution_count": null,
   "metadata": {},
   "outputs": [],
   "source": [
    "all_condition_stats_df = hagai_2018.calculate_umi_condition_stats(umi_counts_ad)"
   ]
  },
  {
   "cell_type": "code",
   "execution_count": null,
   "metadata": {},
   "outputs": [],
   "source": [
    "all_genes = gene_info_df.loc[umi_counts_ad.var_names].symbol.sort_values()\n",
    "all_replicates = umi_counts_ad.obs.replicate.sort_values().unique().tolist()\n",
    "all_treatments = umi_counts_ad.obs.treatment.sort_values().unique().tolist()\n",
    "all_time_points = umi_counts_ad.obs.time_point.sort_values().unique().tolist()\n",
    "\n",
    "gene_selector = widgets.Select(\n",
    "    description=\"Gene:\",\n",
    "    options=list(zip(all_genes.values, all_genes.index)),\n",
    "    label=\"Pfn1\",\n",
    "    rows=4,\n",
    ")\n",
    "replicates_selector = widgets.SelectMultiple(\n",
    "    description=\"Replicate:\",\n",
    "    options=all_replicates,\n",
    "    value=all_replicates,\n",
    "    rows=3,\n",
    ")\n",
    "treatments_selector = widgets.SelectMultiple(\n",
    "    description=\"Treatments:\",\n",
    "    options=all_treatments,\n",
    "    value=all_treatments,\n",
    "    rows=3,\n",
    ")\n",
    "time_points_selector = widgets.SelectMultiple(\n",
    "    description=\"time points:\",\n",
    "    options=all_time_points,\n",
    "    value=all_time_points,\n",
    "    rows=len(all_time_points),\n",
    ")\n",
    "\n",
    "mv_output = widgets.Output()\n",
    "\n",
    "\n",
    "def update_ui():\n",
    "    mv_output.clear_output()\n",
    "    with mv_output:\n",
    "        selected_gene_id = gene_selector.value\n",
    "        selected_replicates = replicates_selector.value\n",
    "        selected_treatments = treatments_selector.value\n",
    "        selected_time_points = time_points_selector.value\n",
    "\n",
    "        condition_stats_subset = all_condition_stats_df.loc[\n",
    "            (all_condition_stats_df.gene == selected_gene_id) &\n",
    "            all_condition_stats_df.replicate.isin(selected_replicates) &\n",
    "            all_condition_stats_df.treatment.isin(selected_treatments) &\n",
    "            all_condition_stats_df.time_point.isin(selected_time_points)\n",
    "        ]\n",
    "\n",
    "        if condition_stats_subset.empty:\n",
    "            return\n",
    "\n",
    "        ax = sns.scatterplot(\n",
    "            x=\"mean\",\n",
    "            y=\"variance\",\n",
    "            hue=\"replicate\",\n",
    "            style=\"treatment\",\n",
    "            size=\"time_point\",\n",
    "            data=condition_stats_subset,\n",
    "        )\n",
    "        plt.xlim(left=0)\n",
    "        plt.ylim(bottom=0)\n",
    "        sns.regplot(\n",
    "            x=\"mean\",\n",
    "            y=\"variance\",\n",
    "            truncate=False,\n",
    "            scatter=False,\n",
    "            data=condition_stats_subset,\n",
    "            ax=ax,\n",
    "        )\n",
    "        plt.legend(loc=\"upper left\", bbox_to_anchor=(1, 1))\n",
    "        plt.show()\n",
    "\n",
    "\n",
    "def event_handler(event):\n",
    "    if event[\"type\"] != \"change\": return\n",
    "    if event[\"name\"] != \"value\": return\n",
    "    update_ui()\n",
    "\n",
    "\n",
    "gene_selector.observe(event_handler)\n",
    "replicates_selector.observe(event_handler)\n",
    "treatments_selector.observe(event_handler)\n",
    "time_points_selector.observe(event_handler)\n",
    "\n",
    "ui_container = widgets.VBox([\n",
    "    widgets.HBox([\n",
    "        widgets.VBox([\n",
    "            gene_selector,\n",
    "            replicates_selector,\n",
    "        ]),\n",
    "        widgets.VBox([\n",
    "            treatments_selector,\n",
    "            time_points_selector,\n",
    "        ]),\n",
    "    ]),\n",
    "    mv_output,\n",
    "])\n",
    "\n",
    "display(ui_container)\n",
    "\n",
    "update_ui()"
   ]
  },
  {
   "cell_type": "code",
   "execution_count": null,
   "metadata": {},
   "outputs": [],
   "source": []
  }
 ],
 "metadata": {
  "jupytext": {
   "formats": "ipynb,.ipynb.py:percent"
  },
  "kernelspec": {
   "display_name": "Python 3",
   "language": "python",
   "name": "python3"
  },
  "language_info": {
   "codemirror_mode": {
    "name": "ipython",
    "version": 3
   },
   "file_extension": ".py",
   "mimetype": "text/x-python",
   "name": "python",
   "nbconvert_exporter": "python",
   "pygments_lexer": "ipython3",
   "version": "3.8.2"
  }
 },
 "nbformat": 4,
 "nbformat_minor": 4
}
