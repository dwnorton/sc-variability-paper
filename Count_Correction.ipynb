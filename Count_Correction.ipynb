{
 "cells": [
  {
   "cell_type": "code",
   "execution_count": null,
   "metadata": {
    "lines_to_next_cell": 2
   },
   "outputs": [],
   "source": [
    "import matplotlib.pyplot as plt\n",
    "import numpy as np\n",
    "\n",
    "from rp2 import hagai_2018\n",
    "from rp2.environment import check_environment\n",
    "\n",
    "check_environment()"
   ]
  },
  {
   "cell_type": "markdown",
   "metadata": {},
   "source": [
    "## UMI count to transcript number\n",
    "\n",
    "From Grün *et al.* (2014):\n",
    "\n",
    "**Conversion of UMI count to transcript number.**\n",
    "\n",
    "For each gene $i$, $k_{o,i}$ denotes the number of observed UMIs and $k_{n,i}$ the number of non-observed UMIs. The total number $K$ of UMIs is given by\n",
    "\n",
    "$K=k_{o,i}+k_{n,i}$\n",
    "\n",
    "the number of sequenced transcripts $m_i$\n",
    "\n",
    "$m_i=\\frac{\\ln{\\left(1-\\frac{k_{o,i}}{K}\\right)}}{\\ln{\\left(1-\\frac{1}{K}\\right)}}\\cong-K\\ln{\\left(1-\\frac{k_{o,i}}{K}\\right)}$\n",
    "\n",
    "Define a function implementing this formula:"
   ]
  },
  {
   "cell_type": "code",
   "execution_count": null,
   "metadata": {},
   "outputs": [],
   "source": [
    "def umi_to_transcript_count(ko, K, approx=False):\n",
    "    ko = np.asarray(ko, dtype=np.float)\n",
    "    num = np.log(1 - (ko / K))\n",
    "    if approx:\n",
    "        return -K * num\n",
    "    den = np.log(1 - (1 / K))\n",
    "    return num / den"
   ]
  },
  {
   "cell_type": "markdown",
   "metadata": {},
   "source": [
    "Plot the mapping from UMI count to transcript number:"
   ]
  },
  {
   "cell_type": "code",
   "execution_count": null,
   "metadata": {},
   "outputs": [],
   "source": [
    "tenx_umi_bases = 10\n",
    "tenx_umi_max = 4**tenx_umi_bases\n",
    "print(f\"{tenx_umi_bases} bases in 10X experiments permits up to {tenx_umi_max:,} UMIs\")\n",
    "\n",
    "umi_counts = np.arange(tenx_umi_max)\n",
    "transcript_numbers = umi_to_transcript_count(umi_counts, tenx_umi_max).astype(np.int)\n",
    "\n",
    "plt.plot(umi_counts, transcript_numbers)\n",
    "plt.xlabel(\"UMI count\")\n",
    "plt.ylabel(\"Transcript number\")\n",
    "plt.show()"
   ]
  },
  {
   "cell_type": "code",
   "execution_count": null,
   "metadata": {},
   "outputs": [],
   "source": [
    "identical_until = np.argwhere(umi_counts == transcript_numbers).max()\n",
    "print(f\"The UMI-transcript transform is an identity mapping for UMI counts up to {identical_until:,}\")\n",
    "\n",
    "plt.plot(umi_counts, transcript_numbers)\n",
    "plt.xlabel(\"UMI count\")\n",
    "plt.ylabel(\"Transcript number\")\n",
    "plt.axvline(x=identical_until, ls=\"--\")\n",
    "plt.axhline(y=identical_until, ls=\":\")\n",
    "plt.xlim(0, identical_until * 4)\n",
    "plt.ylim(0, identical_until * 4)\n",
    "plt.show()"
   ]
  },
  {
   "cell_type": "code",
   "execution_count": null,
   "metadata": {},
   "outputs": [],
   "source": [
    "umi_count_ad = hagai_2018.load_umi_counts_with_additional_annotation(\"mouse\")\n",
    "umi_count_ad.var[\"max\"] = umi_count_ad.X.max(axis=0).A.squeeze().astype(np.int)\n",
    "\n",
    "high_count_var = umi_count_ad.var.loc[umi_count_ad.var[\"max\"] >= identical_until].sort_values(by=\"max\", ascending=False)\n",
    "print(f\"{len(high_count_var):,} genes out of {umi_count_ad.n_vars:,} have UMI count >= {identical_until:,}\")\n",
    "\n",
    "for i, row in enumerate(high_count_var.itertuples(), start=1):\n",
    "    print(f\"  {i}. {row.symbol}: max UMI of {row.max:,} maps to {transcript_numbers[row.max]:,} transcripts\")"
   ]
  },
  {
   "cell_type": "code",
   "execution_count": null,
   "metadata": {},
   "outputs": [],
   "source": []
  }
 ],
 "metadata": {
  "jupytext": {
   "encoding": "# -*- coding: utf-8 -*-",
   "formats": "ipynb,.ipynb.py:percent"
  },
  "kernelspec": {
   "display_name": "Python 3",
   "language": "python",
   "name": "python3"
  },
  "language_info": {
   "codemirror_mode": {
    "name": "ipython",
    "version": 3
   },
   "file_extension": ".py",
   "mimetype": "text/x-python",
   "name": "python",
   "nbconvert_exporter": "python",
   "pygments_lexer": "ipython3",
   "version": "3.8.2"
  }
 },
 "nbformat": 4,
 "nbformat_minor": 4
}
