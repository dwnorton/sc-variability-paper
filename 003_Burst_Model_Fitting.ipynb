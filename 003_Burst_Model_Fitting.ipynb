{
 "cells": [
  {
   "cell_type": "code",
   "execution_count": null,
   "metadata": {},
   "outputs": [],
   "source": [
    "import anndata\n",
    "\n",
    "from rp2 import create_folder, get_data_path, get_output_path, get_scripts_path, working_directory"
   ]
  },
  {
   "cell_type": "markdown",
   "metadata": {},
   "source": [
    "As a proof of concept, create UMI .csv files for 10 genes per condition and run them through txburst scripts"
   ]
  },
  {
   "cell_type": "code",
   "execution_count": null,
   "metadata": {},
   "outputs": [],
   "source": [
    "nouse_umi_ad = anndata.read_h5ad(get_data_path(\"ArrayExpress\", \"E-MTAB-6754.processed.2.mouse.h5ad\"))"
   ]
  },
  {
   "cell_type": "code",
   "execution_count": null,
   "metadata": {},
   "outputs": [],
   "source": [
    "txburst_files_path = get_output_path(\"txburst\")\n",
    "create_folder(txburst_files_path, create_clean=True)\n",
    "\n",
    "for (replicate, treatment, time_point), df in nouse_umi_ad.obs.groupby([\"replicate\", \"treatment\", \"time_point\"]):\n",
    "    csv_path = txburst_files_path.joinpath(f\"mouse_umi_{replicate}_{treatment}_{time_point}.csv\")\n",
    "    subset_ad = nouse_umi_ad[df.index.values, :10]\n",
    "    subset_ad.to_df().T.to_csv(csv_path, header=False)"
   ]
  },
  {
   "cell_type": "code",
   "execution_count": null,
   "metadata": {},
   "outputs": [],
   "source": [
    "txburst_script_path = get_scripts_path(\"txburst\")\n",
    "\n",
    "with working_directory(txburst_files_path):\n",
    "    for csv_file_path in txburst_files_path.glob(\"*.csv\"):\n",
    "        txburst_ml_script_path = txburst_script_path.joinpath(\"txburstML.py\")\n",
    "        cmd = f\"{txburst_ml_script_path} --njobs 4 {csv_file_path.name}\"\n",
    "        print(\"Excecuting:\", cmd)\n",
    "        %run {cmd}"
   ]
  },
  {
   "cell_type": "code",
   "execution_count": null,
   "metadata": {},
   "outputs": [],
   "source": []
  }
 ],
 "metadata": {
  "kernelspec": {
   "display_name": "Python 3",
   "language": "python",
   "name": "python3"
  },
  "language_info": {
   "codemirror_mode": {
    "name": "ipython",
    "version": 3
   },
   "file_extension": ".py",
   "mimetype": "text/x-python",
   "name": "python",
   "nbconvert_exporter": "python",
   "pygments_lexer": "ipython3",
   "version": "3.8.2"
  }
 },
 "nbformat": 4,
 "nbformat_minor": 4
}
