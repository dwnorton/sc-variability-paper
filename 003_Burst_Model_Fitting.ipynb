{
 "cells": [
  {
   "cell_type": "code",
   "execution_count": null,
   "metadata": {},
   "outputs": [],
   "source": [
    "from pathlib import Path"
   ]
  },
  {
   "cell_type": "code",
   "execution_count": null,
   "metadata": {},
   "outputs": [],
   "source": [
    "import anndata\n",
    "import pandas as pd\n",
    "from IPython.core.display import display\n",
    "\n",
    "from rp2 import create_folder, get_data_path, get_output_path, get_scripts_path, working_directory, GeneSymbolMap"
   ]
  },
  {
   "cell_type": "code",
   "execution_count": null,
   "metadata": {},
   "outputs": [],
   "source": [
    "study_species = \"mouse\"\n",
    "\n",
    "umi_count_ad = anndata.read_h5ad(get_data_path(\"ArrayExpress\", f\"E-MTAB-6754.processed.2.{study_species}.h5ad\"))"
   ]
  },
  {
   "cell_type": "code",
   "execution_count": null,
   "metadata": {},
   "outputs": [],
   "source": [
    "gene_symbols_df = pd.read_table(\n",
    "    get_data_path(\"BioMart\", f\"{study_species}_genes.tsv\"),\n",
    "    names=[\"id\", \"symbol\", \"description\"],\n",
    "    index_col=0\n",
    ")\n",
    "symbol_map = GeneSymbolMap(gene_symbols_df)"
   ]
  },
  {
   "cell_type": "code",
   "execution_count": null,
   "metadata": {},
   "outputs": [],
   "source": [
    "maximum_responsive_gene_padj = 0.01\n",
    "\n",
    "phagocyte_genes_df = pd.read_excel(\n",
    "    get_data_path(\"hagai_2018\", \"41586_2018_657_MOESM4_ESM.xlsx\"),\n",
    "    sheet_name=\"phagocytes_FC_diveregnce\"\n",
    ")\n",
    "responsive_phagocyte_genes = phagocyte_genes_df.loc[phagocyte_genes_df[f\"{study_species}_padj\"] < maximum_responsive_gene_padj].gene\n",
    "print(f\"{len(responsive_phagocyte_genes):,} responsive phagocyte genes\")"
   ]
  },
  {
   "cell_type": "code",
   "execution_count": null,
   "metadata": {},
   "outputs": [],
   "source": [
    "gene_sets = {\n",
    "    f\"{study_species}_responsive_genes\": responsive_phagocyte_genes\n",
    "}\n",
    "\n",
    "txburst_output_path = get_output_path(\"txburst\")\n",
    "\n",
    "for gene_set_name, genes in gene_sets.items():\n",
    "    gene_set_output_path = txburst_output_path.joinpath(gene_set_name)\n",
    "    if gene_set_output_path.exists():\n",
    "        print(\"Skipping:\", gene_set_output_path.name)\n",
    "        continue\n",
    "\n",
    "    create_folder(gene_set_output_path)\n",
    "\n",
    "    for (replicate, treatment, time_point), df in umi_count_ad.obs.groupby([\"replicate\", \"treatment\", \"time_point\"]):\n",
    "        csv_path = gene_set_output_path.joinpath(f\"{study_species}_umi_{replicate}_{treatment}_{time_point}.csv\")\n",
    "        print(\"Writing:\", csv_path.name)\n",
    "        subset_ad = umi_count_ad[df.index.values, genes]\n",
    "        subset_ad.to_df().T.to_csv(csv_path, index_label=\"gene\")   "
   ]
  },
  {
   "cell_type": "code",
   "execution_count": null,
   "metadata": {},
   "outputs": [],
   "source": [
    "txburst_script_path = get_scripts_path(\"txburst\")\n",
    "\n",
    "run_txburst = True\n",
    "\n",
    "for sub_folder in filter(Path.is_dir, txburst_output_path.iterdir()):\n",
    "    output_csv_path = sub_folder.with_suffix(\".csv\")\n",
    "    if output_csv_path.exists():\n",
    "        print(\"Skipping:\", sub_folder.name)\n",
    "        continue\n",
    "\n",
    "    with working_directory(sub_folder):\n",
    "        for full_csv_file_path in sub_folder.glob(\"*.csv\"):\n",
    "            csv_file_path = full_csv_file_path.name\n",
    "            ml_file_path = Path(full_csv_file_path.stem + \"_ML.pkl\")\n",
    "            pl_file_path = Path(full_csv_file_path.stem + \"_PL.pkl\")\n",
    "\n",
    "            txburst_ml_script_path = txburst_script_path.joinpath(\"txburstML.py\")\n",
    "            txburst_pl_script_path = txburst_script_path.joinpath(\"txburstPL.py\")\n",
    "\n",
    "            commands = []\n",
    "            if not pl_file_path.exists():\n",
    "                commands.append(f\"{txburst_ml_script_path} --njobs 4 {csv_file_path}\")\n",
    "            if not ml_file_path.exists():\n",
    "                commands.append(f\"{txburst_pl_script_path} --njobs 4 --file {csv_file_path} --MLFile {ml_file_path}\")\n",
    "\n",
    "            for cmd in commands:\n",
    "                print(\"Executing:\", cmd)\n",
    "                if run_txburst:\n",
    "                    %run {cmd}\n",
    "\n",
    "    txburst_df = []\n",
    "\n",
    "    for pl_path in sub_folder.glob(\"*_PL.pkl\"):\n",
    "        replicate, treatment, time_point = pl_path.stem.split(\"_\")[2:5]\n",
    "        pl_df = pd.read_pickle(pl_path)\n",
    "\n",
    "        condition_df = pd.DataFrame(data={\n",
    "            \"gene\": pl_df.index,\n",
    "            \"replicate\": replicate,\n",
    "            \"treatment\": treatment,\n",
    "            \"time_point\": time_point,\n",
    "        })\n",
    "        condition_df[[\"k_on\", \"k_off\", \"k_syn\"]] = pd.DataFrame(pl_df.iloc[:, 0].to_list())\n",
    "        condition_df[[\"bf_point\", \"bf_lower\", \"bf_upper\"]] = pd.DataFrame(pl_df.iloc[:, 1].to_list())\n",
    "        condition_df[[\"bs_point\", \"bs_lower\", \"bs_upper\"]] = pd.DataFrame(pl_df.iloc[:, 2].to_list())\n",
    "\n",
    "        txburst_df.append(condition_df)\n",
    "\n",
    "    txburst_df = pd.concat(txburst_df, ignore_index=True).sort_values(by=[\"gene\", \"replicate\", \"time_point\", \"treatment\"])\n",
    "    txburst_df.to_csv(output_csv_path)\n",
    "    display(symbol_map.added_to(txburst_df))\n",
    "\n",
    "    totals_df = txburst_df.gene.value_counts().sort_values(ascending=False).to_frame(\"total\")\n",
    "    totals_df.index.name = \"gene\"\n",
    "    display(symbol_map.added_to(totals_df))"
   ]
  },
  {
   "cell_type": "code",
   "execution_count": null,
   "metadata": {},
   "outputs": [],
   "source": []
  }
 ],
 "metadata": {
  "jupytext": {
   "formats": "ipynb,.ipynb.py:percent"
  },
  "kernelspec": {
   "display_name": "Python 3",
   "language": "python",
   "name": "python3"
  },
  "language_info": {
   "codemirror_mode": {
    "name": "ipython",
    "version": 3
   },
   "file_extension": ".py",
   "mimetype": "text/x-python",
   "name": "python",
   "nbconvert_exporter": "python",
   "pygments_lexer": "ipython3",
   "version": "3.8.2"
  }
 },
 "nbformat": 4,
 "nbformat_minor": 4
}
