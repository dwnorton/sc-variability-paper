{
 "cells": [
  {
   "cell_type": "code",
   "execution_count": null,
   "metadata": {},
   "outputs": [],
   "source": [
    "import anndata\n",
    "import pandas as pd\n",
    "from IPython.core.display import display\n",
    "\n",
    "from rp2 import create_folder, get_data_path, get_output_path, get_scripts_path, working_directory"
   ]
  },
  {
   "cell_type": "markdown",
   "metadata": {},
   "source": [
    "As a proof of concept, create UMI .csv files for 10 genes per condition and run them through txburst scripts"
   ]
  },
  {
   "cell_type": "code",
   "execution_count": null,
   "metadata": {},
   "outputs": [],
   "source": [
    "study_species = \"mouse\"\n",
    "study_treatment_set = \"lps\""
   ]
  },
  {
   "cell_type": "code",
   "execution_count": null,
   "metadata": {},
   "outputs": [],
   "source": [
    "umi_count_ad = anndata.read_h5ad(get_data_path(\"ArrayExpress\", f\"E-MTAB-6754.processed.2.{study_species}.h5ad\"))"
   ]
  },
  {
   "cell_type": "code",
   "execution_count": null,
   "metadata": {},
   "outputs": [],
   "source": [
    "lr_fit_df = pd.read_csv(get_output_path(f\"{study_species}_{study_treatment_set}_lr_fit_per_gene.csv\"), index_col=0)\n",
    "best_lr_fits = lr_fit_df.r2.sort_values(ascending=False)[:10]\n",
    "display(best_lr_fits)"
   ]
  },
  {
   "cell_type": "code",
   "execution_count": null,
   "metadata": {},
   "outputs": [],
   "source": [
    "txburst_files_path = get_output_path(\"txburst\")\n",
    "create_folder(txburst_files_path, create_clean=True)\n",
    "\n",
    "for (replicate, treatment, time_point), df in umi_count_ad.obs.groupby([\"replicate\", \"treatment\", \"time_point\"]):\n",
    "    csv_path = txburst_files_path.joinpath(f\"{study_species}_umi_{replicate}_{treatment}_{time_point}.csv\")\n",
    "    subset_ad = umi_count_ad[df.index.values, best_lr_fits.index]\n",
    "    subset_ad.to_df().T.to_csv(csv_path, index_label=\"gene\")"
   ]
  },
  {
   "cell_type": "code",
   "execution_count": null,
   "metadata": {},
   "outputs": [],
   "source": [
    "txburst_script_path = get_scripts_path(\"txburst\")\n",
    "\n",
    "with working_directory(txburst_files_path):\n",
    "    for full_csv_file_path in txburst_files_path.glob(\"*.csv\"):\n",
    "        csv_file_path = full_csv_file_path.name\n",
    "        ml_file_path = full_csv_file_path.stem + \"_ML.pkl\"\n",
    "\n",
    "        txburst_ml_script_path = txburst_script_path.joinpath(\"txburstML.py\")\n",
    "        txburst_pl_script_path = txburst_script_path.joinpath(\"txburstPL.py\")\n",
    "\n",
    "        ml_cmd = f\"{txburst_ml_script_path} --njobs 4 {csv_file_path}\"\n",
    "        pl_cmd = f\"{txburst_pl_script_path} --njobs 4 --file {csv_file_path} --MLFile {ml_file_path}\"\n",
    "\n",
    "        for cmd in [ml_cmd, pl_cmd]:\n",
    "            print(\"Executing:\", cmd)\n",
    "            %run {cmd}"
   ]
  },
  {
   "cell_type": "code",
   "execution_count": null,
   "metadata": {},
   "outputs": [],
   "source": [
    "txburst_df = []\n",
    "\n",
    "for pl_path in txburst_files_path.glob(f\"{study_species}_*_PL.pkl\"):\n",
    "    replicate, treatment, time_point = pl_path.stem.split(\"_\")[2:5]\n",
    "    pl_df = pd.read_pickle(pl_path)\n",
    "\n",
    "    condition_df = pd.DataFrame(data={\n",
    "        \"gene\": pl_df.index,\n",
    "        \"replicate\": replicate,\n",
    "        \"treatment\": treatment,\n",
    "        \"time_point\": time_point,\n",
    "    })\n",
    "    condition_df[[\"k_on\", \"k_off\", \"k_syn\"]] = pd.DataFrame(pl_df.iloc[:, 0].to_list())\n",
    "    condition_df[[\"bf_point\", \"bf_lower\", \"bf_upper\"]] = pd.DataFrame(pl_df.iloc[:, 1].to_list())\n",
    "    condition_df[[\"bs_point\", \"bs_lower\", \"bs_upper\"]] = pd.DataFrame(pl_df.iloc[:, 2].to_list())\n",
    "\n",
    "    txburst_df.append(condition_df)\n",
    "\n",
    "txburst_df = pd.concat(txburst_df, ignore_index=True).sort_values(by=[\"gene\", \"replicate\", \"time_point\", \"treatment\"])\n",
    "display(txburst_df)"
   ]
  },
  {
   "cell_type": "code",
   "execution_count": null,
   "metadata": {},
   "outputs": [],
   "source": [
    "display(txburst_df.gene.value_counts().sort_values())"
   ]
  },
  {
   "cell_type": "code",
   "execution_count": null,
   "metadata": {},
   "outputs": [],
   "source": [
    "txburst_df.to_csv(get_output_path(\"burst_kinetics_fitting.csv\"))"
   ]
  },
  {
   "cell_type": "code",
   "execution_count": null,
   "metadata": {},
   "outputs": [],
   "source": []
  }
 ],
 "metadata": {
  "jupytext": {
   "formats": "ipynb,.ipynb.py:percent"
  },
  "kernelspec": {
   "display_name": "Python 3",
   "language": "python",
   "name": "python3"
  },
  "language_info": {
   "codemirror_mode": {
    "name": "ipython",
    "version": 3
   },
   "file_extension": ".py",
   "mimetype": "text/x-python",
   "name": "python",
   "nbconvert_exporter": "python",
   "pygments_lexer": "ipython3",
   "version": "3.8.2"
  }
 },
 "nbformat": 4,
 "nbformat_minor": 4
}
