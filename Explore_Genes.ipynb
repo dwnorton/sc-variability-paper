{
 "cells": [
  {
   "cell_type": "code",
   "execution_count": null,
   "metadata": {},
   "outputs": [],
   "source": [
    "import ipywidgets as widgets\n",
    "import matplotlib.pyplot as plt\n",
    "import numpy as np\n",
    "import pandas as pd\n",
    "from IPython.display import display, Latex\n",
    "\n",
    "import rp2\n",
    "from rp2 import load_biomart_gene_symbols_df, hagai_2018, txburst\n",
    "from rp2.paths import get_output_path\n",
    "\n",
    "rp2.check_environment()"
   ]
  },
  {
   "cell_type": "code",
   "execution_count": null,
   "metadata": {},
   "outputs": [],
   "source": [
    "species = \"mouse\""
   ]
  },
  {
   "cell_type": "code",
   "execution_count": null,
   "metadata": {},
   "outputs": [],
   "source": [
    "gene_symbols_df = load_biomart_gene_symbols_df(species)"
   ]
  },
  {
   "cell_type": "code",
   "execution_count": null,
   "metadata": {},
   "outputs": [],
   "source": [
    "umi_adata = hagai_2018.load_umi_count(species)"
   ]
  },
  {
   "cell_type": "code",
   "execution_count": null,
   "metadata": {},
   "outputs": [],
   "source": [
    "txburst_params_df = pd.read_csv(get_output_path(\"txburst\", \"mouse_responsive_genes.csv\"))"
   ]
  },
  {
   "cell_type": "code",
   "execution_count": null,
   "metadata": {},
   "outputs": [],
   "source": [
    "def describe_gene_condition(gene_id, replicates, treatments, time_points):\n",
    "    gene_symbol = gene_symbols_df.loc[gene_id].symbol\n",
    "    print(f\"{gene_symbol} ({gene_id})\")\n",
    "\n",
    "    umi_adata_view = umi_adata[:, gene_id]\n",
    "    umi_adata_view = umi_adata_view[umi_adata_view.obs.species == species]\n",
    "    umi_adata_view = umi_adata_view[umi_adata_view.obs.replicate.isin(replicates)]\n",
    "    umi_adata_view = umi_adata_view[umi_adata_view.obs.treatment.isin(treatments)]\n",
    "    umi_adata_view = umi_adata_view[umi_adata_view.obs.time_point.isin(time_points)]\n",
    "    umi_adata_view = umi_adata_view.copy()\n",
    "    umi_counts = umi_adata_view.X.A.squeeze().astype(np.int)\n",
    "\n",
    "    txburst_params_view = txburst_params_df.loc[txburst_params_df.gene == gene_id]\n",
    "    print(f\"  {len(txburst_params_view)} conditions (total for gene)\")\n",
    "\n",
    "    txburst_params_view = txburst_params_view.loc[txburst_params_view.replicate.isin(replicates)]\n",
    "    txburst_params_view = txburst_params_view.loc[txburst_params_view.treatment.isin(treatments)]\n",
    "    txburst_params_view = txburst_params_view.loc[txburst_params_view.time_point.isin(time_points)]\n",
    "    if len(txburst_params_view) == 0:\n",
    "        print(\"  Selected condition has no data\")\n",
    "        return\n",
    "    assert(len(txburst_params_view) == 1)\n",
    "\n",
    "    n_cells = len(umi_counts)\n",
    "    max_count = np.max(umi_counts)\n",
    "    print(f\"  {n_cells:,} cells, {np.count_nonzero(umi_counts == 0):,} with no UMIs\")\n",
    "\n",
    "    umi_var = np.var(umi_counts, ddof=1)\n",
    "    umi_mean = np.mean(umi_counts)\n",
    "\n",
    "    k_on, k_off, k_syn = txburst_params_view.squeeze()[[\"k_on\", \"k_off\", \"k_syn\"]]\n",
    "\n",
    "    bin_values, bin_edges, _ = plt.hist(umi_counts, bins=min(50, max_count), color=\"orange\")\n",
    "    hist_area = np.sum(np.diff(bin_edges) * bin_values)\n",
    "\n",
    "    pmf_in = np.arange(max_count)\n",
    "    pmf_out = txburst.poisson_beta_pmf(pmf_in, k_on, k_off, k_syn)\n",
    "    plt.plot(pmf_in + np.mean(bin_edges[:2]), hist_area * pmf_out, \"g--\", linewidth=2)\n",
    "\n",
    "    plt.axvline(x=umi_mean, linestyle=\":\")\n",
    "    plt.xlabel(\"UMI count\")\n",
    "    plt.ylabel(\"Cells\")\n",
    "    plt.show()\n",
    "\n",
    "    display(txburst_params_view.loc[:, \"k_on\":])\n",
    "\n",
    "    bm = umi_var / umi_mean\n",
    "    fm = 1 / (bm - 1)\n",
    "    display(\n",
    "        Latex(\", \".join([\n",
    "            f\"$\\\\mu={umi_mean:.2f}$\",\n",
    "            f\"$\\\\sigma^2={umi_var:.2f}$\",\n",
    "            f\"$b_{{m}}=\\\\frac{{\\\\sigma^2}}{{\\\\mu}}={bm:.2f}$\",\n",
    "            f\"$f_{{m}}=\\\\frac{{1}}{{b_{{m}}-1}}={fm:.2f}$\",\n",
    "        ])),\n",
    "        Latex(f\"burstiness$=\\\\frac{{k_{{off}}}}{{k_{{on}}}}={k_off / k_on:.2f}$\"),\n",
    "    )"
   ]
  },
  {
   "cell_type": "code",
   "execution_count": null,
   "metadata": {},
   "outputs": [],
   "source": [
    "all_genes = gene_symbols_df.loc[txburst_params_df.gene.unique()].symbol.sort_values()\n",
    "\n",
    "gene_selector = widgets.Select(\n",
    "    description=\"Gene:\",\n",
    "    options=list(zip(all_genes.values, all_genes.index)),\n",
    "    label=\"Pfn1\",\n",
    "    rows=4,\n",
    ")\n",
    "replicate_selector = widgets.Select(\n",
    "    description=\"Replicate:\",\n",
    "    options=umi_adata.obs.replicate.sort_values().unique().tolist(),\n",
    "    value=\"1\",\n",
    "    rows=3,\n",
    ")\n",
    "treatment_selector = widgets.Select(\n",
    "    description=\"Treatment:\",\n",
    "    options=umi_adata.obs.treatment[umi_adata.obs.treatment != \"unst\"].sort_values().unique().tolist(),\n",
    "    value=\"lps\",\n",
    "    rows=2,\n",
    ")\n",
    "time_point_selector = widgets.Select(\n",
    "    description=\"Time:\",\n",
    "    options=umi_adata.obs.time_point.sort_values().unique().tolist(),\n",
    "    value=\"6\",\n",
    "    rows=5,\n",
    ")\n",
    "\n",
    "ui_output = widgets.Output()\n",
    "\n",
    "ui_container = widgets.VBox([\n",
    "    widgets.HBox([\n",
    "        widgets.VBox([gene_selector, replicate_selector]),\n",
    "        widgets.VBox([treatment_selector, time_point_selector]),\n",
    "    ]),\n",
    "    ui_output,\n",
    "])\n",
    "\n",
    "\n",
    "def update_ui():\n",
    "    ui_output.clear_output()\n",
    "    with ui_output:\n",
    "        describe_gene_condition(\n",
    "            gene_id=gene_selector.value,\n",
    "            replicates=[replicate_selector.value],\n",
    "            treatments=[\"unst\", treatment_selector.value],\n",
    "            time_points=[time_point_selector.value],\n",
    "        )\n",
    "\n",
    "def event_handler(event):\n",
    "    if event[\"type\"] != \"change\": return\n",
    "    if event[\"name\"] != \"value\": return\n",
    "    update_ui()\n",
    "\n",
    "gene_selector.observe(event_handler)\n",
    "replicate_selector.observe(event_handler)\n",
    "treatment_selector.observe(event_handler)\n",
    "time_point_selector.observe(event_handler)\n",
    "\n",
    "display(ui_container)\n",
    "update_ui()"
   ]
  },
  {
   "cell_type": "code",
   "execution_count": null,
   "metadata": {},
   "outputs": [],
   "source": []
  }
 ],
 "metadata": {
  "jupytext": {
   "formats": "ipynb,.ipynb.py:percent"
  },
  "kernelspec": {
   "display_name": "Python 3",
   "language": "python",
   "name": "python3"
  },
  "language_info": {
   "codemirror_mode": {
    "name": "ipython",
    "version": 3
   },
   "file_extension": ".py",
   "mimetype": "text/x-python",
   "name": "python",
   "nbconvert_exporter": "python",
   "pygments_lexer": "ipython3",
   "version": "3.8.2"
  }
 },
 "nbformat": 4,
 "nbformat_minor": 4
}
