{
 "cells": [
  {
   "cell_type": "code",
   "execution_count": null,
   "metadata": {},
   "outputs": [],
   "source": [
    "import ipywidgets as widgets\n",
    "import matplotlib.pyplot as plt\n",
    "import numpy as np\n",
    "import pandas as pd\n",
    "from IPython.display import display\n",
    "from scipy import stats, special\n",
    "\n",
    "from rp2 import load_biomart_gene_symbols_df, hagai_2018\n",
    "from rp2.paths import get_output_path"
   ]
  },
  {
   "cell_type": "code",
   "execution_count": null,
   "metadata": {},
   "outputs": [],
   "source": [
    "species = \"mouse\""
   ]
  },
  {
   "cell_type": "code",
   "execution_count": null,
   "metadata": {},
   "outputs": [],
   "source": [
    "gene_symbols_df = load_biomart_gene_symbols_df(species)"
   ]
  },
  {
   "cell_type": "code",
   "execution_count": null,
   "metadata": {},
   "outputs": [],
   "source": [
    "umi_adata = hagai_2018.load_umi_count(species)"
   ]
  },
  {
   "cell_type": "code",
   "execution_count": null,
   "metadata": {},
   "outputs": [],
   "source": [
    "txburst_params_df = pd.read_csv(get_output_path(\"txburst\", \"mouse_responsive_genes.csv\"))"
   ]
  },
  {
   "cell_type": "code",
   "execution_count": null,
   "metadata": {},
   "outputs": [],
   "source": [
    "def poisson_beta_pmf(k, k_on, k_off, k_syn, n_roots=50):\n",
    "    assert(k_on > 0)\n",
    "    assert(k_off > 0)\n",
    "\n",
    "    roots, weights = special.j_roots(n_roots, alpha=k_off - 1, beta=k_on - 1)\n",
    "    mus = k_syn * (roots + 1) / 2\n",
    "    assert(max(mus) < 1e6)\n",
    "\n",
    "    gs = np.sum(weights * stats.poisson.pmf(k.reshape(-1, 1), mus), axis=1)\n",
    "    probabilities = 1 / special.beta(k_on, k_off) * 2 ** (1 - k_on - k_off) * gs\n",
    "    return probabilities"
   ]
  },
  {
   "cell_type": "code",
   "execution_count": null,
   "metadata": {},
   "outputs": [],
   "source": [
    "def describe_gene_condition(gene_symbol, replicates, treatments, time_points):\n",
    "    gene_symbols_view = gene_symbols_df.loc[gene_symbols_df.symbol == gene_symbol]\n",
    "    if len(gene_symbols_view) > 1:\n",
    "        print(f\"Gene symbol {gene_symbol} is not unique:\")\n",
    "        for gene_id in gene_symbols_view.index:\n",
    "            print(f\"  {gene_id}\")\n",
    "        return\n",
    "\n",
    "    gene_id = gene_symbols_view.index[0]\n",
    "    print(f\"{gene_symbol} ({gene_id})\")\n",
    "\n",
    "    umi_adata_view = umi_adata[:, gene_id]\n",
    "    umi_adata_view = umi_adata_view[umi_adata_view.obs.species == species]\n",
    "    umi_adata_view = umi_adata_view[umi_adata_view.obs.replicate.isin(replicates)]\n",
    "    umi_adata_view = umi_adata_view[umi_adata_view.obs.treatment.isin(treatments)]\n",
    "    umi_adata_view = umi_adata_view[umi_adata_view.obs.time_point.isin(time_points)]\n",
    "    umi_adata_view = umi_adata_view.copy()\n",
    "    umi_counts = umi_adata_view.X.A.squeeze().astype(np.int)\n",
    "\n",
    "    txburst_params_view = txburst_params_df.loc[txburst_params_df.gene == gene_id]\n",
    "    print(f\"  {len(txburst_params_view)} conditions (total for gene)\")\n",
    "\n",
    "    txburst_params_view = txburst_params_view.loc[txburst_params_view.replicate.isin(replicates)]\n",
    "    txburst_params_view = txburst_params_view.loc[txburst_params_view.treatment.isin(treatments)]\n",
    "    txburst_params_view = txburst_params_view.loc[txburst_params_view.time_point.isin(time_points)]\n",
    "    if len(txburst_params_view) == 0:\n",
    "        print(\"  Selected condition has no data\")\n",
    "        return\n",
    "    assert(len(txburst_params_view) == 1)\n",
    "\n",
    "    n_cells = len(umi_counts)\n",
    "    max_count = np.max(umi_counts)\n",
    "    print(f\"  {n_cells:,} cells\")\n",
    "\n",
    "    k_on, k_off, k_syn = txburst_params_view.squeeze()[[\"k_on\", \"k_off\", \"k_syn\"]]\n",
    "\n",
    "    bin_values, bin_edges, _ = plt.hist(umi_counts, bins=min(50, max_count), color=\"k\")\n",
    "    hist_area = np.sum(np.diff(bin_edges) * bin_values)\n",
    "\n",
    "    pmf_in = np.arange(max_count)\n",
    "    pmf_out = poisson_beta_pmf(pmf_in, k_on, k_off, k_syn)\n",
    "    plt.plot(pmf_in + np.mean(bin_edges[:2]), hist_area * pmf_out, \"g--\", linewidth=2)\n",
    "\n",
    "    plt.xlabel(\"UMI count\")\n",
    "    plt.ylabel(\"Cells\")\n",
    "    plt.show()\n",
    "\n",
    "    display(txburst_params_view.loc[:, \"k_on\":])"
   ]
  },
  {
   "cell_type": "code",
   "execution_count": null,
   "metadata": {},
   "outputs": [],
   "source": [
    "def create_dropdown(description, series, selection):\n",
    "    return widgets.Dropdown(\n",
    "        description=description,\n",
    "        options=series.sort_values().unique().tolist(),\n",
    "        value=selection,\n",
    "    )\n",
    "\n",
    "gene_symbol_dropdown = create_dropdown(\"Gene:\", txburst_params_df.gene.map(gene_symbols_df.symbol), \"Pfn1\")\n",
    "replicate_dropdown = create_dropdown(\"Replicate:\", umi_adata.obs.replicate, \"1\")\n",
    "treatment_dropdown = create_dropdown(\"Treatment:\", umi_adata.obs.treatment[umi_adata.obs.treatment != \"unst\"], \"lps\")\n",
    "time_point_dropdown = create_dropdown(\"Time\", umi_adata.obs.time_point, \"6\")\n",
    "\n",
    "ui_output = widgets.Output()\n",
    "\n",
    "ui_container = widgets.VBox([\n",
    "    widgets.HBox([\n",
    "        widgets.VBox([gene_symbol_dropdown, replicate_dropdown]),\n",
    "        widgets.VBox([treatment_dropdown, time_point_dropdown]),\n",
    "    ]),\n",
    "    ui_output,\n",
    "])\n",
    "\n",
    "def update_ui():\n",
    "    ui_output.clear_output()\n",
    "    with ui_output:\n",
    "        describe_gene_condition(\n",
    "            gene_symbol=gene_symbol_dropdown.value,\n",
    "            replicates=[replicate_dropdown.value],\n",
    "            treatments=[\"unst\", treatment_dropdown.value],\n",
    "            time_points=[time_point_dropdown.value],\n",
    "        )\n",
    "\n",
    "def event_handler(event):\n",
    "    if event[\"type\"] != \"change\": return\n",
    "    if event[\"name\"] != \"value\": return\n",
    "    update_ui()\n",
    "\n",
    "gene_symbol_dropdown.observe(event_handler)\n",
    "replicate_dropdown.observe(event_handler)\n",
    "treatment_dropdown.observe(event_handler)\n",
    "time_point_dropdown.observe(event_handler)\n",
    "\n",
    "display(ui_container)\n",
    "update_ui()"
   ]
  },
  {
   "cell_type": "code",
   "execution_count": null,
   "metadata": {},
   "outputs": [],
   "source": []
  }
 ],
 "metadata": {
  "jupytext": {
   "formats": "ipynb,.ipynb.py:percent"
  },
  "kernelspec": {
   "display_name": "Python 3",
   "language": "python",
   "name": "python3"
  },
  "language_info": {
   "codemirror_mode": {
    "name": "ipython",
    "version": 3
   },
   "file_extension": ".py",
   "mimetype": "text/x-python",
   "name": "python",
   "nbconvert_exporter": "python",
   "pygments_lexer": "ipython3",
   "version": "3.8.2"
  }
 },
 "nbformat": 4,
 "nbformat_minor": 4
}
