{
 "cells": [
  {
   "cell_type": "code",
   "execution_count": null,
   "metadata": {},
   "outputs": [],
   "source": [
    "import anndata\n",
    "import matplotlib.pyplot as plt\n",
    "import numpy as np\n",
    "import pandas as pd\n",
    "from scipy import stats, special\n",
    "\n",
    "from rp2 import load_biomart_gene_symbols_df\n",
    "from rp2.paths import get_data_path, get_output_path"
   ]
  },
  {
   "cell_type": "code",
   "execution_count": null,
   "metadata": {},
   "outputs": [],
   "source": [
    "species = \"mouse\""
   ]
  },
  {
   "cell_type": "code",
   "execution_count": null,
   "metadata": {},
   "outputs": [],
   "source": [
    "gene_symbols_df = load_biomart_gene_symbols_df(species)"
   ]
  },
  {
   "cell_type": "code",
   "execution_count": null,
   "metadata": {},
   "outputs": [],
   "source": [
    "umi_adata = anndata.read_h5ad(get_data_path(\"ArrayExpress\", f\"E-MTAB-6754.processed.2.{species}.h5ad\"))"
   ]
  },
  {
   "cell_type": "code",
   "execution_count": null,
   "metadata": {},
   "outputs": [],
   "source": [
    "txburst_params_df = pd.read_csv(get_output_path(\"txburst\", \"mouse_responsive_genes.csv\"))"
   ]
  },
  {
   "cell_type": "code",
   "execution_count": null,
   "metadata": {},
   "outputs": [],
   "source": [
    "def poisson_beta_pmf(k, k_on, k_off, k_syn, n_roots=50):\n",
    "    assert(k_on > 0)\n",
    "    assert(k_off > 0)\n",
    "\n",
    "    roots, weights = special.j_roots(n_roots, alpha=k_off - 1, beta=k_on - 1)\n",
    "    mus = k_syn * (roots + 1) / 2\n",
    "    assert(max(mus) < 1e6)\n",
    "\n",
    "    gs = np.sum(weights * stats.poisson.pmf(k.reshape(-1, 1), mus), axis=1)\n",
    "    probabilities = 1 / special.beta(k_on, k_off) * 2 ** (1 - k_on - k_off) * gs\n",
    "    return probabilities"
   ]
  },
  {
   "cell_type": "code",
   "execution_count": null,
   "metadata": {},
   "outputs": [],
   "source": [
    "def describe_gene_condition(gene_symbol, replicates, treatments, time_points):\n",
    "    gene_symbols_view = gene_symbols_df.loc[gene_symbols_df.symbol == gene_symbol]\n",
    "    assert(len(gene_symbols_view) == 1)\n",
    "    gene_id = gene_symbols_view.index[0]\n",
    "    print(f\"{gene_symbol} ({gene_id})\")\n",
    "\n",
    "    umi_adata_view = umi_adata[:, gene_id]\n",
    "    umi_adata_view = umi_adata_view[umi_adata_view.obs.species == species]\n",
    "    umi_adata_view = umi_adata_view[umi_adata_view.obs.replicate.isin(replicates)]\n",
    "    umi_adata_view = umi_adata_view[umi_adata_view.obs.treatment.isin(treatments)]\n",
    "    umi_adata_view = umi_adata_view[umi_adata_view.obs.time_point.isin(time_points)]\n",
    "    umi_adata_view = umi_adata_view.copy()\n",
    "    umi_counts = umi_adata_view.X.A.squeeze()\n",
    "\n",
    "    txburst_params_view = txburst_params_df.loc[txburst_params_df.gene == gene_id]\n",
    "    print(f\"  {len(txburst_params_view)} conditions\")\n",
    "\n",
    "    txburst_params_view = txburst_params_view.loc[txburst_params_view.replicate.isin(replicates)]\n",
    "    txburst_params_view = txburst_params_view.loc[txburst_params_view.treatment.isin(treatments)]\n",
    "    txburst_params_view = txburst_params_view.loc[txburst_params_view.time_point.isin(time_points)]\n",
    "    assert(len(txburst_params_view) == 1)\n",
    "\n",
    "    n_cells = len(umi_counts)\n",
    "    max_count = np.max(umi_counts)\n",
    "\n",
    "    k_on, k_off, k_syn = txburst_params_view.squeeze()[[\"k_on\", \"k_off\", \"k_syn\"]]\n",
    "\n",
    "    plt.hist(umi_counts, bins=50, color=\"k\")\n",
    "    plt.plot(n_cells * poisson_beta_pmf(np.arange(max_count), k_on, k_off, k_syn), \"g--\", linewidth=2)\n",
    "    plt.show()"
   ]
  },
  {
   "cell_type": "code",
   "execution_count": null,
   "metadata": {},
   "outputs": [],
   "source": [
    "describe_gene_condition(\n",
    "    gene_symbol=\"Pfn1\",\n",
    "    replicates=[\"1\"],\n",
    "    treatments=[\"unst\", \"lps\"],\n",
    "    time_points=[\"6\"],\n",
    ")"
   ]
  },
  {
   "cell_type": "code",
   "execution_count": null,
   "metadata": {},
   "outputs": [],
   "source": []
  }
 ],
 "metadata": {
  "jupytext": {
   "formats": "ipynb,.ipynb.py:percent"
  },
  "kernelspec": {
   "display_name": "Python 3",
   "language": "python",
   "name": "python3"
  },
  "language_info": {
   "codemirror_mode": {
    "name": "ipython",
    "version": 3
   },
   "file_extension": ".py",
   "mimetype": "text/x-python",
   "name": "python",
   "nbconvert_exporter": "python",
   "pygments_lexer": "ipython3",
   "version": "3.8.2"
  }
 },
 "nbformat": 4,
 "nbformat_minor": 4
}
