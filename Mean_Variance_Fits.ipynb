{
 "cells": [
  {
   "cell_type": "code",
   "execution_count": null,
   "metadata": {},
   "outputs": [],
   "source": [
    "import ipywidgets as widgets\n",
    "import matplotlib.pyplot as plt\n",
    "import pandas as pd\n",
    "import seaborn as sns\n",
    "\n",
    "import rp2\n",
    "from rp2 import hagai_2018, ui, notebooks, regression\n",
    "\n",
    "_ = notebooks.initialise_environment(\n",
    "    \"Mean_Variance_Fits\",\n",
    "    dependencies=[\"Data_Setup\"],\n",
    ")"
   ]
  },
  {
   "cell_type": "code",
   "execution_count": null,
   "metadata": {},
   "outputs": [],
   "source": [
    "species_to_compare = [\"mouse\", \"pig\", \"rabbit\", \"rat\"]"
   ]
  },
  {
   "cell_type": "code",
   "execution_count": null,
   "metadata": {},
   "outputs": [],
   "source": [
    "lps_responsive_mouse_genes = hagai_2018.load_lps_responsive_genes()\n",
    "analysis_orthologues = rp2.load_mouse_orthologues().loc[lps_responsive_mouse_genes].reset_index()\n",
    "analysis_orthologues.columns = analysis_orthologues.columns.str.slice(0, -5)"
   ]
  },
  {
   "cell_type": "code",
   "execution_count": null,
   "metadata": {},
   "outputs": [],
   "source": [
    "gene_info_df = pd.concat([rp2.load_biomart_gene_symbols_df(species) for species in species_to_compare])"
   ]
  },
  {
   "cell_type": "code",
   "execution_count": null,
   "metadata": {},
   "outputs": [],
   "source": [
    "def create_stats(species, count_type=\"median\"):\n",
    "    counts_adata = hagai_2018.load_counts(species, scaling=count_type)\n",
    "    counts_adata = counts_adata[:, analysis_orthologues[species]].copy()\n",
    "    stats = hagai_2018.calculate_counts_condition_stats(counts_adata)\n",
    "    stats.insert(1, \"species\", species)\n",
    "    return stats\n",
    "\n",
    "\n",
    "stats_df = pd.concat([create_stats(species) for species in species_to_compare])"
   ]
  },
  {
   "cell_type": "code",
   "execution_count": null,
   "metadata": {},
   "outputs": [],
   "source": [
    "mv_lr_df = stats_df.groupby(\"gene\").apply(regression.fit_robust_linear_trend, x_var=\"mean\", y_var=\"variance\")"
   ]
  },
  {
   "cell_type": "code",
   "execution_count": null,
   "metadata": {},
   "outputs": [],
   "source": [
    "@widgets.interact(mouse_gene_id=ui.make_gene_selector(gene_info_df.loc[analysis_orthologues.mouse].symbol, rows=5))\n",
    "def plot_mv(mouse_gene_id):\n",
    "    gene_ids = analysis_orthologues.loc[analysis_orthologues.mouse == mouse_gene_id].squeeze().to_list()\n",
    "    stats_subset = stats_df.loc[stats_df.gene.isin(gene_ids)]\n",
    "    lr_subset = mv_lr_df.loc[gene_ids]\n",
    "\n",
    "    plot_df = stats_subset[[\"gene\", \"species\", \"replicate\", \"treatment\", \"time_point\", \"mean\", \"variance\"]].copy()\n",
    "    plot_df = plot_df.merge(lr_subset, on=\"gene\").sort_values(by=[\"gene\", \"mean\"])\n",
    "    plot_df[\"lr_y\"] = (plot_df[\"mean\"] * plot_df[\"slope\"]) + plot_df[\"intercept\"]\n",
    "\n",
    "    colours = sns.color_palette()[:len(gene_ids)]\n",
    "\n",
    "    plot_output = widgets.Output()\n",
    "    with plot_output:\n",
    "        sns.scatterplot(\n",
    "            plot_df[\"mean\"],\n",
    "            plot_df[\"variance\"],\n",
    "            style=plot_df[\"treatment\"],\n",
    "            hue=plot_df[\"species\"],\n",
    "            hue_order=species_to_compare,\n",
    "            palette=colours,\n",
    "        )\n",
    "\n",
    "        ax = sns.lineplot(\n",
    "            plot_df[\"mean\"],\n",
    "            plot_df[\"lr_y\"],\n",
    "            hue=plot_df[\"species\"],\n",
    "            hue_order=species_to_compare,\n",
    "            palette=colours,\n",
    "            legend=None,\n",
    "        )\n",
    "        for line in ax.lines:\n",
    "            line.set_linestyle(\"--\")\n",
    "\n",
    "        x_max = plot_df[\"mean\"].max()\n",
    "        y_max = plot_df[\"variance\"].max()\n",
    "\n",
    "        plt.legend(loc=\"upper left\", bbox_to_anchor=(1, 1))\n",
    "        plt.xlim(left=-(x_max / 20))\n",
    "        plt.ylim(bottom=-(y_max / 20))\n",
    "        plt.show()\n",
    "\n",
    "    info_output = widgets.Output()\n",
    "    with info_output:\n",
    "        display(lr_subset)\n",
    "\n",
    "    display(widgets.HBox([plot_output, info_output]))"
   ]
  },
  {
   "cell_type": "code",
   "execution_count": null,
   "metadata": {},
   "outputs": [],
   "source": []
  }
 ],
 "metadata": {
  "jupytext": {
   "formats": "ipynb,.ipynb.py:percent"
  },
  "kernelspec": {
   "display_name": "Python 3",
   "language": "python",
   "name": "python3"
  },
  "language_info": {
   "codemirror_mode": {
    "name": "ipython",
    "version": 3
   },
   "file_extension": ".py",
   "mimetype": "text/x-python",
   "name": "python",
   "nbconvert_exporter": "python",
   "pygments_lexer": "ipython3",
   "version": "3.8.2"
  }
 },
 "nbformat": 4,
 "nbformat_minor": 4
}
