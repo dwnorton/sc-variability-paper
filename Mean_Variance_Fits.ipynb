{
 "cells": [
  {
   "cell_type": "code",
   "execution_count": null,
   "metadata": {},
   "outputs": [],
   "source": [
    "import ipywidgets as widgets\n",
    "import matplotlib.pyplot as plt\n",
    "import pandas as pd\n",
    "import seaborn as sns\n",
    "from IPython.core.display import display\n",
    "\n",
    "import rp2\n",
    "from rp2 import hagai_2018, notebooks, regression, ui\n",
    "from rp2.data import load_and_recalculate_txburst_results\n",
    "\n",
    "_ = notebooks.initialise_environment(\n",
    "    \"Mean_Variance_Fits\",\n",
    "    dependencies=[\"Burst_Model_Fitting\"],\n",
    ")"
   ]
  },
  {
   "cell_type": "code",
   "execution_count": null,
   "metadata": {},
   "outputs": [],
   "source": [
    "species_to_compare = [\"mouse\", \"pig\", \"rabbit\", \"rat\"]"
   ]
  },
  {
   "cell_type": "code",
   "execution_count": null,
   "metadata": {},
   "outputs": [],
   "source": [
    "lps_responsive_mouse_genes = hagai_2018.load_lps_responsive_genes()\n",
    "analysis_orthologues = rp2.load_mouse_orthologues().loc[lps_responsive_mouse_genes].reset_index()\n",
    "analysis_orthologues.columns = analysis_orthologues.columns.str.slice(0, -5)"
   ]
  },
  {
   "cell_type": "code",
   "execution_count": null,
   "metadata": {},
   "outputs": [],
   "source": [
    "gene_info_df = pd.concat([rp2.load_biomart_gene_symbols_df(species) for species in species_to_compare])"
   ]
  },
  {
   "cell_type": "code",
   "execution_count": null,
   "metadata": {},
   "outputs": [],
   "source": [
    "def create_condition_info(species, count_type=\"median\"):\n",
    "    condition_columns = [\"replicate\", \"treatment\", \"time_point\"]\n",
    "    index_columns = [\"gene\"] + condition_columns\n",
    "    counts_adata = hagai_2018.load_counts(species, scaling=count_type)\n",
    "    counts_adata = counts_adata[counts_adata.obs.time_point.isin([\"0\", \"2\", \"4\", \"6\"]), analysis_orthologues[species]].copy()\n",
    "    info_df = hagai_2018.calculate_counts_condition_stats(counts_adata)\n",
    "    info_df.insert(1, \"species\", species)\n",
    "    info_df = info_df.merge(\n",
    "        load_and_recalculate_txburst_results(species, condition_columns=condition_columns, count_type=count_type),\n",
    "        on=index_columns,\n",
    "        how=\"left\",\n",
    "    )\n",
    "    return info_df\n",
    "\n",
    "\n",
    "condition_info_df = pd.concat([create_condition_info(species) for species in species_to_compare])"
   ]
  },
  {
   "cell_type": "code",
   "execution_count": null,
   "metadata": {},
   "outputs": [],
   "source": [
    "mv_lr_df = condition_info_df.groupby(\"gene\").apply(regression.fit_robust_linear_trend, x_var=\"mean\", y_var=\"variance\")"
   ]
  },
  {
   "cell_type": "code",
   "execution_count": null,
   "metadata": {},
   "outputs": [],
   "source": [
    "mv_plot_output = widgets.Output()\n",
    "mv_info_output = widgets.Output()\n",
    "bs_plot_output = widgets.Output()\n",
    "bf_plot_output = widgets.Output()\n",
    "burst_info_output = widgets.Output()\n",
    "\n",
    "tab_widget = widgets.Tab()\n",
    "tab_widget.children = [widgets.HBox([mv_plot_output, mv_info_output]), widgets.HBox([bs_plot_output, bf_plot_output, burst_info_output])]\n",
    "tab_widget.set_title(0, \"Mean-Variance\")\n",
    "tab_widget.set_title(1, \"Bursting\")\n",
    "\n",
    "\n",
    "@widgets.interact(mouse_gene_id=ui.make_gene_selector(gene_info_df.loc[analysis_orthologues.mouse].symbol, rows=5))\n",
    "def plot_mv(mouse_gene_id):\n",
    "    gene_ids = analysis_orthologues.loc[analysis_orthologues.mouse == mouse_gene_id].squeeze().to_list()\n",
    "    stats_subset = condition_info_df.loc[condition_info_df.gene.isin(gene_ids)]\n",
    "    lr_subset = mv_lr_df.loc[gene_ids].copy()\n",
    "    lr_subset.insert(0, \"symbol\", gene_info_df.symbol[lr_subset.index])\n",
    "\n",
    "    plot_df = stats_subset[[\"gene\", \"species\", \"replicate\", \"treatment\", \"time_point\", \"mean\", \"variance\", \"bs_point\", \"bf_point\"]].copy()\n",
    "    plot_df = plot_df.merge(lr_subset, on=\"gene\").sort_values(by=[\"gene\", \"mean\"])\n",
    "    plot_df[\"lr_y\"] = (plot_df[\"mean\"] * plot_df[\"slope\"]) + plot_df[\"intercept\"]\n",
    "\n",
    "    colours = sns.color_palette()[:len(gene_ids)]\n",
    "\n",
    "    mv_plot_output.clear_output()\n",
    "    with mv_plot_output:\n",
    "        sns.scatterplot(\n",
    "            plot_df[\"mean\"],\n",
    "            plot_df[\"variance\"],\n",
    "            style=plot_df[\"treatment\"],\n",
    "            style_order=[\"unst\", \"lps\", \"pic\"],\n",
    "            hue=plot_df[\"species\"],\n",
    "            hue_order=species_to_compare,\n",
    "            palette=colours,\n",
    "        )\n",
    "\n",
    "        ax = sns.lineplot(\n",
    "            plot_df[\"mean\"],\n",
    "            plot_df[\"lr_y\"],\n",
    "            hue=plot_df[\"species\"],\n",
    "            hue_order=species_to_compare,\n",
    "            palette=colours,\n",
    "            legend=None,\n",
    "        )\n",
    "        for line in ax.lines:\n",
    "            line.set_linestyle(\"--\")\n",
    "\n",
    "        ui.zero_axes_origin()\n",
    "        plt.legend(loc=\"upper left\", bbox_to_anchor=(1, 1))\n",
    "        plt.xlabel(\"Mean\")\n",
    "        plt.ylabel(\"Variance\")\n",
    "        plt.show()\n",
    "\n",
    "    mv_info_output.clear_output()\n",
    "    with mv_info_output:\n",
    "        display(lr_subset)\n",
    "\n",
    "    bs_plot_output.clear_output()\n",
    "    with bs_plot_output:\n",
    "        sns.scatterplot(\n",
    "            plot_df[\"mean\"],\n",
    "            plot_df[\"bs_point\"],\n",
    "            style=plot_df[\"treatment\"],\n",
    "            style_order=[\"unst\", \"lps\", \"pic\"],\n",
    "            hue=plot_df[\"species\"],\n",
    "            hue_order=species_to_compare,\n",
    "            palette=colours,\n",
    "        )\n",
    "        ui.zero_axes_origin()\n",
    "        plt.legend(loc=\"upper left\", bbox_to_anchor=(1, 1))\n",
    "        plt.show()\n",
    "\n",
    "    bf_plot_output.clear_output()\n",
    "    with bf_plot_output:\n",
    "        sns.scatterplot(\n",
    "            plot_df[\"mean\"],\n",
    "            plot_df[\"bf_point\"],\n",
    "            style=plot_df[\"treatment\"],\n",
    "            style_order=[\"unst\", \"lps\", \"pic\"],\n",
    "            hue=plot_df[\"species\"],\n",
    "            hue_order=species_to_compare,\n",
    "            palette=colours,\n",
    "        )\n",
    "        ui.zero_axes_origin()\n",
    "        plt.legend(loc=\"upper left\", bbox_to_anchor=(1, 1))\n",
    "        plt.show()\n",
    "\n",
    "    burst_info_output.clear_output()\n",
    "    with burst_info_output:\n",
    "        print(f\"{plot_df.bs_point.count()} result(s)\")\n",
    "\n",
    "\n",
    "display(tab_widget)"
   ]
  },
  {
   "cell_type": "code",
   "execution_count": null,
   "metadata": {},
   "outputs": [],
   "source": []
  }
 ],
 "metadata": {
  "jupytext": {
   "formats": "ipynb,.ipynb.py:percent"
  },
  "kernelspec": {
   "display_name": "Python 3",
   "language": "python",
   "name": "python3"
  },
  "language_info": {
   "codemirror_mode": {
    "name": "ipython",
    "version": 3
   },
   "file_extension": ".py",
   "mimetype": "text/x-python",
   "name": "python",
   "nbconvert_exporter": "python",
   "pygments_lexer": "ipython3",
   "version": "3.8.2"
  }
 },
 "nbformat": 4,
 "nbformat_minor": 4
}
