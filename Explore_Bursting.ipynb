{
 "cells": [
  {
   "cell_type": "code",
   "execution_count": null,
   "metadata": {},
   "outputs": [],
   "source": [
    "import ipywidgets as widgets\n",
    "import matplotlib.pyplot as plt\n",
    "import numpy as np\n",
    "import pandas as pd\n",
    "import seaborn as sns\n",
    "\n",
    "import rp2\n",
    "from rp2 import hagai_2018\n",
    "from rp2.paths import get_txburst_results_csv_path\n",
    "\n",
    "rp2.check_environment()"
   ]
  },
  {
   "cell_type": "code",
   "execution_count": null,
   "metadata": {},
   "outputs": [],
   "source": [
    "species = \"mouse\"\n",
    "\n",
    "txburst_params_df = pd.read_csv(get_txburst_results_csv_path(species))\n",
    "txburst_params_df.replicate = txburst_params_df.replicate.astype(str)\n",
    "\n",
    "for param in [\"bf\", \"bs\"]:\n",
    "    txburst_params_df[f\"valid_{param}_point\"] = txburst_params_df[f\"{param}_point\"].notna()\n",
    "    txburst_params_df[f\"valid_{param}_interval\"] = txburst_params_df[f\"{param}_lower\"].notna() & txburst_params_df[f\"{param}_upper\"].notna()\n",
    "txburst_params_df[\"valid_points\"] = txburst_params_df.valid_bs_point & txburst_params_df.valid_bf_point\n",
    "txburst_params_df[\"valid_intervals\"] = txburst_params_df.valid_bs_interval & txburst_params_df.valid_bf_interval\n",
    "txburst_params_df[\"valid_params\"] = txburst_params_df.valid_points & txburst_params_df.valid_intervals\n",
    "txburst_params_df[\"k_burstiness\"] = txburst_params_df.k_off / txburst_params_df.k_on"
   ]
  },
  {
   "cell_type": "code",
   "execution_count": null,
   "metadata": {},
   "outputs": [],
   "source": [
    "umi_counts_adata = hagai_2018.load_umi_counts_with_additional_annotation(species)\n",
    "umi_stats_df = hagai_2018.calculate_umi_condition_stats(umi_counts_adata)"
   ]
  },
  {
   "cell_type": "code",
   "execution_count": null,
   "metadata": {},
   "outputs": [],
   "source": [
    "index_columns = [\"gene\", \"replicate\", \"treatment\", \"time_point\"]\n",
    "\n",
    "condition_info_df = txburst_params_df.set_index(index_columns).join(umi_stats_df.set_index(index_columns)).reset_index()\n",
    "\n",
    "all_treatments = condition_info_df.treatment.sort_values().unique().tolist()"
   ]
  },
  {
   "cell_type": "code",
   "execution_count": null,
   "metadata": {},
   "outputs": [],
   "source": [
    "@widgets.interact(y_scale=[\"linear\", \"log\"])\n",
    "def plot_per_gene_condition_frequency(y_scale):\n",
    "    n_treatments = len(all_treatments)\n",
    "    _, axes = plt.subplots(ncols=n_treatments, figsize=(n_treatments * 5, 5), sharey=True)\n",
    "    for treatment, ax in zip(all_treatments, axes):\n",
    "        counts = condition_info_df.loc[condition_info_df.treatment == treatment].groupby(\"gene\")[[\"keep\", \"valid_intervals\"]].agg(np.count_nonzero).melt()\n",
    "        sns.countplot(\n",
    "            x=\"value\",\n",
    "            hue=\"variable\",\n",
    "            ax=ax,\n",
    "            data=counts,\n",
    "        )\n",
    "        ax.set_title(treatment)\n",
    "        ax.set_xlabel(\"No. conditions\")\n",
    "        ax.set_ylabel(\"No. genes\")\n",
    "        ax.set_yscale(y_scale)\n",
    "        ax.legend(loc=\"upper right\")\n",
    "    plt.tight_layout()\n",
    "    plt.show()"
   ]
  },
  {
   "cell_type": "code",
   "execution_count": null,
   "metadata": {},
   "outputs": [],
   "source": [
    "@widgets.interact(valid_flag=[\"valid_points\", \"valid_intervals\"], y_scale=widgets.Combobox(opeions=[\"linear\", \"log\"], value=\"log\"))\n",
    "def plot_(valid_flag, y_scale):\n",
    "    vars = [\"mean\", \"min\", \"max\", \"std_dev\", \"n_barcodes\"]\n",
    "    n_vars = len(vars)\n",
    "    _, axes = plt.subplots(1, n_vars, figsize=(4 * n_vars, 4))\n",
    "    for v, ax in zip(vars, axes):\n",
    "        ax.boxplot(\n",
    "            [condition_info_df.loc[condition_info_df[valid_flag], v],\n",
    "             condition_info_df.loc[~condition_info_df[valid_flag], v]],\n",
    "            labels=[\"True\", \"False\"],\n",
    "        )\n",
    "        ax.set_ylabel(v)\n",
    "        ax.set_yscale(y_scale)\n",
    "    plt.tight_layout()\n",
    "    plt.show()\n",
    "    widgets.interact()"
   ]
  },
  {
   "cell_type": "code",
   "execution_count": null,
   "metadata": {},
   "outputs": [],
   "source": [
    "@widgets.interact(valid_flag=[\"valid_points\", \"valid_intervals\"])\n",
    "def plot_burst_size_vs_frequency(valid_flag):\n",
    "    sns.jointplot(\n",
    "        x=\"bs_point\",\n",
    "        y=\"bf_point\",\n",
    "        data=condition_info_df.loc[condition_info_df[valid_flag]],\n",
    "    )\n",
    "    plt.show()"
   ]
  },
  {
   "cell_type": "code",
   "execution_count": null,
   "metadata": {},
   "outputs": [],
   "source": [
    "@widgets.interact(valid_flag=[\"valid_points\", \"valid_intervals\"], colour_by=[\"replicate\", \"treatment\", \"time_point\", None])\n",
    "def plot_burst_param_pairs(valid_flag, colour_by):\n",
    "    sns.pairplot(\n",
    "        vars=[\"k_on\", \"k_off\", \"k_syn\", \"bs_point\", \"bf_point\"],\n",
    "        hue=colour_by,\n",
    "        data=condition_info_df.loc[condition_info_df[valid_flag]],\n",
    "    )"
   ]
  },
  {
   "cell_type": "code",
   "execution_count": null,
   "metadata": {},
   "outputs": [],
   "source": [
    "@widgets.interact(valid_flag=[\"valid_points\", \"valid_intervals\"], colour_by=[\"replicate\", \"treatment\", \"time_point\"])\n",
    "def plot_(valid_flag, colour_by):\n",
    "    grid = sns.pairplot(\n",
    "        x_vars=[\"mean\", \"k_burstiness\"],\n",
    "        y_vars=[\"bs_point\", \"bf_point\"],\n",
    "        hue=colour_by,\n",
    "        data=condition_info_df.loc[condition_info_df[valid_flag]],\n",
    "    )\n"
   ]
  },
  {
   "cell_type": "code",
   "execution_count": null,
   "metadata": {},
   "outputs": [],
   "source": []
  }
 ],
 "metadata": {
  "jupytext": {
   "formats": "ipynb,.ipynb.py:percent"
  },
  "kernelspec": {
   "display_name": "Python 3",
   "language": "python",
   "name": "python3"
  },
  "language_info": {
   "codemirror_mode": {
    "name": "ipython",
    "version": 3
   },
   "file_extension": ".py",
   "mimetype": "text/x-python",
   "name": "python",
   "nbconvert_exporter": "python",
   "pygments_lexer": "ipython3",
   "version": "3.8.2"
  }
 },
 "nbformat": 4,
 "nbformat_minor": 4
}
