{
 "cells": [
  {
   "cell_type": "code",
   "execution_count": null,
   "metadata": {
    "lines_to_next_cell": 1
   },
   "outputs": [],
   "source": [
    "import ipywidgets as widgets\n",
    "import matplotlib.pyplot as plt\n",
    "import numpy as np\n",
    "import pandas as pd\n",
    "import seaborn as sns\n",
    "from IPython.display import display\n",
    "from sklearn.linear_model import LinearRegression\n",
    "\n",
    "import rp2\n",
    "from rp2 import hagai_2018\n",
    "from rp2.paths import get_txburst_results_csv_path\n",
    "\n",
    "rp2.check_environment()"
   ]
  },
  {
   "cell_type": "code",
   "execution_count": null,
   "metadata": {},
   "outputs": [],
   "source": [
    "def load_txburst_params(species):\n",
    "    params_df = pd.read_csv(get_txburst_results_csv_path(species))\n",
    "    params_df.replicate = params_df.replicate.astype(str)\n",
    "\n",
    "    for param in [\"bf\", \"bs\"]:\n",
    "        params_df[f\"valid_{param}_point\"] = params_df[f\"{param}_point\"].notna()\n",
    "        params_df[f\"valid_{param}_interval\"] = params_df[f\"{param}_lower\"].notna() & params_df[\n",
    "            f\"{param}_upper\"].notna()\n",
    "    params_df[\"valid_points\"] = params_df.valid_bs_point & params_df.valid_bf_point\n",
    "    params_df[\"valid_intervals\"] = params_df.valid_bs_interval & params_df.valid_bf_interval\n",
    "    params_df[\"valid_params\"] = params_df.valid_points & params_df.valid_intervals\n",
    "    params_df[\"k_burstiness\"] = params_df.k_off / params_df.k_on\n",
    "\n",
    "    return params_df\n",
    "\n",
    "\n",
    "notebook_species = \"mouse\"\n",
    "\n",
    "txburst_params_df = load_txburst_params(notebook_species)"
   ]
  },
  {
   "cell_type": "code",
   "execution_count": null,
   "metadata": {},
   "outputs": [],
   "source": [
    "umi_counts_adata = hagai_2018.load_umi_counts_with_additional_annotation(notebook_species)\n",
    "umi_counts_adata = umi_counts_adata[:, txburst_params_df.gene.unique()].copy()\n",
    "umi_stats_df = hagai_2018.calculate_umi_condition_stats(umi_counts_adata)\n",
    "\n",
    "gene_symbols = umi_counts_adata.var.symbol"
   ]
  },
  {
   "cell_type": "code",
   "execution_count": null,
   "metadata": {
    "lines_to_next_cell": 1
   },
   "outputs": [],
   "source": [
    "index_columns = [\"gene\", \"replicate\", \"treatment\", \"time_point\"]\n",
    "\n",
    "condition_info_df = txburst_params_df.set_index(index_columns).join(umi_stats_df.set_index(index_columns)).reset_index()\n",
    "\n",
    "all_treatments = condition_info_df.treatment.sort_values().unique().tolist()"
   ]
  },
  {
   "cell_type": "code",
   "execution_count": null,
   "metadata": {},
   "outputs": [],
   "source": [
    "def create_gene_regression(condition_df):\n",
    "    lr_x, lr_y = condition_df.loc[:, [\"mean\", \"variance\"]].to_numpy().reshape(1, -1, 2).T\n",
    "    lr = LinearRegression().fit(lr_x, lr_y)\n",
    "\n",
    "    return pd.Series(data={\n",
    "        \"slope\": lr.coef_.item(),\n",
    "        \"intercept\": lr.intercept_.item(),\n",
    "        \"r2\": lr.score(lr_x, lr_y),\n",
    "    })\n",
    "\n",
    "\n",
    "def create_gene_info(treatments):\n",
    "    condition_info_subset = condition_info_df.loc[condition_info_df.treatment.isin(treatments)]\n",
    "    gene_info_df = condition_info_subset.groupby(\"gene\").apply(create_gene_regression)\n",
    "    return gene_info_df\n",
    "\n",
    "\n",
    "treatment_groups = {\n",
    "    \"LPS only\": [\"unst\", \"lps\"],\n",
    "    \"PIC only\": [\"unst\", \"pic\"],\n",
    "    \"LPS and PIC\": [\"unst\", \"lps\", \"pic\"],\n",
    "}\n",
    "\n",
    "gene_info_map = {name: create_gene_info(treatments) for name, treatments in treatment_groups.items()}"
   ]
  },
  {
   "cell_type": "code",
   "execution_count": null,
   "metadata": {},
   "outputs": [],
   "source": [
    "def make_scale_selector(default=\"linear\"):\n",
    "    return widgets.Dropdown(\n",
    "        options=[\"linear\", \"log\"],\n",
    "        value=default,\n",
    "    )\n",
    "\n",
    "\n",
    "def make_treatment_group_selector():\n",
    "    return widgets.Dropdown(\n",
    "        options=treatment_groups.keys(),\n",
    "        value=\"LPS and PIC\",\n",
    "    )\n",
    "\n",
    "\n",
    "def make_condition_colour_selector(default=\"time_point\"):\n",
    "    return widgets.Dropdown(\n",
    "        options=[\"replicate\", \"treatment\", \"time_point\", None],\n",
    "        value=default,\n",
    "    )\n",
    "\n",
    "\n",
    "def make_valid_point_flag_selector():\n",
    "    return widgets.Dropdown(options=[\"valid_points\", \"valid_intervals\"])"
   ]
  },
  {
   "cell_type": "code",
   "execution_count": null,
   "metadata": {},
   "outputs": [],
   "source": [
    "@widgets.interact(y_scale=make_scale_selector())\n",
    "def plot_per_gene_condition_frequencies(y_scale):\n",
    "    n_treatments = len(all_treatments)\n",
    "    _, axes = plt.subplots(ncols=n_treatments, figsize=(n_treatments * 5, 5), sharey=True)\n",
    "    for treatment, ax in zip(all_treatments, axes):\n",
    "        counts = condition_info_df.loc[condition_info_df.treatment == treatment].groupby(\"gene\")[[\"keep\", \"valid_intervals\"]].agg(np.count_nonzero).melt()\n",
    "        sns.countplot(\n",
    "            x=\"value\",\n",
    "            hue=\"variable\",\n",
    "            ax=ax,\n",
    "            data=counts,\n",
    "        )\n",
    "        ax.set_title(treatment)\n",
    "        ax.set_xlabel(\"No. conditions\")\n",
    "        ax.set_ylabel(\"No. genes\")\n",
    "        ax.set_yscale(y_scale)\n",
    "        ax.legend(loc=\"upper right\")\n",
    "    plt.tight_layout()\n",
    "    plt.show()"
   ]
  },
  {
   "cell_type": "code",
   "execution_count": null,
   "metadata": {},
   "outputs": [],
   "source": [
    "@widgets.interact(valid_flag=make_valid_point_flag_selector(), y_scale=make_scale_selector(\"log\"))\n",
    "def plot_condition_fit_successes(valid_flag, y_scale):\n",
    "    vars = [\"mean\", \"min\", \"max\", \"std_dev\", \"n_barcodes\"]\n",
    "    n_vars = len(vars)\n",
    "    _, axes = plt.subplots(1, n_vars, figsize=(4 * n_vars, 4))\n",
    "    for v, ax in zip(vars, axes):\n",
    "        ax.boxplot(\n",
    "            [condition_info_df.loc[condition_info_df[valid_flag], v],\n",
    "             condition_info_df.loc[~condition_info_df[valid_flag], v]],\n",
    "            labels=[\"True\", \"False\"],\n",
    "        )\n",
    "        ax.set_ylabel(v)\n",
    "        ax.set_yscale(y_scale)\n",
    "    plt.tight_layout()\n",
    "    plt.show()"
   ]
  },
  {
   "cell_type": "code",
   "execution_count": null,
   "metadata": {},
   "outputs": [],
   "source": [
    "@widgets.interact(valid_flag=make_valid_point_flag_selector(), scale=make_scale_selector())\n",
    "def plot_burst_size_vs_frequency(valid_flag, scale):\n",
    "    x_var = \"bs_point\"\n",
    "    y_var = \"bf_point\"\n",
    "    n_bins = 40\n",
    "    bin_function = np.geomspace if scale == \"log\" else np.linspace\n",
    "\n",
    "    condition_info_subset = condition_info_df.loc[condition_info_df[valid_flag]]\n",
    "    x_bins, y_bins = (bin_function(condition_info_subset[v].min(), condition_info_subset[v].max(), n_bins)\n",
    "                      for v in (x_var, y_var))                          \n",
    "\n",
    "    grid = sns.JointGrid(\n",
    "        x=x_var,\n",
    "        y=y_var,\n",
    "        data=condition_info_subset,\n",
    "    )\n",
    "    grid.plot_joint(plt.scatter, color=\"black\", edgecolor=\"black\")\n",
    "    grid.ax_marg_x.hist(condition_info_subset[x_var], bins=x_bins)\n",
    "    grid.ax_marg_y.hist(condition_info_subset[y_var], bins=y_bins, orientation=\"horizontal\")\n",
    "    grid.ax_joint.set_xscale(scale)\n",
    "    grid.ax_joint.set_yscale(scale)\n",
    "    grid.ax_marg_x.set_xscale(scale)\n",
    "    grid.ax_marg_y.set_yscale(scale)\n",
    "    plt.show()"
   ]
  },
  {
   "cell_type": "code",
   "execution_count": null,
   "metadata": {},
   "outputs": [],
   "source": [
    "@widgets.interact(valid_flag=make_valid_point_flag_selector(), colour_by=make_condition_colour_selector())\n",
    "def plot_burst_param_pairs(valid_flag, colour_by):\n",
    "    sns.pairplot(\n",
    "        vars=[\"k_on\", \"k_off\", \"k_syn\", \"bs_point\", \"bf_point\"],\n",
    "        hue=colour_by,\n",
    "        data=condition_info_df.loc[condition_info_df[valid_flag]],\n",
    "    )"
   ]
  },
  {
   "cell_type": "code",
   "execution_count": null,
   "metadata": {},
   "outputs": [],
   "source": [
    "@widgets.interact(valid_flag=make_valid_point_flag_selector(), colour_by=make_condition_colour_selector())\n",
    "def plot_condition_params_vs_burst_params(valid_flag, colour_by):\n",
    "    sns.pairplot(\n",
    "        x_vars=[\"mean\", \"variance\", \"k_burstiness\"],\n",
    "        y_vars=[\"bs_point\", \"bf_point\"],\n",
    "        hue=colour_by,\n",
    "        data=condition_info_df.loc[condition_info_df[valid_flag]],\n",
    "    )"
   ]
  },
  {
   "cell_type": "code",
   "execution_count": null,
   "metadata": {
    "lines_to_next_cell": 2
   },
   "outputs": [],
   "source": [
    "@widgets.interact(treatment_group=make_treatment_group_selector(), y_scale=make_scale_selector(\"log\"))\n",
    "def plot_regression_histograms(treatment_group, y_scale):\n",
    "    gene_info_df = gene_info_map[treatment_group]\n",
    "    n_columns = len(gene_info_df.columns)\n",
    "    _, axes = plt.subplots(1, n_columns, figsize=(4 * n_columns, 4))\n",
    "    for column, ax in zip(gene_info_df.columns, axes):\n",
    "        ax.hist(\n",
    "            gene_info_df.loc[:, column].values,\n",
    "            bins=30,\n",
    "        )\n",
    "        ax.set_xlabel(column)\n",
    "        ax.set_yscale(y_scale)\n",
    "        \n",
    "    for label in axes[1].get_xticklabels():\n",
    "        label.set_rotation(20)\n",
    "        label.set_ha(\"right\")\n",
    "    plt.tight_layout()\n",
    "    plt.show()"
   ]
  },
  {
   "cell_type": "code",
   "execution_count": null,
   "metadata": {},
   "outputs": [],
   "source": [
    "@widgets.interact(treatment_group=make_treatment_group_selector(), sort_by=[\"slope\", \"intercept\", \"r2\"], ascending=True)\n",
    "def display_regression_list(treatment_group, sort_by, ascending):\n",
    "    gene_info_df = gene_info_map[treatment_group].copy()\n",
    "    gene_info_df.insert(0, \"symbol\", gene_symbols[gene_info_df.index])\n",
    "    display(gene_info_df.sort_values(by=sort_by, ascending=ascending))"
   ]
  },
  {
   "cell_type": "code",
   "execution_count": null,
   "metadata": {},
   "outputs": [],
   "source": [
    "def create_modulation_stats(condition_df):\n",
    "    bs_cv, bf_cv = (np.std(a, ddof=1) / np.mean(a)\n",
    "                    for a in (condition_df.bs_point, condition_df.bf_point))\n",
    "\n",
    "    return pd.Series(data={\n",
    "        \"n_conditions\": len(condition_df),\n",
    "        \"bs_cv\": bs_cv,\n",
    "        \"bf_cv\": bf_cv,\n",
    "    })\n",
    "\n",
    "\n",
    "@widgets.interact(treatment_group=make_treatment_group_selector(), valid_flag=make_valid_point_flag_selector())\n",
    "def plot_slope_vs_cv(treatment_group, valid_flag):\n",
    "    min_valid = 9\n",
    "\n",
    "    treatments = treatment_groups[treatment_group]\n",
    "    condition_info_subset = condition_info_df.loc[condition_info_df[valid_flag] & condition_info_df.treatment.isin(treatments)]\n",
    "\n",
    "    condition_counts = condition_info_subset.gene.value_counts()\n",
    "    accepted_genes = condition_counts[condition_counts >= min_valid]\n",
    "\n",
    "    condition_info_subset = condition_info_subset.loc[condition_info_subset.gene.isin(accepted_genes.index)]\n",
    "\n",
    "    modulation_stats_df = condition_info_subset.groupby(\"gene\").apply(create_modulation_stats)\n",
    "    modulation_stats_df[\"cv_ratio\"] = modulation_stats_df.bs_cv / modulation_stats_df.bf_cv\n",
    "\n",
    "    gene_info_df = gene_info_map[treatment_group]\n",
    "    modulation_stats_df = modulation_stats_df.join(gene_info_df)\n",
    "\n",
    "    sns.pairplot(\n",
    "        y_vars=[\"bs_cv\", \"bf_cv\"],\n",
    "        x_vars=[\"slope\"],\n",
    "        data=modulation_stats_df,\n",
    "    )\n",
    "    plt.show()"
   ]
  },
  {
   "cell_type": "code",
   "execution_count": null,
   "metadata": {},
   "outputs": [],
   "source": [
    "@widgets.interact(treatment_group=make_treatment_group_selector())\n",
    "def plot_mean_and_slope(treatment_group):\n",
    "    gene_info_df = gene_info_map[treatment_group]\n",
    "\n",
    "    joined_df = gene_info_df.reset_index(\"gene\").merge(condition_info_df, on=\"gene\")\n",
    "\n",
    "    sns.pairplot(\n",
    "        vars=[\"mean\", \"variance\", \"slope\"],\n",
    "        data=joined_df,\n",
    "    )\n",
    "    plt.show()"
   ]
  },
  {
   "cell_type": "code",
   "execution_count": null,
   "metadata": {},
   "outputs": [],
   "source": []
  }
 ],
 "metadata": {
  "jupytext": {
   "formats": "ipynb,.ipynb.py:percent"
  },
  "kernelspec": {
   "display_name": "Python 3",
   "language": "python",
   "name": "python3"
  },
  "language_info": {
   "codemirror_mode": {
    "name": "ipython",
    "version": 3
   },
   "file_extension": ".py",
   "mimetype": "text/x-python",
   "name": "python",
   "nbconvert_exporter": "python",
   "pygments_lexer": "ipython3",
   "version": "3.8.2"
  }
 },
 "nbformat": 4,
 "nbformat_minor": 4
}
