{
 "cells": [
  {
   "cell_type": "code",
   "execution_count": null,
   "metadata": {
    "lines_to_next_cell": 1
   },
   "outputs": [],
   "source": [
    "import ipywidgets as widgets\n",
    "import matplotlib.pyplot as plt\n",
    "import numpy as np\n",
    "import pandas as pd\n",
    "import seaborn as sns\n",
    "from sklearn.linear_model import LinearRegression\n",
    "\n",
    "import rp2\n",
    "from rp2 import hagai_2018\n",
    "from rp2.paths import get_txburst_results_csv_path\n",
    "\n",
    "rp2.check_environment()"
   ]
  },
  {
   "cell_type": "code",
   "execution_count": null,
   "metadata": {},
   "outputs": [],
   "source": [
    "def load_txburst_params(species):\n",
    "    params_df = pd.read_csv(get_txburst_results_csv_path(species))\n",
    "    params_df.replicate = params_df.replicate.astype(str)\n",
    "\n",
    "    for param in [\"bf\", \"bs\"]:\n",
    "        params_df[f\"valid_{param}_point\"] = params_df[f\"{param}_point\"].notna()\n",
    "        params_df[f\"valid_{param}_interval\"] = params_df[f\"{param}_lower\"].notna() & params_df[\n",
    "            f\"{param}_upper\"].notna()\n",
    "    params_df[\"valid_points\"] = params_df.valid_bs_point & params_df.valid_bf_point\n",
    "    params_df[\"valid_intervals\"] = params_df.valid_bs_interval & params_df.valid_bf_interval\n",
    "    params_df[\"valid_params\"] = params_df.valid_points & params_df.valid_intervals\n",
    "    params_df[\"k_burstiness\"] = params_df.k_off / params_df.k_on\n",
    "\n",
    "    return params_df\n",
    "\n",
    "\n",
    "notebook_species = \"mouse\"\n",
    "\n",
    "txburst_params_df = load_txburst_params(notebook_species)"
   ]
  },
  {
   "cell_type": "code",
   "execution_count": null,
   "metadata": {},
   "outputs": [],
   "source": [
    "umi_counts_adata = hagai_2018.load_umi_counts_with_additional_annotation(notebook_species)\n",
    "umi_counts_adata = umi_counts_adata[:, txburst_params_df.gene.unique()].copy()\n",
    "umi_stats_df = hagai_2018.calculate_umi_condition_stats(umi_counts_adata)\n",
    "\n",
    "gene_symbols = umi_counts_adata.var.symbol"
   ]
  },
  {
   "cell_type": "code",
   "execution_count": null,
   "metadata": {
    "lines_to_next_cell": 1
   },
   "outputs": [],
   "source": [
    "index_columns = [\"gene\", \"replicate\", \"treatment\", \"time_point\"]\n",
    "\n",
    "condition_info_df = txburst_params_df.set_index(index_columns).join(umi_stats_df.set_index(index_columns)).reset_index()\n",
    "\n",
    "all_treatments = condition_info_df.treatment.sort_values().unique().tolist()"
   ]
  },
  {
   "cell_type": "code",
   "execution_count": null,
   "metadata": {},
   "outputs": [],
   "source": [
    "def create_gene_regression(condition_df):\n",
    "    lr_x, lr_y = condition_df.loc[:, [\"mean\", \"variance\"]].to_numpy().reshape(1, -1, 2).T\n",
    "    lr = LinearRegression().fit(lr_x, lr_y)\n",
    "\n",
    "    return pd.Series(data={\n",
    "        \"slope\": lr.coef_.item(),\n",
    "        \"intercept\": lr.intercept_.item(),\n",
    "        \"r2\": lr.score(lr_x, lr_y),\n",
    "    })\n",
    "\n",
    "\n",
    "def create_gene_info(treatments):\n",
    "    condition_info_subset = condition_info_df.loc[condition_info_df.treatment.isin(treatments)]\n",
    "    gene_info_df = condition_info_subset.groupby(\"gene\").apply(create_gene_regression)\n",
    "    return gene_info_df\n",
    "\n",
    "\n",
    "treatment_groups = {\n",
    "    \"LPS only\": [\"unst\", \"lps\"],\n",
    "    \"PIC only\": [\"unst\", \"pic\"],\n",
    "    \"LPS and PIC\": [\"unst\", \"lps\", \"pic\"],\n",
    "}\n",
    "\n",
    "gene_info_map = {name: create_gene_info(treatments) for name, treatments in treatment_groups.items()}"
   ]
  },
  {
   "cell_type": "code",
   "execution_count": null,
   "metadata": {},
   "outputs": [],
   "source": [
    "@widgets.interact(y_scale=[\"linear\", \"log\"])\n",
    "def plot_per_gene_condition_frequencies(y_scale):\n",
    "    n_treatments = len(all_treatments)\n",
    "    _, axes = plt.subplots(ncols=n_treatments, figsize=(n_treatments * 5, 5), sharey=True)\n",
    "    for treatment, ax in zip(all_treatments, axes):\n",
    "        counts = condition_info_df.loc[condition_info_df.treatment == treatment].groupby(\"gene\")[[\"keep\", \"valid_intervals\"]].agg(np.count_nonzero).melt()\n",
    "        sns.countplot(\n",
    "            x=\"value\",\n",
    "            hue=\"variable\",\n",
    "            ax=ax,\n",
    "            data=counts,\n",
    "        )\n",
    "        ax.set_title(treatment)\n",
    "        ax.set_xlabel(\"No. conditions\")\n",
    "        ax.set_ylabel(\"No. genes\")\n",
    "        ax.set_yscale(y_scale)\n",
    "        ax.legend(loc=\"upper right\")\n",
    "    plt.tight_layout()\n",
    "    plt.show()"
   ]
  },
  {
   "cell_type": "code",
   "execution_count": null,
   "metadata": {},
   "outputs": [],
   "source": [
    "@widgets.interact(valid_flag=[\"valid_points\", \"valid_intervals\"], y_scale=widgets.Combobox(opeions=[\"linear\", \"log\"], value=\"log\"))\n",
    "def plot_condition_fit_successes(valid_flag, y_scale):\n",
    "    vars = [\"mean\", \"min\", \"max\", \"std_dev\", \"n_barcodes\"]\n",
    "    n_vars = len(vars)\n",
    "    _, axes = plt.subplots(1, n_vars, figsize=(4 * n_vars, 4))\n",
    "    for v, ax in zip(vars, axes):\n",
    "        ax.boxplot(\n",
    "            [condition_info_df.loc[condition_info_df[valid_flag], v],\n",
    "             condition_info_df.loc[~condition_info_df[valid_flag], v]],\n",
    "            labels=[\"True\", \"False\"],\n",
    "        )\n",
    "        ax.set_ylabel(v)\n",
    "        ax.set_yscale(y_scale)\n",
    "    plt.tight_layout()\n",
    "    plt.show()"
   ]
  },
  {
   "cell_type": "code",
   "execution_count": null,
   "metadata": {},
   "outputs": [],
   "source": [
    "@widgets.interact(valid_flag=[\"valid_points\", \"valid_intervals\"])\n",
    "def plot_burst_size_vs_frequency(valid_flag):\n",
    "    sns.jointplot(\n",
    "        x=\"bs_point\",\n",
    "        y=\"bf_point\",\n",
    "        data=condition_info_df.loc[condition_info_df[valid_flag]],\n",
    "    )\n",
    "    plt.show()"
   ]
  },
  {
   "cell_type": "code",
   "execution_count": null,
   "metadata": {},
   "outputs": [],
   "source": [
    "@widgets.interact(valid_flag=[\"valid_points\", \"valid_intervals\"], colour_by=[\"replicate\", \"treatment\", \"time_point\", None])\n",
    "def plot_burst_param_pairs(valid_flag, colour_by):\n",
    "    sns.pairplot(\n",
    "        vars=[\"k_on\", \"k_off\", \"k_syn\", \"bs_point\", \"bf_point\"],\n",
    "        hue=colour_by,\n",
    "        data=condition_info_df.loc[condition_info_df[valid_flag]],\n",
    "    )"
   ]
  },
  {
   "cell_type": "code",
   "execution_count": null,
   "metadata": {},
   "outputs": [],
   "source": [
    "@widgets.interact(valid_flag=[\"valid_points\", \"valid_intervals\"], colour_by=[\"replicate\", \"treatment\", \"time_point\"])\n",
    "def plot_condition_params_vs_burst_params(valid_flag, colour_by):\n",
    "    sns.pairplot(\n",
    "        x_vars=[\"mean\", \"k_burstiness\"],\n",
    "        y_vars=[\"bs_point\", \"bf_point\"],\n",
    "        hue=colour_by,\n",
    "        data=condition_info_df.loc[condition_info_df[valid_flag]],\n",
    "    )\n",
    "\n"
   ]
  },
  {
   "cell_type": "code",
   "execution_count": null,
   "metadata": {
    "lines_to_next_cell": 2
   },
   "outputs": [],
   "source": [
    "@widgets.interact(treatment_group=gene_info_map.keys(), y_scale=[\"linear\", \"log\"])\n",
    "def plot_regression_histograms(treatment_group, y_scale):\n",
    "    gene_info_df = gene_info_map[treatment_group]\n",
    "    n_columns = len(gene_info_df.columns)\n",
    "    _, axes = plt.subplots(1, n_columns, figsize=(4 * n_columns, 4))\n",
    "    for column, ax in zip(gene_info_df.columns, axes):\n",
    "        ax.hist(\n",
    "            gene_info_df.loc[:, column].values,\n",
    "            bins=30,\n",
    "        )\n",
    "        ax.set_xlabel(column)\n",
    "        ax.set_yscale(y_scale)\n",
    "        \n",
    "    for label in axes[1].get_xticklabels():\n",
    "        label.set_rotation(20)\n",
    "        label.set_ha(\"right\")\n",
    "    plt.tight_layout()\n",
    "    plt.show()"
   ]
  },
  {
   "cell_type": "code",
   "execution_count": null,
   "metadata": {},
   "outputs": [],
   "source": [
    "@widgets.interact(treatment_group=gene_info_map.keys(), sort_by=[\"slope\", \"intercept\", \"r2\"], ascending=True)\n",
    "def display_regression_list(treatment_group, sort_by, ascending):\n",
    "    gene_info_df = gene_info_map[treatment_group].copy()\n",
    "    gene_info_df.insert(0, \"symbol\", gene_symbols[gene_info_df.index])\n",
    "    display(gene_info_df.sort_values(by=sort_by, ascending=ascending))"
   ]
  },
  {
   "cell_type": "code",
   "execution_count": null,
   "metadata": {},
   "outputs": [],
   "source": []
  }
 ],
 "metadata": {
  "jupytext": {
   "formats": "ipynb,.ipynb.py:percent"
  },
  "kernelspec": {
   "display_name": "Python 3",
   "language": "python",
   "name": "python3"
  },
  "language_info": {
   "codemirror_mode": {
    "name": "ipython",
    "version": 3
   },
   "file_extension": ".py",
   "mimetype": "text/x-python",
   "name": "python",
   "nbconvert_exporter": "python",
   "pygments_lexer": "ipython3",
   "version": "3.8.2"
  }
 },
 "nbformat": 4,
 "nbformat_minor": 4
}
