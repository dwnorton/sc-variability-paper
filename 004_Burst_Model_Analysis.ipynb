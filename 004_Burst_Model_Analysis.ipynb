{
 "cells": [
  {
   "cell_type": "code",
   "execution_count": null,
   "metadata": {},
   "outputs": [],
   "source": [
    "import matplotlib.pyplot as plt\n",
    "import pandas as pd\n",
    "import seaborn as sns\n",
    "\n",
    "from rp2 import get_output_path"
   ]
  },
  {
   "cell_type": "code",
   "execution_count": null,
   "metadata": {},
   "outputs": [],
   "source": [
    "study_species = \"mouse\"\n",
    "study_treatment_set = \"lps\"\n",
    "study_lr_method = \"ols\"\n",
    "\n",
    "index_cols = [\"gene\", \"replicate\", \"treatment\", \"time_point\"]"
   ]
  },
  {
   "cell_type": "code",
   "execution_count": null,
   "metadata": {},
   "outputs": [],
   "source": [
    "common_genes = get_output_path(f\"{study_species}_common_treatment_set_genes.txt\").read_text().split(\"\\n\")\n",
    "print(f\"{len(common_genes):,} genes\")"
   ]
  },
  {
   "cell_type": "code",
   "execution_count": null,
   "metadata": {},
   "outputs": [],
   "source": [
    "lr_fit_df = pd.read_csv(get_output_path(f\"{study_species}_{study_treatment_set}_lr_fit_per_gene.csv\"))\n",
    "lr_fit_df = lr_fit_df.loc[lr_fit_df.method == study_lr_method].set_index(\"gene\")\n",
    "lr_fit_df = lr_fit_df.loc[common_genes]\n",
    "print(lr_fit_df.shape)\n",
    "display(lr_fit_df.head())"
   ]
  },
  {
   "cell_type": "code",
   "execution_count": null,
   "metadata": {},
   "outputs": [],
   "source": [
    "stats_df = pd.read_csv(get_output_path(f\"{study_species}_{study_treatment_set}_stats_per_condition_per_gene.csv\"))\n",
    "stats_df.time_point = stats_df.time_point.astype(str)\n",
    "stats_df = stats_df.loc[stats_df.gene.isin(common_genes)]\n",
    "#stats_df = stats_df.loc[~stats_df.outlier]\n",
    "print(stats_df.shape)\n",
    "display(stats_df.head())"
   ]
  },
  {
   "cell_type": "code",
   "execution_count": null,
   "metadata": {},
   "outputs": [],
   "source": [
    "#stats_df = stats_df.set_index(index_cols)\n",
    "#print(stats_df.shape)\n",
    "#display(stats_df.head())"
   ]
  },
  {
   "cell_type": "code",
   "execution_count": null,
   "metadata": {},
   "outputs": [],
   "source": [
    "txburst_path = get_output_path(\"txburst\")\n",
    "\n",
    "burst_params_df = pd.read_csv(txburst_path.joinpath(f\"{study_species}_responsive_genes.csv\"))\n",
    "print(burst_params_df.shape)\n",
    "display(burst_params_df.head())"
   ]
  },
  {
   "cell_type": "code",
   "execution_count": null,
   "metadata": {},
   "outputs": [],
   "source": [
    "#burst_params_df = burst_params_df.set_index([\"gene\", \"replicate\", \"treatment\", \"time_point\"])\n",
    "#print(burst_params_df.shape)\n",
    "#display(burst_params_df.head())"
   ]
  },
  {
   "cell_type": "code",
   "execution_count": null,
   "metadata": {},
   "outputs": [],
   "source": [
    "concat_df = stats_df.set_index(index_cols).join(burst_params_df.set_index(index_cols), how=\"inner\").reset_index()\n",
    "concat_df = concat_df.sort_values(by=[\"gene\", \"replicate\", \"time_point\", \"treatment\"])\n",
    "print(concat_df.shape)\n",
    "display(concat_df.head())"
   ]
  },
  {
   "cell_type": "code",
   "execution_count": null,
   "metadata": {},
   "outputs": [],
   "source": [
    "display(concat_df.gene.value_counts().sort_values(ascending=False))"
   ]
  },
  {
   "cell_type": "code",
   "execution_count": null,
   "metadata": {},
   "outputs": [],
   "source": [
    "sorted_r2 = lr_fit_df.loc[concat_df.gene.unique()].r2.sort_values(ascending=False)\n",
    "\n",
    "plot_genes = sorted_r2[:5].index\n",
    "plot_columns = [\"k_on\", \"k_off\", \"k_syn\"]\n",
    "\n",
    "_, axes = plt.subplots(len(plot_columns), len(plot_genes), figsize=(20, 12))\n",
    "for ci, gene_id in enumerate(plot_genes):\n",
    "    for ri, column_name in enumerate(plot_columns):\n",
    "        ax = axes[ri, ci]\n",
    "        sns.scatterplot(\n",
    "            x=\"mean\",\n",
    "            y=column_name,\n",
    "            data=concat_df.loc[concat_df.gene == gene_id],\n",
    "            ax=ax,\n",
    "        )\n",
    "        if ri == 0:\n",
    "            ax.set_title(gene_id)\n",
    "        if ri < (axes.shape[0] - 1):\n",
    "            ax.set_xlabel(\"\")\n",
    "        if ci > 0:\n",
    "            ax.set_ylabel(\"\")\n",
    "    \n",
    "plt.show()\n",
    "#g = sns.FacetGrid(plot_df, col=\"gene\", hue=\"replicate\")\n",
    "#g.map(plt.scatter, \"mean\", \"k_on\")\n",
    "#g.add_legend();"
   ]
  },
  {
   "cell_type": "code",
   "execution_count": null,
   "metadata": {},
   "outputs": [],
   "source": []
  }
 ],
 "metadata": {
  "jupytext": {
   "formats": "ipynb,.ipynb.py:percent"
  },
  "kernelspec": {
   "display_name": "Python 3",
   "language": "python",
   "name": "python3"
  },
  "language_info": {
   "codemirror_mode": {
    "name": "ipython",
    "version": 3
   },
   "file_extension": ".py",
   "mimetype": "text/x-python",
   "name": "python",
   "nbconvert_exporter": "python",
   "pygments_lexer": "ipython3",
   "version": "3.8.2"
  }
 },
 "nbformat": 4,
 "nbformat_minor": 4
}
