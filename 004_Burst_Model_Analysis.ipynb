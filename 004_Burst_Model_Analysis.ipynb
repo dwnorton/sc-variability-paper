{
 "cells": [
  {
   "cell_type": "code",
   "execution_count": null,
   "metadata": {},
   "outputs": [],
   "source": [
    "import matplotlib.pyplot as plt\n",
    "import numpy as np\n",
    "import pandas as pd\n",
    "import seaborn as sns\n",
    "\n",
    "import rp2.data\n",
    "from rp2 import hagai_2018, create_gene_symbol_map\n",
    "from rp2.paths import get_output_path, get_txburst_results_path\n",
    "\n",
    "rp2.check_environment()"
   ]
  },
  {
   "cell_type": "markdown",
   "metadata": {},
   "source": [
    "# Initial analysis\n",
    "\n",
    "The \"geneal analysis\" below may not be accounting for some potential issues in the txburst results. These problems are explored in this section. First, load results intended for downstream analysis and determine which points appear to be \"valid\"."
   ]
  },
  {
   "cell_type": "code",
   "execution_count": null,
   "metadata": {},
   "outputs": [],
   "source": [
    "condition_columns = [\"replicate\", \"treatment\", \"time_point\"]\n",
    "\n",
    "txburst_df = rp2.data.load_txburst_results(\"mouse\", condition_columns, \"median\")\n",
    "\n",
    "txburst_df[\"valid_points\"] = txburst_df.bs_point.notna() & txburst_df.bf_point.notna()\n",
    "txburst_df[\"valid_bs_interval\"] = txburst_df.bs_lower.notna() & txburst_df.bs_upper.notna()\n",
    "txburst_df[\"valid_bf_interval\"] = txburst_df.bf_lower.notna() & txburst_df.bf_upper.notna()\n",
    "txburst_df[\"valid_intervals\"] = txburst_df.valid_bs_interval & txburst_df.valid_bf_interval\n",
    "display(txburst_df[[\"keep\"] + [c for c in txburst_df.columns if c.startswith(\"valid_\")]].agg(np.count_nonzero))"
   ]
  },
  {
   "cell_type": "markdown",
   "metadata": {},
   "source": [
    "The txburst [GitHub page](https://github.com/sandberg-lab/txburst) states that \"burst frequency = k_on\" and \"burst size = k_syn/k_off\". Is this true for all the points that are flagged as valid? Plotting the point estimates against their k-parameter-derived equivalents should produce lines of identity:"
   ]
  },
  {
   "cell_type": "code",
   "execution_count": null,
   "metadata": {},
   "outputs": [],
   "source": [
    "txburst_valid_subset = txburst_df.loc[txburst_df.valid_points]\n",
    "\n",
    "bf = txburst_valid_subset.bf_point\n",
    "bf2 = txburst_valid_subset.k_on\n",
    "bs = txburst_valid_subset.bs_point\n",
    "bs2 = txburst_valid_subset.k_syn / txburst_valid_subset.k_off\n",
    "\n",
    "_, (bf_ax, bs_ax) = plt.subplots(ncols=2, figsize=(10, 5))\n",
    "bf_ax.scatter(bf, bf2, c=\"orange\")\n",
    "bf_ax.plot((0, 15), (0, 15), \"k:\")\n",
    "bf_ax.set_xlabel(\"Burst frequency point estimate\")\n",
    "bf_ax.set_ylabel(\"$k_{syn}/k_{off}$\")\n",
    "bs_ax.scatter(bs, bs2)\n",
    "bs_ax.plot((0, 1100), (0, 1100), \"k:\")\n",
    "bs_ax.set_xlabel(\"Burst size point estimate\")\n",
    "bs_ax.set_ylabel(\"$k_{on}$\")\n",
    "plt.tight_layout()\n",
    "plt.show()"
   ]
  },
  {
   "cell_type": "markdown",
   "metadata": {},
   "source": [
    "A considerable number of points deviate from the expected identity trends. Furthermore, some burst size point estimates are below 1 which is unexpected given the $k_{syn}/k_{off}$ ratio and its implication that RNA molecules would not be synthesised."
   ]
  },
  {
   "cell_type": "code",
   "execution_count": null,
   "metadata": {},
   "outputs": [],
   "source": [
    "print(f\"Size range: {np.min(bs):.4f} - {np.max(bs):.4f}\")\n",
    "print(f\"Alt. size range: {np.min(bs2):.4f} - {np.max(bs2):.4f}\")\n",
    "\n",
    "txburst_valid_subset.plot.scatter(\"k_syn\", \"k_off\", c=\"orange\")\n",
    "plt.plot((0, 1000), (0, 1000), \"k--\")\n",
    "plt.show()"
   ]
  },
  {
   "cell_type": "markdown",
   "metadata": {},
   "source": [
    "These observations suggest it may be preferable to manually calculate burst size and frequency from the k-parameters rather than depending upon the txburst point estimates. Interestingly, code in at least [one notebook on the txburst repo](https://github.com/sandberg-lab/txburst/blob/master/Fig%201b.ipynb) manually calculates the burst parameters rather than reading them from the available point estimates:\n",
    "```python\n",
    "PL_CIs = pd.read_pickle('data/SS3_cast_UMIs_concat_PL.pkl')\n",
    "\n",
    "bf = pd.Series([p[0] for p in PL_CIs[0]], index=PL_CIs.index)\n",
    "bs = pd.Series([p[2]/p[1] for p in PL_CIs[0]], index=PL_CIs.index)\n",
    "```\n",
    "\n",
    "Plotting these values against the corresponding point estimates leads to observations similar to those made here.\n",
    "\n",
    "If the burst parameters are to be calculated explicitly then it may be prudent to use an equation for frequency accounting for 2 allales."
   ]
  },
  {
   "cell_type": "code",
   "execution_count": null,
   "metadata": {},
   "outputs": [],
   "source": [
    "bf3 = (2 * txburst_valid_subset.k_on * txburst_valid_subset.k_off) / (txburst_valid_subset.k_on + txburst_valid_subset.k_off)\n",
    "\n",
    "plt.scatter(bf2, bf3, c=\"orange\")\n",
    "plt.plot((0, 26), (0, 26), \"k:\")\n",
    "plt.xlabel(\"Burst frequency (gene)\")\n",
    "plt.ylabel(\"Burst frequency (2 alleles)\")\n",
    "plt.show()"
   ]
  },
  {
   "cell_type": "markdown",
   "metadata": {},
   "source": [
    "# General analysis"
   ]
  },
  {
   "cell_type": "code",
   "execution_count": null,
   "metadata": {},
   "outputs": [],
   "source": [
    "study_species = \"mouse\"\n",
    "study_treatment_set = \"lps\"\n",
    "study_lr_method = \"ols\"\n",
    "\n",
    "all_index_columns = [\"gene\"] + condition_columns"
   ]
  },
  {
   "cell_type": "markdown",
   "metadata": {},
   "source": [
    "Load lists of parameters calculated by txburst (and disregard time point \"6A\")"
   ]
  },
  {
   "cell_type": "code",
   "execution_count": null,
   "metadata": {},
   "outputs": [],
   "source": [
    "txburst_path = get_txburst_results_path()\n",
    "\n",
    "txburst_results = {}\n",
    "for csv_path in txburst_path.glob(f\"*species={study_species}-*.csv\"):\n",
    "    print(f\"Loading: {csv_path.name}\")\n",
    "    df = pd.read_csv(csv_path)\n",
    "    df = df.loc[df.time_point != \"6A\"]\n",
    "    txburst_results[csv_path.stem] = df"
   ]
  },
  {
   "cell_type": "markdown",
   "metadata": {},
   "source": [
    "Summarise the numbers of genes and conditions with burst parameters for each set of results"
   ]
  },
  {
   "cell_type": "code",
   "execution_count": null,
   "metadata": {},
   "outputs": [],
   "source": [
    "for name, txburst_params_df in txburst_results.items():\n",
    "    def print_condition_count(df, title):\n",
    "        print(f\"  {title}: {len(df):,} conditions across {df.gene.nunique():,} genes\")\n",
    "\n",
    "    print(f\"{name}:\")\n",
    "    print_condition_count(txburst_params_df, \"Total\")\n",
    "    print_condition_count(txburst_params_df.loc[txburst_params_df.keep], \"Kept\")\n",
    "    print_condition_count(txburst_params_df.loc[~txburst_params_df.bs_point.isna()], \"With size\")\n",
    "    print_condition_count(txburst_params_df.loc[~txburst_params_df.bf_point.isna()], \"With frequency\")\n",
    "\n",
    "    txburst_params_valid_subset = txburst_params_df.loc[~txburst_params_df.bs_point.isna() & ~txburst_params_df.bf_point.isna()]\n",
    "\n",
    "    n_genes = txburst_params_df.gene.nunique()\n",
    "    n_genes_without_params = n_genes - txburst_params_valid_subset.gene.nunique()\n",
    "    print(f\"  {n_genes_without_params:,} of {n_genes:,} genes have no burst params\")\n",
    "    print(\"  Distribution of those that do:\")\n",
    "\n",
    "    sns.countplot(\n",
    "        x=\"n_conditions\",\n",
    "        data=txburst_params_valid_subset.gene.value_counts().to_frame(\"n_conditions\"),\n",
    "    )\n",
    "    plt.show()\n",
    "\n",
    "    print(\"  Larsson et al. fig 1b plot:\")\n",
    "\n",
    "    sns.scatterplot(\n",
    "        x=\"bs_point\",\n",
    "        y=\"bf_point\",\n",
    "        hue=\"time_point\",\n",
    "        data=txburst_params_valid_subset,\n",
    "    )\n",
    "    plt.xlabel(\"Burst size\")\n",
    "    plt.xscale(\"log\", basex=10)\n",
    "    plt.axvline(x=1, linestyle=\"--\")\n",
    "    plt.axvline(x=100, linestyle=\"--\")\n",
    "    plt.ylabel(\"Burst frequency\")\n",
    "    plt.yscale(\"log\", basey=10)\n",
    "    plt.axhline(y=0.001, linestyle=\"--\")\n",
    "    plt.axhline(y=10, linestyle=\"--\")\n",
    "    plt.show()\n",
    "\n",
    "    print(\"  Larsson et al. fig 1c plot:\")\n",
    "\n",
    "    plt.hist(\n",
    "        np.log10(txburst_params_valid_subset.bf_point),\n",
    "        bins=40,\n",
    "    )\n",
    "    plt.xlabel(\"log$_{10}$(burst frequency)\")\n",
    "    plt.axvline(x=-3, linestyle=\"--\")\n",
    "    plt.axvline(x=2, linestyle=\"--\")\n",
    "    plt.ylabel(\"Number of genes\")\n",
    "    plt.show()\n",
    "\n",
    "    print(\"  Larsson et al. fig 1d plot:\")\n",
    "\n",
    "    plt.hist(\n",
    "        np.log10(txburst_params_valid_subset.bs_point),\n",
    "        bins=40,\n",
    "    )\n",
    "    plt.xlabel(\"log$_{10}$(burst size)\")\n",
    "    plt.axvline(x=0, linestyle=\"--\")\n",
    "    plt.axvline(x=2, linestyle=\"--\")\n",
    "    plt.ylabel(\"Number of genes\")\n",
    "    plt.show()"
   ]
  },
  {
   "cell_type": "markdown",
   "metadata": {},
   "source": [
    "Load the per condition statistics calculated for QCed genes"
   ]
  },
  {
   "cell_type": "code",
   "execution_count": null,
   "metadata": {},
   "outputs": [],
   "source": [
    "condition_stats_df = pd.read_csv(get_output_path(f\"{study_species}_{study_treatment_set}_stats_per_condition_per_gene.csv\"))\n",
    "condition_stats_df.time_point = condition_stats_df.time_point.astype(str)\n",
    "print(f'QCed \"{study_treatment_set}\" treatment has {len(condition_stats_df):,} conditions across {condition_stats_df.gene.nunique():,} genes')"
   ]
  },
  {
   "cell_type": "markdown",
   "metadata": {},
   "source": [
    "Load the linear regression parameters calculated per gene"
   ]
  },
  {
   "cell_type": "code",
   "execution_count": null,
   "metadata": {},
   "outputs": [],
   "source": [
    "lr_fit_df = pd.read_csv(get_output_path(f\"{study_species}_{study_treatment_set}_lr_fit_per_gene.csv\"), index_col=\"gene\")\n",
    "lr_fit_df = lr_fit_df.loc[lr_fit_df.method == study_lr_method]"
   ]
  },
  {
   "cell_type": "markdown",
   "metadata": {},
   "source": [
    "Create a gene ID-to-symbol map"
   ]
  },
  {
   "cell_type": "code",
   "execution_count": null,
   "metadata": {},
   "outputs": [],
   "source": [
    "symbol_map = create_gene_symbol_map(study_species)"
   ]
  },
  {
   "cell_type": "markdown",
   "metadata": {},
   "source": [
    "Display plots combining per condition statistics and burst parameters for each set of txburst results"
   ]
  },
  {
   "cell_type": "code",
   "execution_count": null,
   "metadata": {},
   "outputs": [],
   "source": [
    "for name, txburst_params_df in txburst_results.items():\n",
    "    txburst_params_valid_subset = txburst_params_df.loc[txburst_params_df.keep]\n",
    "    print(f\"{name}:\")\n",
    "\n",
    "    index_columns = [column for column in txburst_params_valid_subset.columns if column in all_index_columns]\n",
    "    combined_df = condition_stats_df.set_index(index_columns).join(txburst_params_valid_subset.set_index(index_columns), how=\"inner\").reset_index()\n",
    "    print(f\"  Shares {len(combined_df):,} conditions across {combined_df.gene.nunique():,} genes\")\n",
    "\n",
    "    genes_df = combined_df.gene.value_counts().to_frame(\"n_conditions\").join(lr_fit_df, how=\"inner\")\n",
    "\n",
    "    sns.countplot(\n",
    "        x=\"n_conditions\",\n",
    "        data=genes_df,\n",
    "    )\n",
    "    plt.show()\n",
    "\n",
    "    sns.boxplot(\n",
    "        x=\"n_conditions\",\n",
    "        y=\"r2\",\n",
    "        data=genes_df,\n",
    "    )\n",
    "    plt.show()\n",
    "\n",
    "    sorted_r2 = genes_df.loc[genes_df.n_conditions >= 9].r2.sort_values(ascending=False)\n",
    "\n",
    "    plot_genes = sorted_r2[:5].index\n",
    "    plot_column_names = [\"k_on\", \"k_off\", \"k_syn\", \"bs_point\", \"bf_point\"]\n",
    "\n",
    "    n_plot_rows = len(plot_column_names)\n",
    "    n_plot_columns = len(plot_genes)\n",
    "\n",
    "    _, axes = plt.subplots(\n",
    "        n_plot_rows,\n",
    "        n_plot_columns,\n",
    "        sharex=\"col\",\n",
    "        figsize=(4 * n_plot_columns, 4 * n_plot_rows)\n",
    "    )\n",
    "    for ci, gene_id in enumerate(plot_genes):\n",
    "        for ri, column_name in enumerate(plot_column_names):\n",
    "            ax = axes[ri, ci]\n",
    "            sns.scatterplot(\n",
    "                x=\"mean\",\n",
    "                y=column_name,\n",
    "                style=\"outlier\",\n",
    "                data=combined_df.loc[combined_df.gene == gene_id],\n",
    "                ax=ax,\n",
    "            )\n",
    "            ax.set_xlim(left=0)\n",
    "            ax.set_ylim(bottom=0)\n",
    "            if ri == 0:\n",
    "                ax.set_title(symbol_map.lookup(gene_id))\n",
    "    for ax in axes[:, 1:].flat:\n",
    "        ax.set_ylabel(None)\n",
    "\n",
    "    plt.show()"
   ]
  },
  {
   "cell_type": "markdown",
   "metadata": {},
   "source": [
    "List conditions in which \"keep\" is True but no burst size is determined"
   ]
  },
  {
   "cell_type": "code",
   "execution_count": null,
   "metadata": {},
   "outputs": [],
   "source": [
    "gene_info_df = hagai_2018.load_biomart_gene_symbols_df(study_species)\n",
    "\n",
    "for name, txburst_params_df in txburst_results.items():\n",
    "    print(f\"{name}:\")\n",
    "\n",
    "    txburst_params_df = txburst_params_df.copy()\n",
    "    txburst_params_df.insert(1, \"symbol\", gene_info_df.symbol[txburst_params_df.gene].values)\n",
    "\n",
    "    no_size_subset = txburst_params_df.loc[txburst_params_df.keep & txburst_params_df.bs_point.isna()]\n",
    "    sort_columns = [c for c in [\"symbol\", \"replicate\", \"time_point\", \"treatment\"] if c in no_size_subset.columns]\n",
    "    print(f\"  {len(no_size_subset):,} conditions\")\n",
    "    display(no_size_subset.sort_values(by=sort_columns))"
   ]
  },
  {
   "cell_type": "code",
   "execution_count": null,
   "metadata": {},
   "outputs": [],
   "source": []
  }
 ],
 "metadata": {
  "jupytext": {
   "formats": "ipynb,.ipynb.py:percent"
  },
  "kernelspec": {
   "display_name": "Python 3",
   "language": "python",
   "name": "python3"
  },
  "language_info": {
   "codemirror_mode": {
    "name": "ipython",
    "version": 3
   },
   "file_extension": ".py",
   "mimetype": "text/x-python",
   "name": "python",
   "nbconvert_exporter": "python",
   "pygments_lexer": "ipython3",
   "version": "3.8.2"
  }
 },
 "nbformat": 4,
 "nbformat_minor": 4
}
