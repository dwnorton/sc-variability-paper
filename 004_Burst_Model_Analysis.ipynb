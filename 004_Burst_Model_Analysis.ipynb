{
 "cells": [
  {
   "cell_type": "code",
   "execution_count": null,
   "metadata": {},
   "outputs": [],
   "source": [
    "import matplotlib.pyplot as plt\n",
    "import pandas as pd\n",
    "import seaborn as sns\n",
    "\n",
    "from rp2 import hagai_2018, GeneSymbolMap, create_gene_symbol_map\n",
    "from rp2.paths import get_data_path, get_output_path"
   ]
  },
  {
   "cell_type": "code",
   "execution_count": null,
   "metadata": {},
   "outputs": [],
   "source": [
    "study_species = \"mouse\"\n",
    "study_treatment_set = \"lps\"\n",
    "study_lr_method = \"ols\"\n",
    "\n",
    "all_index_columns = [\"gene\", \"replicate\", \"treatment\", \"time_point\"]"
   ]
  },
  {
   "cell_type": "markdown",
   "metadata": {},
   "source": [
    "Load the list of LPS-responsive genes"
   ]
  },
  {
   "cell_type": "code",
   "execution_count": null,
   "metadata": {},
   "outputs": [],
   "source": [
    "responsive_phagocyte_genes = hagai_2018.load_lps_responsive_genes()\n",
    "print(f\"{len(responsive_phagocyte_genes):,} responsive phagocyte genes\")"
   ]
  },
  {
   "cell_type": "markdown",
   "metadata": {},
   "source": [
    "Load lists of parameters calculated by txburst (and disregard time point \"6A\")"
   ]
  },
  {
   "cell_type": "code",
   "execution_count": null,
   "metadata": {},
   "outputs": [],
   "source": [
    "txburst_path = get_output_path(\"txburst\")\n",
    "\n",
    "txburst_results = {}\n",
    "for csv_path in txburst_path.glob(f\"{study_species}_*.csv\"):\n",
    "    print(f\"Loading: {csv_path.name}\")\n",
    "    df = pd.read_csv(csv_path)\n",
    "    df = df.loc[df.time_point != \"6A\"]\n",
    "    txburst_results[csv_path.stem] = df"
   ]
  },
  {
   "cell_type": "markdown",
   "metadata": {},
   "source": [
    "Summarise the numbers of genes and conditions with burst parameters for each set of results"
   ]
  },
  {
   "cell_type": "code",
   "execution_count": null,
   "metadata": {},
   "outputs": [],
   "source": [
    "for name, txburst_params_df in txburst_results.items():\n",
    "    txburst_params_kept_subset = txburst_params_df.loc[txburst_params_df.keep]\n",
    "\n",
    "    print(f\"{name}:\")\n",
    "    print(f\"  {len(txburst_params_kept_subset):,} conditions across {txburst_params_kept_subset.gene.nunique():,} genes have burst parameters\")\n",
    "    n_responsive_genes_without_params = len(responsive_phagocyte_genes) - txburst_params_kept_subset.gene.nunique()\n",
    "    print(f\"  {n_responsive_genes_without_params:,} responsive genes have no burst params\")\n",
    "    print(\"  Distribution of those that do:\")\n",
    "    sns.countplot(\n",
    "        x=\"n_conditions\",\n",
    "        data=txburst_params_kept_subset.gene.value_counts().to_frame(\"n_conditions\"),\n",
    "    )\n",
    "    plt.show()\n",
    "\n",
    "    sns.scatterplot(\n",
    "        x=\"bs_point\",\n",
    "        y=\"bf_point\",\n",
    "        hue=\"time_point\",\n",
    "        style=\"keep\",\n",
    "        markers={True: \"o\", False: \"X\"},\n",
    "        data=txburst_params_df,\n",
    "    )\n",
    "    plt.xlabel(\"Burst size\")\n",
    "    plt.ylabel(\"Burst frequency\")\n",
    "    plt.show()"
   ]
  },
  {
   "cell_type": "markdown",
   "metadata": {},
   "source": [
    "Load the per condition statistics calculated for QCed genes"
   ]
  },
  {
   "cell_type": "code",
   "execution_count": null,
   "metadata": {},
   "outputs": [],
   "source": [
    "condition_stats_df = pd.read_csv(get_output_path(f\"{study_species}_{study_treatment_set}_stats_per_condition_per_gene.csv\"))\n",
    "condition_stats_df.time_point = condition_stats_df.time_point.astype(str)\n",
    "print(f'QCed \"{study_treatment_set}\" treatment has {len(condition_stats_df):,} conditions across {condition_stats_df.gene.nunique():,} genes')"
   ]
  },
  {
   "cell_type": "markdown",
   "metadata": {},
   "source": [
    "Load the linear regression parameters calculated per gene"
   ]
  },
  {
   "cell_type": "code",
   "execution_count": null,
   "metadata": {},
   "outputs": [],
   "source": [
    "lr_fit_df = pd.read_csv(get_output_path(f\"{study_species}_{study_treatment_set}_lr_fit_per_gene.csv\"), index_col=\"gene\")\n",
    "lr_fit_df = lr_fit_df.loc[lr_fit_df.method == study_lr_method]"
   ]
  },
  {
   "cell_type": "markdown",
   "metadata": {},
   "source": [
    "Create a gene ID-to-symbol map"
   ]
  },
  {
   "cell_type": "code",
   "execution_count": null,
   "metadata": {},
   "outputs": [],
   "source": [
    "symbol_map = create_gene_symbol_map(study_species)"
   ]
  },
  {
   "cell_type": "markdown",
   "metadata": {},
   "source": [
    "Display plots combining per condition statistics and burst parameters for each set of txburst results"
   ]
  },
  {
   "cell_type": "code",
   "execution_count": null,
   "metadata": {},
   "outputs": [],
   "source": [
    "for name, txburst_params_df in txburst_results.items():\n",
    "    txburst_params_kept_subset = txburst_params_df.loc[txburst_params_df.keep]\n",
    "    print(f\"{name}:\")\n",
    "\n",
    "    index_columns = [column for column in txburst_params_kept_subset.columns if column in all_index_columns]\n",
    "    combined_df = condition_stats_df.set_index(index_columns).join(txburst_params_kept_subset.set_index(index_columns), how=\"inner\").reset_index()\n",
    "    print(f\"  Shares {len(combined_df):,} conditions across {combined_df.gene.nunique():,} genes\")\n",
    "\n",
    "    genes_df = combined_df.gene.value_counts().to_frame(\"n_conditions\").join(lr_fit_df, how=\"inner\")\n",
    "\n",
    "    sns.countplot(\n",
    "        x=\"n_conditions\",\n",
    "        data=genes_df,\n",
    "    )\n",
    "    plt.show()\n",
    "\n",
    "    sns.boxplot(\n",
    "        x=\"n_conditions\",\n",
    "        y=\"r2\",\n",
    "        data=genes_df,\n",
    "    )\n",
    "    plt.show()\n",
    "\n",
    "    sorted_r2 = genes_df.loc[genes_df.n_conditions >= 9].r2.sort_values(ascending=False)\n",
    "\n",
    "    plot_genes = sorted_r2[:5].index\n",
    "    plot_column_names = [\"k_on\", \"k_off\", \"k_syn\", \"bs_point\", \"bf_point\"]\n",
    "\n",
    "    n_plot_rows = len(plot_column_names)\n",
    "    n_plot_columns = len(plot_genes)\n",
    "\n",
    "    _, axes = plt.subplots(\n",
    "        n_plot_rows,\n",
    "        n_plot_columns,\n",
    "        sharex=\"col\",\n",
    "        figsize=(4 * n_plot_columns, 4 * n_plot_rows)\n",
    "    )\n",
    "    for ci, gene_id in enumerate(plot_genes):\n",
    "        for ri, column_name in enumerate(plot_column_names):\n",
    "            ax = axes[ri, ci]\n",
    "            sns.scatterplot(\n",
    "                x=\"mean\",\n",
    "                y=column_name,\n",
    "                style=\"outlier\",\n",
    "                data=combined_df.loc[combined_df.gene == gene_id],\n",
    "                ax=ax,\n",
    "            )\n",
    "            ax.set_xlim(left=0)\n",
    "            ax.set_ylim(bottom=0)\n",
    "            if ri == 0:\n",
    "                ax.set_title(symbol_map.lookup(gene_id))\n",
    "    for ax in axes[:, 1:].flat:\n",
    "        ax.set_ylabel(None)\n",
    "\n",
    "    plt.show()"
   ]
  },
  {
   "cell_type": "code",
   "execution_count": null,
   "metadata": {},
   "outputs": [],
   "source": []
  }
 ],
 "metadata": {
  "jupytext": {
   "formats": "ipynb,.ipynb.py:percent"
  },
  "kernelspec": {
   "display_name": "Python 3",
   "language": "python",
   "name": "python3"
  },
  "language_info": {
   "codemirror_mode": {
    "name": "ipython",
    "version": 3
   },
   "file_extension": ".py",
   "mimetype": "text/x-python",
   "name": "python",
   "nbconvert_exporter": "python",
   "pygments_lexer": "ipython3",
   "version": "3.8.2"
  }
 },
 "nbformat": 4,
 "nbformat_minor": 4
}
