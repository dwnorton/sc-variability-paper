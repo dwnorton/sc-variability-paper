{
 "cells": [
  {
   "cell_type": "code",
   "execution_count": null,
   "metadata": {},
   "outputs": [],
   "source": [
    "import ipywidgets as widgets\n",
    "import numpy as np\n",
    "import matplotlib.pyplot as plt\n",
    "import pandas as pd\n",
    "from IPython.display import display\n",
    "\n",
    "import rp2.data\n",
    "from rp2 import hagai_2018\n",
    "\n",
    "\n",
    "rp2.check_environment()"
   ]
  },
  {
   "cell_type": "code",
   "execution_count": null,
   "metadata": {},
   "outputs": [],
   "source": [
    "species = \"mouse\"\n",
    "count_type = \"median\"\n",
    "index_columns = [\"replicate\", \"treatment\", \"time_point\"]\n",
    "gene_index_columns = [\"gene\"] + index_columns"
   ]
  },
  {
   "cell_type": "code",
   "execution_count": null,
   "metadata": {},
   "outputs": [],
   "source": [
    "gene_symbol_df = rp2.load_biomart_gene_symbols_df(species)"
   ]
  },
  {
   "cell_type": "code",
   "execution_count": null,
   "metadata": {},
   "outputs": [],
   "source": [
    "def load_ppfit_results(species, index_columns, count_type):\n",
    "    csv_path = rp2.paths.get_burst_model_csv_path(\"ppfit\", species, index_columns, count_type)\n",
    "    dtype_dict = {column: \"category\" for column in index_columns}\n",
    "\n",
    "    df = pd.read_csv(csv_path, dtype=dtype_dict)\n",
    "\n",
    "    df[\"bs_point\"] = df.k_syn / df.k_off\n",
    "    df[\"bf_point\"] = (2 * df.k_on * df.k_off) / (df.k_on + df.k_off) / df.k_deg\n",
    "    df[\"bf_point_2\"] = (2 * df.k_on) / df.k_deg\n",
    "\n",
    "    return df\n",
    "\n",
    "\n",
    "def calculate_condition_stats(species, count_type, genes):\n",
    "    count_data = hagai_2018.load_counts(species, count_type)[:, genes]\n",
    "    return hagai_2018.calculate_counts_condition_stats(count_data)    "
   ]
  },
  {
   "cell_type": "code",
   "execution_count": null,
   "metadata": {},
   "outputs": [],
   "source": [
    "model_df_map = {\n",
    "    \"txburst\": rp2.data.load_txburst_results(species, index_columns, count_type),\n",
    "    \"ppfit\": load_ppfit_results(species, index_columns, count_type),\n",
    "}"
   ]
  },
  {
   "cell_type": "code",
   "execution_count": null,
   "metadata": {},
   "outputs": [],
   "source": [
    "for model_name, model_df in model_df_map.items():\n",
    "    print(f'Model \"{model_name}\":')\n",
    "    print(f\"  Contains {len(model_df):,} conditions for {model_df.gene.nunique():,} genes\")"
   ]
  },
  {
   "cell_type": "code",
   "execution_count": null,
   "metadata": {},
   "outputs": [],
   "source": [
    "common_genes = gene_symbol_df.symbol[set.intersection(*[set(df.gene) for df in model_df_map.values()])].sort_values()\n",
    "condition_stats_df = calculate_condition_stats(species, count_type, common_genes.index)"
   ]
  },
  {
   "cell_type": "code",
   "execution_count": null,
   "metadata": {},
   "outputs": [],
   "source": [
    "def copy_df_with_column_prefix(df, prefix):\n",
    "    df = df.copy()\n",
    "    df.columns = [c if c in gene_index_columns else f\"{prefix}_{c}\" for c in df.columns]\n",
    "    return df\n",
    "\n",
    "\n",
    "model_info_df = condition_stats_df.sort_values(by=[\"gene\", \"replicate\", \"time_point\", \"treatment\"]).set_index(gene_index_columns)\n",
    "for model_name, model_df in model_df_map.items():\n",
    "    model_info_df = model_info_df.join(copy_df_with_column_prefix(model_df, model_name).set_index(gene_index_columns))\n",
    "\n",
    "model_info_df.reset_index(inplace=True)"
   ]
  },
  {
   "cell_type": "code",
   "execution_count": null,
   "metadata": {},
   "outputs": [],
   "source": [
    "def plot_model(gene_id, of_cutoff):\n",
    "    model_names = model_df_map.keys()\n",
    "    point_types = [\"bs\", \"bf\"]\n",
    "    colours = [\"black\", \"white\"]\n",
    "    outputs = widgets.HBox([widgets.Output() for _ in point_types])\n",
    "\n",
    "    model_info_subset = model_info_df.loc[model_info_df.gene == gene_id].copy()\n",
    "    model_info_subset.loc[model_info_subset.ppfit_of > of_cutoff, [f\"ppfit_{point_type}_point\" for point_type in point_types]] = np.nan\n",
    "\n",
    "    for point_type, output in zip(point_types, outputs.children):\n",
    "        with output:\n",
    "            _, ax = plt.subplots()\n",
    "\n",
    "            for model_name, colour in zip(model_names, colours):\n",
    "                model_info_subset.plot.scatter(\"mean\", f\"{model_name}_{point_type}_point\", label=model_name, ax=ax, color=colour, edgecolor=\"black\")\n",
    "\n",
    "            plt.ylabel(point_type)\n",
    "            plt.legend()\n",
    "            plt.show()\n",
    "\n",
    "    display(outputs)\n",
    "\n",
    "\n",
    "widgets.interactive(\n",
    "    plot_model,\n",
    "    gene_id=widgets.Select(options=list(zip(common_genes.values, common_genes.index)), rows=4),\n",
    "    of_cutoff=widgets.FloatLogSlider(value=0.01, min=-4, max=0),\n",
    ")"
   ]
  },
  {
   "cell_type": "code",
   "execution_count": null,
   "metadata": {},
   "outputs": [],
   "source": []
  }
 ],
 "metadata": {
  "jupytext": {
   "formats": "ipynb,.ipynb.py:percent"
  },
  "kernelspec": {
   "display_name": "Python 3",
   "language": "python",
   "name": "python3"
  },
  "language_info": {
   "codemirror_mode": {
    "name": "ipython",
    "version": 3
   },
   "file_extension": ".py",
   "mimetype": "text/x-python",
   "name": "python",
   "nbconvert_exporter": "python",
   "pygments_lexer": "ipython3",
   "version": "3.8.2"
  }
 },
 "nbformat": 4,
 "nbformat_minor": 4
}
