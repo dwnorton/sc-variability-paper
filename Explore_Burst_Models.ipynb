{
 "cells": [
  {
   "cell_type": "code",
   "execution_count": null,
   "metadata": {},
   "outputs": [],
   "source": [
    "import ipywidgets as widgets\n",
    "import matplotlib.pyplot as plt\n",
    "import numpy as np\n",
    "import pandas as pd\n",
    "from IPython.display import display\n",
    "\n",
    "import rp2.data\n",
    "from rp2 import hagai_2018\n",
    "\n",
    "rp2.check_environment()"
   ]
  },
  {
   "cell_type": "code",
   "execution_count": null,
   "metadata": {},
   "outputs": [],
   "source": [
    "species = \"mouse\"\n",
    "count_type = \"median\"\n",
    "condition_columns = [\"replicate\", \"treatment\", \"time_point\"]\n",
    "index_columns = [\"gene\"] + condition_columns"
   ]
  },
  {
   "cell_type": "code",
   "execution_count": null,
   "metadata": {},
   "outputs": [],
   "source": [
    "gene_symbol_df = rp2.load_biomart_gene_symbols_df(species)"
   ]
  },
  {
   "cell_type": "code",
   "execution_count": null,
   "metadata": {},
   "outputs": [],
   "source": [
    "def load_txburst_results(species, condition_columns, count_type):\n",
    "    df = rp2.data.load_txburst_results(species, condition_columns, count_type)\n",
    "    valid_points = df.bs_point.notna() & df.bf_point.notna()\n",
    "    valid_time = df.time_point != \"6A\"\n",
    "    return df.loc[valid_points & valid_time]\n",
    "\n",
    "\n",
    "def load_modified_txburst_results(species, condition_columns, count_type, two_alleles):\n",
    "    df = rp2.data.load_modified_txburst_results(species, condition_columns, count_type, two_alleles=two_alleles)\n",
    "    df = df.loc[df.time_point != \"6A\"]\n",
    "    return df\n",
    "\n",
    "\n",
    "def load_ppfit_results(species, condition_columns, count_type):\n",
    "    csv_path = rp2.paths.get_burst_model_csv_path(\"ppfit\", species, condition_columns, count_type)\n",
    "    dtype_dict = {column: \"category\" for column in condition_columns}\n",
    "\n",
    "    df = pd.read_csv(csv_path, dtype=dtype_dict)\n",
    "\n",
    "    df[\"bs_point\"] = df.k_syn / df.k_off\n",
    "    df[\"bf_point\"] = (2 * df.k_on * df.k_off) / (df.k_on + df.k_off) / df.k_deg\n",
    "    df[\"bf_point_2\"] = (2 * df.k_on) / df.k_deg\n",
    "\n",
    "    return df\n",
    "\n",
    "\n",
    "model_df_map = {\n",
    "    \"ppfit\": load_ppfit_results(species, condition_columns, count_type),\n",
    "    \"txburst\": load_txburst_results(species, condition_columns, count_type),\n",
    "    \"txburst_mod1\": load_modified_txburst_results(species, condition_columns, count_type, two_alleles=False),\n",
    "    \"txburst_mod2\": load_modified_txburst_results(species, condition_columns, count_type, two_alleles=True),\n",
    "}"
   ]
  },
  {
   "cell_type": "code",
   "execution_count": null,
   "metadata": {},
   "outputs": [],
   "source": [
    "def clean_model(model_name, model_df):\n",
    "    values_to_remove = [0, np.inf, -np.inf]\n",
    "    columns_to_check = [\"bs_point\", \"bf_point\"]\n",
    "\n",
    "    print(f'Model \"{model_name}\":')\n",
    "    print(f\"  Contains {len(model_df):,} conditions for {model_df.gene.nunique():,} genes before cleaning\")\n",
    "\n",
    "    for column in columns_to_check:\n",
    "        for value in values_to_remove:\n",
    "            n_values = np.count_nonzero(model_df[column] == value)\n",
    "            if n_values > 0:\n",
    "                print(f\"    with {n_values:,} {column} values of {value}\")\n",
    "                model_df[column].replace(value, np.nan, inplace=True)\n",
    "\n",
    "    model_df.dropna(subset=columns_to_check, axis=0, how=\"any\", inplace=True)\n",
    "    print(f\"  Contains {len(model_df):,} conditions for {model_df.gene.nunique():,} genes after cleaning\")\n",
    "\n",
    "\n",
    "for model_name, model_df in model_df_map.items():\n",
    "    clean_model(model_name, model_df)"
   ]
  },
  {
   "cell_type": "code",
   "execution_count": null,
   "metadata": {},
   "outputs": [],
   "source": [
    "def calculate_condition_stats(species, count_type, genes):\n",
    "    count_data = hagai_2018.load_counts(species, count_type)[:, genes]\n",
    "    return hagai_2018.calculate_counts_condition_stats(count_data)    \n",
    "\n",
    "\n",
    "common_genes = gene_symbol_df.symbol[set.intersection(*[set(df.gene) for df in model_df_map.values()])].sort_values()\n",
    "condition_stats_df = calculate_condition_stats(species, count_type, common_genes.index)"
   ]
  },
  {
   "cell_type": "code",
   "execution_count": null,
   "metadata": {},
   "outputs": [],
   "source": [
    "def copy_df_with_column_prefix(df, prefix):\n",
    "    df = df.copy()\n",
    "    df.columns = [c if c in index_columns else f\"{prefix}_{c}\" for c in df.columns]\n",
    "    return df\n",
    "\n",
    "\n",
    "model_info_df = condition_stats_df.sort_values(by=[\"gene\", \"replicate\", \"time_point\", \"treatment\"]).set_index(index_columns)\n",
    "for model_name, model_df in model_df_map.items():\n",
    "    model_info_df = model_info_df.join(copy_df_with_column_prefix(model_df, model_name).set_index(index_columns))\n",
    "\n",
    "model_info_df.reset_index(inplace=True)"
   ]
  },
  {
   "cell_type": "code",
   "execution_count": null,
   "metadata": {},
   "outputs": [],
   "source": [
    "def plot_model(gene_id, models, of_cutoff):\n",
    "    model_names = models\n",
    "    point_types = [\"bs\", \"bf\"]\n",
    "    colours = [\"black\", \"white\", \"red\", \"green\"]\n",
    "    plot_outputs = [widgets.Output() for _ in point_types]\n",
    "    info_output = widgets.Output()\n",
    "\n",
    "    model_info_subset = model_info_df.loc[model_info_df.gene == gene_id].copy()\n",
    "    model_info_subset.loc[model_info_subset.ppfit_of > of_cutoff, [f\"ppfit_{point_type}_point\" for point_type in point_types]] = np.nan\n",
    "\n",
    "    for point_type, output in zip(point_types, plot_outputs):\n",
    "        with output:\n",
    "            _, ax = plt.subplots()\n",
    "\n",
    "            for model_name, colour in zip(model_names, colours):\n",
    "                model_info_subset.plot.scatter(\"mean\", f\"{model_name}_{point_type}_point\", label=model_name, ax=ax, s=40, color=colour, edgecolor=\"black\")\n",
    "\n",
    "            plt.ylabel(point_type)\n",
    "            plt.legend()\n",
    "            plt.show()\n",
    "\n",
    "    with info_output:\n",
    "        for model_name in model_names:\n",
    "            print(f\"{model_name} points:\", model_info_subset[f\"{model_name}_bs_point\"].count())\n",
    "\n",
    "    display(widgets.HBox(plot_outputs + [info_output]))\n",
    "\n",
    "\n",
    "widgets.interactive(\n",
    "    plot_model,\n",
    "    gene_id=widgets.Select(options=list(zip(common_genes.values, common_genes.index)), rows=4),\n",
    "    models=widgets.SelectMultiple(options=model_df_map.keys(), index=[0, 1]),\n",
    "    of_cutoff=widgets.FloatLogSlider(value=0.01, min=-4, max=0),\n",
    ")"
   ]
  },
  {
   "cell_type": "code",
   "execution_count": null,
   "metadata": {},
   "outputs": [],
   "source": []
  }
 ],
 "metadata": {
  "jupytext": {
   "formats": "ipynb,.ipynb.py:percent"
  },
  "kernelspec": {
   "display_name": "Python 3",
   "language": "python",
   "name": "python3"
  },
  "language_info": {
   "codemirror_mode": {
    "name": "ipython",
    "version": 3
   },
   "file_extension": ".py",
   "mimetype": "text/x-python",
   "name": "python",
   "nbconvert_exporter": "python",
   "pygments_lexer": "ipython3",
   "version": "3.8.2"
  }
 },
 "nbformat": 4,
 "nbformat_minor": 4
}
