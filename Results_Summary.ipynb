{
 "cells": [
  {
   "cell_type": "code",
   "execution_count": null,
   "metadata": {},
   "outputs": [],
   "source": [
    "import ipywidgets as widgets\n",
    "import matplotlib.pyplot as plt\n",
    "import numpy as np\n",
    "import pandas as pd\n",
    "import scanpy\n",
    "import seaborn as sns\n",
    "import statsmodels.api as sm\n",
    "import sys\n",
    "import warnings\n",
    "from IPython.display import display\n",
    "from scipy import stats\n",
    "from sklearn import metrics\n",
    "\n",
    "import rp2.data\n",
    "import rp2.paths\n",
    "import rp2.regression\n",
    "from rp2 import hagai_2018\n",
    "\n",
    "rp2.check_environment()"
   ]
  },
  {
   "cell_type": "code",
   "execution_count": null,
   "metadata": {},
   "outputs": [],
   "source": [
    "np.seterr(all=\"warn\")\n",
    "warnings.filterwarnings(\"error\", category=RuntimeWarning)"
   ]
  },
  {
   "cell_type": "code",
   "execution_count": null,
   "metadata": {},
   "outputs": [],
   "source": [
    "print(f\"Python version: {sys.version.split()[0]}\")\n",
    "print(f\"Scanpy version: {scanpy.__version__}\")\n",
    "print(f\"statsmodels version: {sm.__version__}\")"
   ]
  },
  {
   "cell_type": "code",
   "execution_count": null,
   "metadata": {},
   "outputs": [],
   "source": [
    "sns.set(style=\"white\", palette=\"bright\", font=\"sans-serif\", context=\"paper\")"
   ]
  },
  {
   "cell_type": "code",
   "execution_count": null,
   "metadata": {},
   "outputs": [],
   "source": [
    "figures_path = rp2.paths.get_output_path(\"report\")\n",
    "rp2.create_folder(figures_path, create_clean=True)\n",
    "\n",
    "def figure_path(name):\n",
    "    return figures_path.joinpath(f\"figure_{name}.svg\")\n",
    "\n",
    "\n",
    "def save_figure(name):\n",
    "    plt.savefig(figure_path(name))\n",
    "\n",
    "\n",
    "def display_series(s, indent=0):\n",
    "    width = s.index.str.len().max() + 2\n",
    "    for n, v in s.items():\n",
    "        pad = width - len(n)\n",
    "        print(f\"{' ' * indent}{n}{' ' * pad}{v}\")\n",
    "\n",
    "\n",
    "def label_subplots(axes, titles=\"abcd\", font_size=16):\n",
    "    for ax, title in zip(axes, titles):\n",
    "        ax.set_title(f\"({title})\", fontsize=font_size)\n",
    "\n",
    "\n",
    "def ensure_that(condition):\n",
    "    if not condition:\n",
    "        raise AssertionError"
   ]
  },
  {
   "cell_type": "code",
   "execution_count": null,
   "metadata": {},
   "outputs": [],
   "source": [
    "condition_columns = [\"replicate\", \"treatment\", \"time_point\"]\n",
    "index_columns = [\"gene\"] + condition_columns\n",
    "time_points = [\"0\", \"2\", \"4\", \"6\"]\n",
    "\n",
    "gene_info_df = rp2.load_biomart_gene_symbols_df(\"mouse\")"
   ]
  },
  {
   "cell_type": "markdown",
   "metadata": {},
   "source": [
    "## Acquisition and preparation of RNA counts"
   ]
  },
  {
   "cell_type": "code",
   "execution_count": null,
   "metadata": {},
   "outputs": [],
   "source": [
    "mouse_umi_adata = hagai_2018.load_umi_counts(\"mouse\")\n",
    "mouse_umi_adata = mouse_umi_adata[mouse_umi_adata.obs.time_point.isin(time_points)].copy()\n",
    "\n",
    "print(\"Full Hagai mouse dataset has:\")\n",
    "print(f\"  {mouse_umi_adata.n_obs:,} cells\")\n",
    "print(f\"  {mouse_umi_adata.n_vars:,} genes\")\n",
    "\n",
    "ensure_that(mouse_umi_adata.n_obs == 53_086)\n",
    "ensure_that(mouse_umi_adata.n_vars == 22_048)\n",
    "\n",
    "del mouse_umi_adata"
   ]
  },
  {
   "cell_type": "code",
   "execution_count": null,
   "metadata": {},
   "outputs": [],
   "source": [
    "mouse_counts_adata = hagai_2018.load_counts(\"mouse\", scaling=\"median\")\n",
    "mouse_counts_adata = mouse_counts_adata[mouse_counts_adata.obs.time_point.isin(time_points)].copy()\n",
    "\n",
    "print(\"Scaled Hagai mouse dataset has:\")\n",
    "print(f\"  {mouse_counts_adata.n_vars:,} genes\")\n",
    "\n",
    "ensure_that(mouse_counts_adata.n_obs == 53_086)\n",
    "ensure_that(mouse_counts_adata.n_vars == 16_798)"
   ]
  },
  {
   "cell_type": "code",
   "execution_count": null,
   "metadata": {},
   "outputs": [],
   "source": [
    "lps_responsive_gene_ids = mouse_counts_adata.var.index[mouse_counts_adata.var.lps_responsive]\n",
    "print(f\"{len(lps_responsive_gene_ids):,} genes are LPS-responsive\")\n",
    "\n",
    "ensure_that(len(lps_responsive_gene_ids) == 2_336)"
   ]
  },
  {
   "cell_type": "code",
   "execution_count": null,
   "metadata": {},
   "outputs": [],
   "source": [
    "additional_genes = gene_info_df.symbol[gene_info_df.symbol.isin([\"Tnf\", \"Il1b\"])]\n",
    "analysis_gene_ids = sorted(set(lps_responsive_gene_ids).union(additional_genes.index))\n",
    "\n",
    "print(f\"{len(analysis_gene_ids):,} genes to be used in analysis\")\n",
    "\n",
    "ensure_that(len(analysis_gene_ids) == 2_338)"
   ]
  },
  {
   "cell_type": "code",
   "execution_count": null,
   "metadata": {},
   "outputs": [],
   "source": [
    "condition_df = mouse_counts_adata.obs[condition_columns].drop_duplicates()\n",
    "\n",
    "print(f\"{len(condition_df)} conditions per gene\")\n",
    "print(\"Per replicate:\")\n",
    "display_series(condition_df.replicate.value_counts().sort_index(), indent=2)\n",
    "print(f\"{len(condition_df) * len(analysis_gene_ids):,} data points overall\")\n",
    "\n",
    "ensure_that(len(condition_df) == 20)\n",
    "ensure_that((20 * 2_337) == 46_740)\n",
    "\n",
    "del condition_df"
   ]
  },
  {
   "cell_type": "markdown",
   "metadata": {},
   "source": [
    "## Verification of linear mean-variance relationship of RNA response"
   ]
  },
  {
   "cell_type": "code",
   "execution_count": null,
   "metadata": {},
   "outputs": [],
   "source": [
    "analysis_count_adata = mouse_counts_adata[:, analysis_gene_ids].copy()\n",
    "gene_condition_stats_df = hagai_2018.calculate_counts_condition_stats(analysis_count_adata)\n",
    "\n",
    "ensure_that(len(gene_condition_stats_df) == 46_760)"
   ]
  },
  {
   "cell_type": "code",
   "execution_count": null,
   "metadata": {},
   "outputs": [],
   "source": [
    "def fit_mean_variance_trends(df):\n",
    "    x = sm.add_constant(df[\"mean\"])\n",
    "    y = df[\"variance\"]\n",
    "    model = sm.RLM(y, x, M=sm.robust.norms.HuberT(t=1.345))\n",
    "    ensure_that(model.M.t == 1.345)\n",
    "\n",
    "    rlm_results = model.fit()\n",
    "\n",
    "    results = {\n",
    "        \"intercept\": rlm_results.params[0],\n",
    "        \"slope\": rlm_results.params[1],\n",
    "        \"intercept_pval\": rlm_results.pvalues[0],\n",
    "        \"slope_pval\": rlm_results.pvalues[1],\n",
    "        \"r2_unweighted\": metrics.r2_score(y, rlm_results.fittedvalues),\n",
    "        \"r2_weighted\": metrics.r2_score(y, rlm_results.fittedvalues, sample_weight=rlm_results.weights),\n",
    "    }\n",
    "    return pd.Series(results)\n",
    "\n",
    "\n",
    "treatment_sets = {\n",
    "    \"all\": [\"unst\", \"lps\", \"pic\"],\n",
    "#    \"lps\": [\"unst\", \"lps\"],\n",
    "#    \"pic\": [\"unst\", \"pic\"],\n",
    "}\n",
    "\n",
    "mv_fit_map = {set_name: gene_condition_stats_df[gene_condition_stats_df.treatment.isin(set_list)].groupby(\"gene\").apply(fit_mean_variance_trends)\n",
    "              for set_name, set_list in treatment_sets.items()}"
   ]
  },
  {
   "cell_type": "code",
   "execution_count": null,
   "metadata": {},
   "outputs": [],
   "source": [
    "all_treatment_mv_fit = mv_fit_map[\"all\"].copy()\n",
    "all_treatment_mv_fit[\"accept_intercept\"] = all_treatment_mv_fit[\"intercept_pval\"] < 0.05\n",
    "all_treatment_mv_fit[\"accept_slope\"] = all_treatment_mv_fit[\"slope_pval\"] < 0.05\n",
    "all_treatment_mv_fit[\"accept_r2\"] = all_treatment_mv_fit[\"r2_unweighted\"] > 0.6\n",
    "display_series(all_treatment_mv_fit[[c for c in all_treatment_mv_fit.columns if c.startswith(\"accept_\")]].agg(np.count_nonzero))\n",
    "\n",
    "ensure_that(np.count_nonzero(all_treatment_mv_fit.accept_intercept) == 812)\n",
    "ensure_that(np.count_nonzero(all_treatment_mv_fit.accept_slope) == 2_139)"
   ]
  },
  {
   "cell_type": "code",
   "execution_count": null,
   "metadata": {},
   "outputs": [],
   "source": [
    "def plot_mv_r2_hist(ax=None):\n",
    "    ax = ax or plt.subplots()[1]\n",
    "    sns.distplot(all_treatment_mv_fit.loc[all_treatment_mv_fit.accept_slope].r2_unweighted, bins=50, kde=False, ax=ax)\n",
    "    ax.axvline(x=0.6, ls=\"--\", label=\"Cut-off\")\n",
    "    ax.set_xlabel(\"$R^2$ of slope\")\n",
    "    ax.set_ylabel(\"Number of genes\")\n",
    "    ax.yaxis.set_major_locator(plt.MaxNLocator(integer=True))\n",
    "    ax.legend()\n",
    "    return ax\n",
    "\n",
    "\n",
    "plot_mv_r2_hist()\n",
    "save_figure(\"2a\")\n",
    "plt.show()"
   ]
  },
  {
   "cell_type": "code",
   "execution_count": null,
   "metadata": {
    "lines_to_next_cell": 2
   },
   "outputs": [],
   "source": [
    "all_treatment_good_mv_fit = all_treatment_mv_fit.loc[all_treatment_mv_fit.accept_slope & all_treatment_mv_fit.accept_r2]\n",
    "all_treatment_good_mv_fit.insert(0, \"symbol\", gene_info_df.loc[all_treatment_good_mv_fit.index].symbol)\n",
    "\n",
    "print(f\"{len(all_treatment_good_mv_fit):,} mean-variance trends have a good fit (based on slope and unweighted R2)\")\n",
    "print(f\"  i.e. {100 * (len(all_treatment_good_mv_fit) / len(analysis_gene_ids)):.1f}%\")\n",
    "print(f\"  {np.count_nonzero(all_treatment_good_mv_fit.accept_intercept):,} have a significant intercept\")\n",
    "\n",
    "ensure_that(len(all_treatment_good_mv_fit) == 1_551)\n",
    "ensure_that(np.count_nonzero(all_treatment_good_mv_fit.accept_intercept) == 564)\n",
    "ensure_that(np.round(100 * (len(all_treatment_good_mv_fit) / len(analysis_gene_ids))) == 66)\n",
    "ensure_that(np.count_nonzero(all_treatment_good_mv_fit.slope < 0) == 0)"
   ]
  },
  {
   "cell_type": "code",
   "execution_count": null,
   "metadata": {},
   "outputs": [],
   "source": [
    "def plot_mv_slope_hist(ax=None):\n",
    "    ax = ax or plt.subplots()[1]\n",
    "    sns.distplot(np.log10(all_treatment_good_mv_fit.slope), bins=100, kde=False, ax=ax)\n",
    "    ax.set_xlabel(\"Slope (log$_{10}$)\")\n",
    "    ax.set_ylabel(\"Number of genes\")\n",
    "    ax.yaxis.set_major_locator(plt.MaxNLocator(integer=True))\n",
    "    return ax\n",
    "\n",
    "\n",
    "plot_mv_slope_hist()\n",
    "save_figure(\"2b\")\n",
    "plt.show()"
   ]
  },
  {
   "cell_type": "markdown",
   "metadata": {},
   "source": [
    "#### QUESTION: should we address this outlier?"
   ]
  },
  {
   "cell_type": "code",
   "execution_count": null,
   "metadata": {},
   "outputs": [],
   "source": [
    "mv_slope_outlier = all_treatment_good_mv_fit.sort_values(by=\"slope\").iloc[-1]\n",
    "display(mv_slope_outlier.to_frame().T)\n",
    "\n",
    "sns.regplot(\"mean\", \"variance\", data=gene_condition_stats_df.loc[gene_condition_stats_df.gene == mv_slope_outlier.name])\n",
    "plt.show()"
   ]
  },
  {
   "cell_type": "code",
   "execution_count": null,
   "metadata": {},
   "outputs": [],
   "source": [
    "display(additional_genes.to_frame().join(all_treatment_mv_fit))"
   ]
  },
  {
   "cell_type": "markdown",
   "metadata": {},
   "source": [
    "## Fitting of bursting parameters"
   ]
  },
  {
   "cell_type": "code",
   "execution_count": null,
   "metadata": {},
   "outputs": [],
   "source": [
    "txburst_df = rp2.data.load_and_recalculate_txburst_results(\"mouse\", condition_columns, \"median\")\n",
    "txburst_df = txburst_df.loc[txburst_df.time_point.isin(time_points)]\n",
    "txburst_df = txburst_df.loc[txburst_df.gene.isin(all_treatment_good_mv_fit.index)]\n",
    "txburst_df = txburst_df.copy()\n",
    "\n",
    "print(\"For the well-fitted genes:\")\n",
    "print(f\"  txburst results are available for {len(txburst_df):,} data points\")\n",
    "print(f\"  (across {txburst_df.gene.nunique():,} genes)\")\n",
    "\n",
    "ensure_that(len(txburst_df) == 7_804)\n",
    "ensure_that(len(txburst_df[condition_columns].drop_duplicates()) == 20)"
   ]
  },
  {
   "cell_type": "code",
   "execution_count": null,
   "metadata": {},
   "outputs": [],
   "source": [
    "txburst_gene_condition_counts = txburst_df.gene.value_counts()\n",
    "txburst_gene_id_subset = txburst_gene_condition_counts[txburst_gene_condition_counts >= 10]\n",
    "\n",
    "print(f\"{len(txburst_gene_id_subset):,} genes have >= 10 txburst results\")\n",
    "\n",
    "ensure_that(len(txburst_gene_id_subset) == 99)"
   ]
  },
  {
   "cell_type": "code",
   "execution_count": null,
   "metadata": {},
   "outputs": [],
   "source": [
    "data_point_info_df = txburst_df.loc[txburst_df.gene.isin(txburst_gene_id_subset.index)].set_index(index_columns)\n",
    "data_point_info_df = data_point_info_df.join(gene_condition_stats_df.set_index(index_columns)[[\"mean\"]].add_prefix(\"rna_\")).reset_index()\n",
    "data_point_info_df[\"burstiness\"] = data_point_info_df.k_off / data_point_info_df.k_on\n",
    "\n",
    "analysis_mv_fit_df = all_treatment_good_mv_fit.loc[txburst_gene_id_subset.index]\n",
    "\n",
    "print(f\"{len(data_point_info_df):,} data points are available\")\n",
    "\n",
    "ensure_that(data_point_info_df.gene.nunique() == 99)\n",
    "ensure_that(len(analysis_mv_fit_df) == 99)\n",
    "ensure_that(len(data_point_info_df) == 1_343)"
   ]
  },
  {
   "cell_type": "code",
   "execution_count": null,
   "metadata": {},
   "outputs": [],
   "source": [
    "def plot_mv_fit_slope_hist(ax=None):\n",
    "    ax = ax or plt.subplots()[1]\n",
    "    sns.distplot(np.log10(analysis_mv_fit_df.slope), bins=20, kde=False, ax=ax)\n",
    "    ax.set_xlabel(\"Slope (log$_{10}$)\")\n",
    "    ax.set_ylabel(\"Number of genes\")\n",
    "    ax.yaxis.set_major_locator(plt.MaxNLocator(integer=True))\n",
    "    return ax\n",
    "\n",
    "\n",
    "plot_mv_fit_slope_hist()\n",
    "save_figure(\"2c\")\n",
    "plt.show()"
   ]
  },
  {
   "cell_type": "code",
   "execution_count": null,
   "metadata": {},
   "outputs": [],
   "source": [
    "_, axes = plt.subplots(ncols=3, constrained_layout=True, figsize=(12, 3))\n",
    "plot_mv_r2_hist(axes[0])\n",
    "plot_mv_slope_hist(axes[1])\n",
    "plot_mv_fit_slope_hist(axes[2])\n",
    "label_subplots(axes)\n",
    "save_figure(\"2abc\")\n",
    "plt.show()"
   ]
  },
  {
   "cell_type": "markdown",
   "metadata": {},
   "source": [
    "### Plot inferred kinetic parameters"
   ]
  },
  {
   "cell_type": "code",
   "execution_count": null,
   "metadata": {},
   "outputs": [],
   "source": [
    "def plot_ksyn_hist(ax=None):\n",
    "    ax = ax or plt.subplots()[1]\n",
    "    sns.distplot(np.log10(data_point_info_df.k_syn), bins=20, kde=False, ax=ax)\n",
    "    ax.set_xlabel(\"$k_s$ (log$_{10}$)\")\n",
    "    ax.set_ylabel(\"Number of data points\")\n",
    "    return ax\n",
    "\n",
    "\n",
    "plot_ksyn_hist()\n",
    "save_figure(\"3a\")\n",
    "plt.show()"
   ]
  },
  {
   "cell_type": "code",
   "execution_count": null,
   "metadata": {},
   "outputs": [],
   "source": [
    "def plot_koff_kon_scatter(ax=None):\n",
    "    ax = ax or plt.subplots()[1]\n",
    "    sns.scatterplot(np.log10(data_point_info_df.k_off), np.log10(data_point_info_df.k_on), ax=ax)\n",
    "    ax.plot((-2, 1.5), (-2, 1.5), ls=\"--\")\n",
    "    ax.set_xlabel(\"$k_{off}$ (log$_{10}$)\")\n",
    "    ax.set_ylabel(\"$k_{on}$ (log$_{10}$)\")\n",
    "    return ax\n",
    "\n",
    "\n",
    "plot_koff_kon_scatter()\n",
    "save_figure(\"3b\")\n",
    "plt.show()"
   ]
  },
  {
   "cell_type": "markdown",
   "metadata": {},
   "source": [
    "#### QUESTION: are the $k_{off}$ values being clipped at 1,000?\n",
    "\n",
    "I believe the txburst optimisation is limited to a parameter search space of [0, 1000]. However, this doesn't appear to be affecting too many points:"
   ]
  },
  {
   "cell_type": "code",
   "execution_count": null,
   "metadata": {},
   "outputs": [],
   "source": [
    "data_point_info_df.k_off.sort_values().reset_index(drop=True).plot.line()\n",
    "plt.show()"
   ]
  },
  {
   "cell_type": "code",
   "execution_count": null,
   "metadata": {},
   "outputs": [],
   "source": [
    "def plot_burstiness_hist(ax=None):\n",
    "    ax = ax or plt.subplots()[1]\n",
    "    sns.distplot(np.log10(data_point_info_df[\"burstiness\"]), bins=20, kde=False, ax=ax)\n",
    "    ax.set_xlabel(\"Burstiness (log$_{10}$)\")\n",
    "    ax.set_ylabel(\"Number of data points\")\n",
    "    return ax\n",
    "\n",
    "\n",
    "plot_burstiness_hist()\n",
    "save_figure(\"3c\")\n",
    "plt.show()"
   ]
  },
  {
   "cell_type": "code",
   "execution_count": null,
   "metadata": {},
   "outputs": [],
   "source": [
    "_, axes = plt.subplots(ncols=3, constrained_layout=True, figsize=(12, 4))\n",
    "plot_ksyn_hist(axes[0])\n",
    "plot_koff_kon_scatter(axes[1])\n",
    "plot_burstiness_hist(axes[2])\n",
    "label_subplots(axes)\n",
    "save_figure(\"3abc\")\n",
    "plt.show()"
   ]
  },
  {
   "cell_type": "markdown",
   "metadata": {},
   "source": [
    "#### Plot calculated burst parameters"
   ]
  },
  {
   "cell_type": "code",
   "execution_count": null,
   "metadata": {},
   "outputs": [],
   "source": [
    "def plot_bs_bf_scatter(ax=None):\n",
    "    ax = ax or plt.subplots()[1]\n",
    "    sns.scatterplot(np.log10(data_point_info_df.bs_point), np.log10(data_point_info_df.bf_point), s=20, ax=ax)\n",
    "    ax.set_xlabel(\"Burst size (log$_{10}$)\")\n",
    "    ax.set_ylabel(\"Burst frequency (log$_{10}$)\")\n",
    "    return ax\n",
    "\n",
    "\n",
    "def plot_bs_hist(ax):\n",
    "    ax = ax or plt.subplots()[1]\n",
    "    sns.distplot(np.log10(data_point_info_df.bs_point), bins=50, kde=False, ax=ax)\n",
    "    ax.set_xlabel(\"Burst size (log$_{10}$)\")\n",
    "    ax.set_ylabel(\"Number of data points\")\n",
    "    return ax\n",
    "\n",
    "\n",
    "def plot_bf_hist(ax):\n",
    "    ax = ax or plt.subplots()[1]\n",
    "    sns.distplot(np.log10(data_point_info_df.bf_point), bins=50, kde=False, ax=ax)\n",
    "    ax.set_xlabel(\"Burst frequency (log$_{10}$)\")\n",
    "    ax.set_ylabel(\"Number of data points\")\n",
    "    return ax\n",
    "\n",
    "\n",
    "fig4 = plt.figure(constrained_layout=True, figsize=(12, 8))\n",
    "gs = fig4.add_gridspec(2, 3)\n",
    "fig4_ax_a = fig4.add_subplot(gs[0:2, 0:2])\n",
    "fig4_ax_b = fig4.add_subplot(gs[0, 2])\n",
    "fig4_ax_c = fig4.add_subplot(gs[1, 2])\n",
    "plot_bs_bf_scatter(fig4_ax_a)\n",
    "plot_bs_hist(fig4_ax_b)\n",
    "plot_bf_hist(fig4_ax_c)\n",
    "label_subplots([fig4_ax_a, fig4_ax_b, fig4_ax_c])\n",
    "\n",
    "save_figure(\"4abc\")\n",
    "\n",
    "plt.show()"
   ]
  },
  {
   "cell_type": "code",
   "execution_count": null,
   "metadata": {},
   "outputs": [],
   "source": [
    "def calculate_spearman_r(df, x_var, y_var):\n",
    "    sp_corr = stats.spearmanr(df[x_var], df[y_var])\n",
    "    return pd.Series(data={\"r\": sp_corr.correlation, \"r_pval\": sp_corr.pvalue})\n",
    "\n",
    "\n",
    "def create_mean_trend_df(df, var, pval):\n",
    "    trends_df = df.groupby(\"gene\").apply(calculate_spearman_r, \"rna_mean\", var)\n",
    "    trends_df[\"accept_r\"] = trends_df.r < pval\n",
    "    trends_df[\"trend\"] = \"uncertain\"\n",
    "    trends_df.loc[trends_df.accept_r & (trends_df.r > 0), \"trend\"] = \"increasing\"\n",
    "    trends_df.loc[trends_df.accept_r & (trends_df.r < 0), \"trend\"] = \"decreasing\"\n",
    "    return trends_df\n",
    "\n",
    "\n",
    "for c in [\"bf_point\", \"bs_point\", \"burstiness\"]:\n",
    "    print(f\"Trends for {c} based on Spearman rank correlation:\")\n",
    "    display_series(create_mean_trend_df(data_point_info_df, c, 0.05).trend.value_counts().sort_index(), indent=2)"
   ]
  },
  {
   "cell_type": "code",
   "execution_count": null,
   "metadata": {},
   "outputs": [],
   "source": [
    "def fit_bp_curve(df, y_var):\n",
    "    x_var = \"rna_mean\"\n",
    "    results = rp2.regression.calculate_curve_fit(df, x_var, y_var, loss_function=\"huber\", f_scale=1.0)\n",
    "    a, b, c = results[\"a\"], results[\"b\"], results[\"c\"]\n",
    "    if a is np.nan:\n",
    "        return None\n",
    "    results[\"start\"], results[\"end\"] = rp2.regression.power_function((df[x_var].min(), df[x_var].max()), a, b, c)\n",
    "    return pd.Series(data=results)\n",
    "\n",
    "\n",
    "bp_curve_df_map = {c: data_point_info_df.groupby(\"gene\").apply(fit_bp_curve, c)\n",
    "                  for c in [\"bf_point\", \"bs_point\"]}"
   ]
  },
  {
   "cell_type": "code",
   "execution_count": null,
   "metadata": {},
   "outputs": [],
   "source": [
    "def determine_bp_curve_trends(df):\n",
    "    series = pd.Series(index=df.index, data=\"uncertain\")\n",
    "    series[df[\"start\"] < df[\"end\"]] = \"increasing\"\n",
    "    series[df[\"start\"] > df[\"end\"]] = \"decreasing\"\n",
    "    return series\n",
    "\n",
    "\n",
    "for c, df in bp_curve_df_map.items():\n",
    "    print(f\"Trends for {c} based on curve-fitting:\")\n",
    "    display_series(determine_bp_curve_trends(df).value_counts().sort_index(), indent=2)"
   ]
  },
  {
   "cell_type": "markdown",
   "metadata": {},
   "source": [
    "## Relationship between burst size and mean-variance gradient of RNA response\n",
    "\n",
    "$b_p=\\left(\\alpha -1\\right)+\\frac{\\sigma _0}{\\mu }$\n",
    "\n",
    "$f_p=\\frac{\\mu }{b_p}$\n",
    "\n",
    "TODO"
   ]
  },
  {
   "cell_type": "code",
   "execution_count": null,
   "metadata": {},
   "outputs": [],
   "source": [
    "def predict_bf_and_bs(rna_mean, slope, intercept):\n",
    "    bs = (slope - 1) + (intercept / rna_mean)\n",
    "    bf = rna_mean / bs\n",
    "    return bf, bs\n",
    "\n",
    "\n",
    "def calculate_bp_prediction_df(df, mv_df, force_zero_intercepts=False):\n",
    "    if force_zero_intercepts:\n",
    "        mv_df = mv_df.copy()\n",
    "        mv_df.loc[~mv_df.accept_intercept, \"intercept\"] = 0\n",
    "\n",
    "    slope, intercept = mv_df.loc[df.gene, [\"slope\", \"intercept\"]].to_numpy().T\n",
    "    bf, bs = predict_bf_and_bs(df.rna_mean, slope, intercept)\n",
    "    return pd.DataFrame(index=df.index, data={\"bf\": bf, \"bs\": bs})\n",
    "\n",
    "\n",
    "predicted_bp_df = calculate_bp_prediction_df(data_point_info_df, analysis_mv_fit_df, force_zero_intercepts=True)"
   ]
  },
  {
   "cell_type": "code",
   "execution_count": null,
   "metadata": {},
   "outputs": [],
   "source": [
    "def determine_bs_prediction_trends(df, force_zero_intercepts=False):\n",
    "    if force_zero_intercepts:\n",
    "        df = df.copy()\n",
    "        df.loc[~df.accept_intercept, \"intercept\"] = 0\n",
    "    series = pd.Series(index=df.index, data=\"uncertain\")\n",
    "    series[df.intercept > 0] = \"decreasing\"\n",
    "    series[df.intercept < 0] = \"increasing\"\n",
    "    return series\n",
    "\n",
    "\n",
    "def plot_bs_prediction(gene_id):\n",
    "    data_point_info_subset = data_point_info_df.loc[data_point_info_df.gene == gene_id]\n",
    "    lx = np.linspace(data_point_info_subset.rna_mean.min(), data_point_info_subset.rna_mean.max())\n",
    "\n",
    "    slope, intercept = analysis_mv_fit_df.loc[gene_id, [\"slope\", \"intercept\"]]\n",
    "    _, py = predict_bf_and_bs(lx, slope, intercept)\n",
    "\n",
    "    a, b, c = bp_curve_df_map[\"bs_point\"].loc[gene_id, [\"a\", \"b\", \"c\"]]\n",
    "    cy = rp2.regression.power_function(lx, a, b, c)\n",
    "\n",
    "    sns.scatterplot(data_point_info_subset.rna_mean, data_point_info_subset.bs_point)\n",
    "    plt.plot(lx, py, ls=\":\", label=\"Predicted\")\n",
    "    plt.plot(lx, cy, ls=\"--\", label=\"Fit curve\")\n",
    "    plt.xlim(left=0)\n",
    "    plt.ylim(bottom=0, top=data_point_info_subset.bs_point.max())\n",
    "    plt.legend(loc=\"upper left\", bbox_to_anchor=(1, 1))\n",
    "    plt.show()\n",
    "\n",
    "\n",
    "trend_df = determine_bp_curve_trends(bp_curve_df_map[\"bs_point\"]).to_frame(\"curve_trend\").join(determine_bs_prediction_trends(analysis_mv_fit_df).to_frame(\"pred_trend\"))\n",
    "mismatched_trend_df = trend_df.loc[trend_df.curve_trend != trend_df.pred_trend]\n",
    "mismatched_trend_genes = gene_info_df.symbol[mismatched_trend_df.index].sort_values()\n",
    "\n",
    "print(f\"The trends of {len(mismatched_trend_genes):,} gene do not match (fit versus predicted)\")\n",
    "\n",
    "widgets.interactive(\n",
    "    plot_bs_prediction,\n",
    "    gene_id=widgets.Select(options=list(zip(mismatched_trend_genes.values, mismatched_trend_genes.index)), rows=3),\n",
    ")"
   ]
  },
  {
   "cell_type": "code",
   "execution_count": null,
   "metadata": {},
   "outputs": [],
   "source": [
    "def plot_mean_bp_for_analyses_genes():\n",
    "    for gene_id, gene_df in data_point_info_df.join(predicted_bp_df.add_suffix(\"_predicted\")).groupby(\"gene\"):\n",
    "        gene_mv_row = analysis_mv_fit_df.loc[gene_id]\n",
    "        display(gene_mv_row.to_frame().T)\n",
    "\n",
    "        rna_mean = gene_df.rna_mean\n",
    "        cx = np.linspace(rna_mean.min(), rna_mean.max())\n",
    "        intercept = gene_mv_row.intercept if gene_mv_row.accept_intercept else 0\n",
    "        bf, bs = predict_bf_and_bs(cx, gene_mv_row.slope, intercept)\n",
    "        cy_map = {\"bf\": bf, \"bs\": bs}\n",
    "\n",
    "        _, axes = plt.subplots(ncols=2, constrained_layout=True, figsize=(10, 4))\n",
    "        for p, ax in zip([\"bs\", \"bf\"], axes):\n",
    "            y_tx = gene_df[f\"{p}_point\"]\n",
    "            y_pred = gene_df[f\"{p}_predicted\"]\n",
    "            r2 = metrics.r2_score(y_tx, y_pred)\n",
    "\n",
    "            ax.scatter(rna_mean, y_tx, marker=\"o\", label=\"inferred\")\n",
    "            ax.scatter(rna_mean, y_pred, marker=\"x\", label=\"predicted\")\n",
    "\n",
    "            ax.plot(cx, cy_map[p], ls=\":\")\n",
    "\n",
    "            ax.set_title(f\"$R^2$ = {r2:.2f}\")\n",
    "            ax.set_xlabel(\"RNA mean\")\n",
    "            ax.set_ylabel(p)\n",
    "            ax.set_xlim(left=0)\n",
    "        plt.legend(loc=\"upper left\", bbox_to_anchor=(1, 1))\n",
    "        plt.show()\n",
    "\n",
    "\n",
    "plot_mean_bp_for_analyses_genes()"
   ]
  },
  {
   "cell_type": "markdown",
   "metadata": {},
   "source": [
    "## Modulation of burst size and frequency\n",
    "\n",
    "TODO"
   ]
  },
  {
   "cell_type": "code",
   "execution_count": null,
   "metadata": {},
   "outputs": [],
   "source": []
  },
  {
   "cell_type": "markdown",
   "metadata": {},
   "source": [
    "## Relationship between burst size and frequency\n",
    "\n",
    "TODO"
   ]
  },
  {
   "cell_type": "code",
   "execution_count": null,
   "metadata": {},
   "outputs": [],
   "source": []
  }
 ],
 "metadata": {
  "jupytext": {
   "formats": "ipynb,.ipynb.py:percent"
  },
  "kernelspec": {
   "display_name": "Python 3",
   "language": "python",
   "name": "python3"
  },
  "language_info": {
   "codemirror_mode": {
    "name": "ipython",
    "version": 3
   },
   "file_extension": ".py",
   "mimetype": "text/x-python",
   "name": "python",
   "nbconvert_exporter": "python",
   "pygments_lexer": "ipython3",
   "version": "3.8.2"
  }
 },
 "nbformat": 4,
 "nbformat_minor": 4
}
