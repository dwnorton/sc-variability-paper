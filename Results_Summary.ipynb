{
 "cells": [
  {
   "cell_type": "code",
   "execution_count": null,
   "metadata": {},
   "outputs": [],
   "source": [
    "import matplotlib.pyplot as plt\n",
    "import numpy as np\n",
    "import pandas as pd\n",
    "import scanpy\n",
    "import seaborn as sns\n",
    "import statsmodels.api as sm\n",
    "import sys\n",
    "import warnings\n",
    "from IPython.display import display\n",
    "from scipy import stats\n",
    "from sklearn import metrics\n",
    "\n",
    "import rp2.data\n",
    "import rp2.regression\n",
    "from rp2 import hagai_2018\n",
    "\n",
    "rp2.check_environment()"
   ]
  },
  {
   "cell_type": "code",
   "execution_count": null,
   "metadata": {},
   "outputs": [],
   "source": [
    "np.seterr(all=\"warn\")\n",
    "warnings.filterwarnings(\"error\", category=RuntimeWarning)\n",
    "\n",
    "print(f\"Python version: {sys.version.split()[0]}\")\n",
    "print(f\"Scanpy version: {scanpy.__version__}\")\n",
    "print(f\"statsmodels version: {sm.__version__}\")"
   ]
  },
  {
   "cell_type": "code",
   "execution_count": null,
   "metadata": {},
   "outputs": [],
   "source": [
    "def display_series(s, indent=0):\n",
    "    width = s.index.str.len().max() + 2\n",
    "    for n, v in s.items():\n",
    "        pad = width - len(n)\n",
    "        print(f\"{' ' * indent}{n}{' ' * pad}{v}\")"
   ]
  },
  {
   "cell_type": "code",
   "execution_count": null,
   "metadata": {},
   "outputs": [],
   "source": [
    "condition_columns = [\"replicate\", \"treatment\", \"time_point\"]\n",
    "index_columns = [\"gene\"] + condition_columns\n",
    "time_points = [\"0\", \"2\", \"4\", \"6\"]\n",
    "\n",
    "gene_info_df = rp2.load_biomart_gene_symbols_df(\"mouse\")"
   ]
  },
  {
   "cell_type": "markdown",
   "metadata": {},
   "source": [
    "## Acquisition and preparation of RNA counts"
   ]
  },
  {
   "cell_type": "code",
   "execution_count": null,
   "metadata": {},
   "outputs": [],
   "source": [
    "mouse_umi_adata = hagai_2018.load_umi_counts(\"mouse\")\n",
    "mouse_umi_adata = mouse_umi_adata[mouse_umi_adata.obs.time_point.isin(time_points)].copy()\n",
    "\n",
    "print(\"Full Hagai mouse dataset has:\")\n",
    "print(f\"  {mouse_umi_adata.n_obs:,} cells\")\n",
    "print(f\"  {mouse_umi_adata.n_vars:,} genes\")\n",
    "\n",
    "assert(mouse_umi_adata.n_obs == 53_086)\n",
    "assert(mouse_umi_adata.n_vars == 22_048)\n",
    "\n",
    "del mouse_umi_adata"
   ]
  },
  {
   "cell_type": "code",
   "execution_count": null,
   "metadata": {},
   "outputs": [],
   "source": [
    "mouse_counts_adata = hagai_2018.load_counts(\"mouse\", scaling=\"median\")\n",
    "mouse_counts_adata = mouse_counts_adata[mouse_counts_adata.obs.time_point.isin(time_points)].copy()\n",
    "\n",
    "print(\"Scaled Hagai mouse dataset has:\")\n",
    "print(f\"  {mouse_counts_adata.n_vars:,} genes\")\n",
    "\n",
    "assert(mouse_counts_adata.n_obs == 53_086)\n",
    "assert(mouse_counts_adata.n_vars == 16_798)"
   ]
  },
  {
   "cell_type": "code",
   "execution_count": null,
   "metadata": {},
   "outputs": [],
   "source": [
    "lps_responsive_gene_ids = mouse_counts_adata.var.index[mouse_counts_adata.var.lps_responsive]\n",
    "print(f\"{len(lps_responsive_gene_ids):,} genes are LPS-responsive\")\n",
    "\n",
    "assert(len(lps_responsive_gene_ids) == 2_336)"
   ]
  },
  {
   "cell_type": "code",
   "execution_count": null,
   "metadata": {},
   "outputs": [],
   "source": [
    "additional_gene_symbols = [\"Il1b\", \"Tnf\"]\n",
    "additional_gene_ids = gene_info_df.index[gene_info_df.symbol.isin(additional_gene_symbols)]\n",
    "analysis_gene_ids = sorted(set(lps_responsive_gene_ids).union(additional_gene_ids))\n",
    "\n",
    "print(f\"{len(analysis_gene_ids):,} genes to be used in analysis\")\n",
    "\n",
    "assert(len(analysis_gene_ids) == 2_338)"
   ]
  },
  {
   "cell_type": "code",
   "execution_count": null,
   "metadata": {},
   "outputs": [],
   "source": [
    "condition_df = mouse_counts_adata.obs[condition_columns].drop_duplicates()\n",
    "\n",
    "print(f\"{len(condition_df)} conditions per gene\")\n",
    "print(\"Per replicate:\")\n",
    "display_series(condition_df.replicate.value_counts().sort_index(), indent=2)\n",
    "print(f\"{len(condition_df) * len(analysis_gene_ids):,} data points overall\")\n",
    "\n",
    "assert(len(condition_df) == 20)\n",
    "assert((20 * 2_337) == 46_740)\n",
    "\n",
    "del condition_df"
   ]
  },
  {
   "cell_type": "markdown",
   "metadata": {},
   "source": [
    "## Verification of linear mean-variance relationship of mean RNA response"
   ]
  },
  {
   "cell_type": "code",
   "execution_count": null,
   "metadata": {},
   "outputs": [],
   "source": [
    "analysis_count_adata = mouse_counts_adata[:, analysis_gene_ids].copy()\n",
    "gene_condition_stats_df = hagai_2018.calculate_counts_condition_stats(analysis_count_adata)\n",
    "\n",
    "assert(len(gene_condition_stats_df) == 46_760)"
   ]
  },
  {
   "cell_type": "code",
   "execution_count": null,
   "metadata": {},
   "outputs": [],
   "source": [
    "def fit_mean_variance_trends(df):\n",
    "    x = sm.add_constant(df[\"mean\"])\n",
    "    y = df[\"variance\"]\n",
    "    model = sm.RLM(y, x, M=sm.robust.norms.HuberT(t=1.345))\n",
    "    assert(model.M.t == 1.345)\n",
    "\n",
    "    rlm_results = model.fit()\n",
    "\n",
    "    results = {\n",
    "        \"intercept\": rlm_results.params[0],\n",
    "        \"slope\": rlm_results.params[1],\n",
    "        \"intercept_pval\": rlm_results.pvalues[0],\n",
    "        \"slope_pval\": rlm_results.pvalues[1],\n",
    "        \"r2_unweighted\": metrics.r2_score(y, rlm_results.fittedvalues),\n",
    "        \"r2_weighted\": metrics.r2_score(y, rlm_results.fittedvalues, sample_weight=rlm_results.weights),\n",
    "    }\n",
    "    return pd.Series(results)\n",
    "\n",
    "\n",
    "treatment_sets = {\n",
    "    \"all\": [\"unst\", \"lps\", \"pic\"],\n",
    "#    \"lps\": [\"unst\", \"lps\"],\n",
    "#    \"pic\": [\"unst\", \"pic\"],\n",
    "}\n",
    "\n",
    "mv_fit_map = {set_name: gene_condition_stats_df[gene_condition_stats_df.treatment.isin(set_list)].groupby(\"gene\").apply(fit_mean_variance_trends)\n",
    "              for set_name, set_list in treatment_sets.items()}"
   ]
  },
  {
   "cell_type": "code",
   "execution_count": null,
   "metadata": {},
   "outputs": [],
   "source": [
    "all_treatment_mv_fit = mv_fit_map[\"all\"].copy()\n",
    "all_treatment_mv_fit[\"accept_intercept\"] = all_treatment_mv_fit[\"intercept_pval\"] < 0.05\n",
    "all_treatment_mv_fit[\"accept_slope\"] = all_treatment_mv_fit[\"slope_pval\"] < 0.05\n",
    "all_treatment_mv_fit[\"accept_r2\"] = all_treatment_mv_fit[\"r2_unweighted\"] > 0.6\n",
    "display_series(all_treatment_mv_fit[[c for c in all_treatment_mv_fit.columns if c.startswith(\"accept_\")]].agg(np.count_nonzero))\n",
    "\n",
    "plt.hist(all_treatment_mv_fit.loc[all_treatment_mv_fit.accept_slope].r2_unweighted, bins=50)\n",
    "plt.axvline(x=0.6)\n",
    "plt.xlabel(\"$R^2$ of slope\")\n",
    "plt.ylabel(\"Number of genes\")\n",
    "plt.show()\n",
    "\n",
    "assert(np.count_nonzero(all_treatment_mv_fit.accept_intercept) == 812)\n",
    "assert(np.count_nonzero(all_treatment_mv_fit.accept_slope) == 2_139)"
   ]
  },
  {
   "cell_type": "code",
   "execution_count": null,
   "metadata": {
    "lines_to_next_cell": 2
   },
   "outputs": [],
   "source": [
    "all_treatment_good_mv_fit = all_treatment_mv_fit.loc[all_treatment_mv_fit.accept_slope & all_treatment_mv_fit.accept_r2]\n",
    "all_treatment_good_mv_fit.insert(0, \"symbol\", gene_info_df.loc[all_treatment_good_mv_fit.index].symbol)\n",
    "\n",
    "print(f\"{len(all_treatment_good_mv_fit):,} mean-variance trends have a good fit (based on slope and unweighted R2)\")\n",
    "print(f\"  i.e. {100 * (len(all_treatment_good_mv_fit) / len(analysis_gene_ids)):.1f}%\")\n",
    "print(f\"  {np.count_nonzero(all_treatment_good_mv_fit.accept_intercept):,} have a significant intercept\")\n",
    "\n",
    "assert(len(all_treatment_good_mv_fit) == 1_551)\n",
    "assert(np.count_nonzero(all_treatment_good_mv_fit.accept_intercept) == 564)\n",
    "assert(np.count_nonzero(all_treatment_good_mv_fit.slope < 0) == 0)"
   ]
  },
  {
   "cell_type": "code",
   "execution_count": null,
   "metadata": {},
   "outputs": [],
   "source": [
    "plt.hist(np.log10(all_treatment_good_mv_fit.slope), bins=100)\n",
    "plt.xlabel(\"Mean-variance slope (log$_{10}$)\")\n",
    "plt.ylabel(\"Number of genes\")\n",
    "plt.show()"
   ]
  },
  {
   "cell_type": "markdown",
   "metadata": {},
   "source": [
    "#### QUESTION: should we address this outlier?"
   ]
  },
  {
   "cell_type": "code",
   "execution_count": null,
   "metadata": {},
   "outputs": [],
   "source": [
    "display(all_treatment_good_mv_fit.sort_values(by=\"slope\").iloc[-1:])\n",
    "\n",
    "sns.regplot(\"mean\", \"variance\", data=gene_condition_stats_df.loc[gene_condition_stats_df.gene == \"ENSMUSG00000067149\"])\n",
    "plt.show()"
   ]
  },
  {
   "cell_type": "markdown",
   "metadata": {},
   "source": [
    "## Fitting of bursting parameters"
   ]
  },
  {
   "cell_type": "code",
   "execution_count": null,
   "metadata": {},
   "outputs": [],
   "source": [
    "txburst_df = rp2.data.load_and_recalculate_txburst_results(\"mouse\", condition_columns, \"median\")\n",
    "txburst_df = txburst_df.loc[txburst_df.time_point.isin(time_points)]\n",
    "txburst_df = txburst_df.loc[txburst_df.gene.isin(all_treatment_good_mv_fit.index)]\n",
    "txburst_df = txburst_df.copy()\n",
    "\n",
    "print(\"For the well-fitted genes:\")\n",
    "print(f\"  txburst results are available for {len(txburst_df):,} data points\")\n",
    "print(f\"  (across {txburst_df.gene.nunique():,} genes)\")\n",
    "\n",
    "assert(len(txburst_df) == 7_804)\n",
    "assert(len(txburst_df[condition_columns].drop_duplicates()) == 20)"
   ]
  },
  {
   "cell_type": "code",
   "execution_count": null,
   "metadata": {},
   "outputs": [],
   "source": [
    "txburst_gene_condition_counts = txburst_df.gene.value_counts()\n",
    "txburst_gene_id_subset = txburst_gene_condition_counts[txburst_gene_condition_counts >= 10]\n",
    "\n",
    "print(f\"{len(txburst_gene_id_subset):,} genes have >= 10 txburst results\")\n",
    "\n",
    "assert(len(txburst_gene_id_subset) == 99)"
   ]
  },
  {
   "cell_type": "code",
   "execution_count": null,
   "metadata": {},
   "outputs": [],
   "source": [
    "data_point_info_df = txburst_df.loc[txburst_df.gene.isin(txburst_gene_id_subset.index)].set_index(index_columns)\n",
    "data_point_info_df = data_point_info_df.join(gene_condition_stats_df.set_index(index_columns)[[\"mean\"]].add_prefix(\"rna_\")).reset_index()\n",
    "\n",
    "analysis_mv_fit_df = all_treatment_good_mv_fit.loc[txburst_gene_id_subset.index]\n",
    "\n",
    "print(f\"{len(data_point_info_df):,} data points are available\")\n",
    "\n",
    "assert(data_point_info_df.gene.nunique() == 99)\n",
    "assert(len(analysis_mv_fit_df) == 99)"
   ]
  },
  {
   "cell_type": "code",
   "execution_count": null,
   "metadata": {},
   "outputs": [],
   "source": [
    "plt.hist(np.log10(analysis_mv_fit_df.slope), bins=20)\n",
    "plt.xlabel(\"Mean-variance slope (log$_{10}$)\")\n",
    "plt.ylabel(\"Number of genes\")\n",
    "plt.show()"
   ]
  },
  {
   "cell_type": "code",
   "execution_count": null,
   "metadata": {},
   "outputs": [],
   "source": [
    "g = sns.jointplot(np.log10(data_point_info_df.bs_point), np.log10(data_point_info_df.bf_point), marginal_kws={\"bins\": 55})\n",
    "g.set_axis_labels(\"Burst size (log$_{10}$)\", \"Burst frequency (log$_{10}$)\")\n",
    "plt.show()"
   ]
  },
  {
   "cell_type": "code",
   "execution_count": null,
   "metadata": {},
   "outputs": [],
   "source": [
    "plt.scatter(np.log10(data_point_info_df.k_off), np.log10(data_point_info_df.k_on))\n",
    "plt.plot((-2, 1.5), (-2, 1.5))\n",
    "plt.xlabel(\"$k_{off}$ (log$_{10}$)\")\n",
    "plt.ylabel(\"$k_{on}$ (log$_{10}$)\")\n",
    "plt.show()"
   ]
  },
  {
   "cell_type": "markdown",
   "metadata": {},
   "source": [
    "#### QUESTION: are the $k_{off}$ values being clipped at 1,000?\n",
    "\n",
    "I believe the txburst optimisation is limited to a parameter search space of [0, 1000]. However, this doesn't appear to be affecting too many points:"
   ]
  },
  {
   "cell_type": "code",
   "execution_count": null,
   "metadata": {},
   "outputs": [],
   "source": [
    "data_point_info_df.k_off.sort_values().reset_index(drop=True).plot.line()"
   ]
  },
  {
   "cell_type": "code",
   "execution_count": null,
   "metadata": {},
   "outputs": [],
   "source": [
    "data_point_info_df[\"burstiness\"] = data_point_info_df.k_off / data_point_info_df.k_on\n",
    "\n",
    "plt.hist(np.log10(data_point_info_df[\"burstiness\"]), bins=20)\n",
    "plt.xlabel(\"Burstiness (log$_{10}$)\")\n",
    "plt.ylabel(\"Number of genes\")\n",
    "plt.show()"
   ]
  },
  {
   "cell_type": "code",
   "execution_count": null,
   "metadata": {},
   "outputs": [],
   "source": [
    "def calculate_spearman_r(df, x_var, y_var):\n",
    "    sp_corr = stats.spearmanr(df[x_var], df[y_var])\n",
    "    return pd.Series(data={\"r\": sp_corr.correlation, \"r_pval\": sp_corr.pvalue})\n",
    "\n",
    "\n",
    "def create_mean_trend_df(df, var, pval):\n",
    "    trends_df = df.groupby(\"gene\").apply(calculate_spearman_r, \"rna_mean\", var)\n",
    "    trends_df[\"accept_r\"] = trends_df.r < pval\n",
    "    trends_df[\"trend\"] = \"uncertain\"\n",
    "    trends_df.loc[trends_df.accept_r & (trends_df.r > 0), \"trend\"] = \"increasing\"\n",
    "    trends_df.loc[trends_df.accept_r & (trends_df.r < 0), \"trend\"] = \"decreasing\"\n",
    "    return trends_df\n",
    "\n",
    "\n",
    "for c in [\"bf_point\", \"bs_point\", \"burstiness\"]:\n",
    "    print(f\"Trends for {c} based on Spearman rank correlation:\")\n",
    "    display_series(create_mean_trend_df(data_point_info_df, c, 0.05).trend.value_counts().sort_index(), indent=2)"
   ]
  },
  {
   "cell_type": "code",
   "execution_count": null,
   "metadata": {},
   "outputs": [],
   "source": [
    "def fit_bp_curve(df, y_var):\n",
    "    x_var = \"rna_mean\"\n",
    "    results = rp2.regression.calculate_curve_fit(df, x_var, y_var, loss_function=\"huber\", f_scale=1.0)\n",
    "    a, b, c = results[\"a\"], results[\"b\"], results[\"c\"]\n",
    "    if a is np.nan:\n",
    "        return None\n",
    "    results[\"start\"], results[\"end\"] = rp2.regression.power_function((df[x_var].min(), df[x_var].max()), a, b, c)\n",
    "    return pd.Series(data=results)\n",
    "\n",
    "\n",
    "bp_curve_df_map = {c: data_point_info_df.groupby(\"gene\").apply(fit_bp_curve, c)\n",
    "                  for c in [\"bf_point\", \"bs_point\"]}"
   ]
  },
  {
   "cell_type": "code",
   "execution_count": null,
   "metadata": {},
   "outputs": [],
   "source": [
    "def determine_bp_curve_trends(df):\n",
    "    series = pd.Series(index=df.index, data=\"unknown\")\n",
    "    series[df[\"start\"] < df[\"end\"]] = \"increasing\"\n",
    "    series[df[\"start\"] > df[\"end\"]] = \"decreasing\"\n",
    "    return series\n",
    "\n",
    "\n",
    "for c, df in bp_curve_df_map.items():\n",
    "    print(f\"Trends for {c} based on curve-fitting:\")\n",
    "    display_series(determine_bp_curve_trends(df).value_counts().sort_index(), indent=2)"
   ]
  },
  {
   "cell_type": "markdown",
   "metadata": {},
   "source": [
    "## Relationship between burst size and mean-variance gradient of RNA response\n",
    "\n",
    "TODO"
   ]
  },
  {
   "cell_type": "code",
   "execution_count": null,
   "metadata": {},
   "outputs": [],
   "source": [
    "def predict_bf_and_bs(rna_mean, slope, intercept):\n",
    "    bs = (slope - 1) + (intercept / rna_mean)\n",
    "    bf = rna_mean / bs\n",
    "    return bf, bs\n",
    "\n",
    "\n",
    "def calculate_bp_prediction_df(df, mv_df):\n",
    "    slope, intercept = mv_df.loc[df.gene, [\"slope\", \"intercept\"]].to_numpy().T\n",
    "    bf, bs = predict_bf_and_bs(df.rna_mean, slope, intercept)\n",
    "    return pd.DataFrame(index=df.index, data={\"bf\": bf, \"bs\": bs})\n",
    "\n",
    "\n",
    "predicted_bp_df = calculate_bp_prediction_df(data_point_info_df, analysis_mv_fit_df)\n",
    "\n",
    "for gene_id, gene_df in data_point_info_df.join(predicted_bp_df.add_suffix(\"_predicted\")).groupby(\"gene\"):\n",
    "    display(analysis_mv_fit_df.loc[[gene_id]])\n",
    "    _, axes = plt.subplots(ncols=2, figsize=(10, 4))\n",
    "    for p, ax in zip([\"bs\", \"bf\"], axes):\n",
    "        ax.scatter(gene_df.rna_mean, gene_df[f\"{p}_point\"], marker=\"o\", label=\"inferred\")\n",
    "        ax.scatter(gene_df.rna_mean, gene_df[f\"{p}_predicted\"], marker=\"x\", label=\"predicted\")\n",
    "        ax.set_xlabel(\"RNA mean\")\n",
    "        ax.set_ylabel(p)\n",
    "    plt.legend(loc=\"upper left\", bbox_to_anchor=(1, 1))\n",
    "    plt.tight_layout()\n",
    "    plt.show()"
   ]
  },
  {
   "cell_type": "markdown",
   "metadata": {},
   "source": [
    "## Modulation of burst size and frequency\n",
    "\n",
    "TODO"
   ]
  },
  {
   "cell_type": "code",
   "execution_count": null,
   "metadata": {},
   "outputs": [],
   "source": []
  },
  {
   "cell_type": "markdown",
   "metadata": {},
   "source": [
    "## Relationship between burst size and frequency\n",
    "\n",
    "TODO"
   ]
  },
  {
   "cell_type": "code",
   "execution_count": null,
   "metadata": {},
   "outputs": [],
   "source": []
  }
 ],
 "metadata": {
  "jupytext": {
   "formats": "ipynb,.ipynb.py:percent"
  },
  "kernelspec": {
   "display_name": "Python 3",
   "language": "python",
   "name": "python3"
  },
  "language_info": {
   "codemirror_mode": {
    "name": "ipython",
    "version": 3
   },
   "file_extension": ".py",
   "mimetype": "text/x-python",
   "name": "python",
   "nbconvert_exporter": "python",
   "pygments_lexer": "ipython3",
   "version": "3.8.2"
  }
 },
 "nbformat": 4,
 "nbformat_minor": 4
}
