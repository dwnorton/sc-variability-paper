{
 "cells": [
  {
   "cell_type": "code",
   "execution_count": null,
   "metadata": {},
   "outputs": [],
   "source": [
    "import string\n",
    "import sys\n",
    "import warnings\n",
    "\n",
    "import ipywidgets as widgets\n",
    "import matplotlib.pyplot as plt\n",
    "import numpy as np\n",
    "import pandas as pd\n",
    "import seaborn as sns\n",
    "import statsmodels.api as sm\n",
    "from IPython.display import display\n",
    "from scipy import stats\n",
    "from sklearn import metrics\n",
    "\n",
    "import rp2.data\n",
    "import rp2.paths\n",
    "import rp2.regression\n",
    "import rp2.txburst\n",
    "from rp2 import hagai_2018\n",
    "\n",
    "rp2.check_environment()"
   ]
  },
  {
   "cell_type": "code",
   "execution_count": null,
   "metadata": {},
   "outputs": [],
   "source": [
    "np.seterr(all=\"warn\")\n",
    "warnings.filterwarnings(\"error\", category=RuntimeWarning)"
   ]
  },
  {
   "cell_type": "code",
   "execution_count": null,
   "metadata": {},
   "outputs": [],
   "source": [
    "def report_package_versions(package_list):\n",
    "    for package in package_list:\n",
    "        m = __import__(package)\n",
    "        print(f\"{package} version: {m.__version__}\")\n",
    "\n",
    "\n",
    "print(f\"Python version: {sys.version.split()[0]}\")\n",
    "\n",
    "report_package_versions([\"matplotlib\", \"numpy\", \"pandas\", \"scanpy\", \"scipy\", \"seaborn\", \"statsmodels\"])"
   ]
  },
  {
   "cell_type": "code",
   "execution_count": null,
   "metadata": {},
   "outputs": [],
   "source": [
    "sns.set(style=\"white\", palette=\"bright\", font=\"sans-serif\", context=\"paper\")"
   ]
  },
  {
   "cell_type": "code",
   "execution_count": null,
   "metadata": {},
   "outputs": [],
   "source": [
    "report_path = rp2.paths.get_output_path(\"report\")\n",
    "rp2.create_folder(report_path, create_clean=True)\n",
    "\n",
    "def figure_path(name):\n",
    "    return report_path.joinpath(f\"figure_{name}.svg\")\n",
    "\n",
    "\n",
    "def save_figure(name):\n",
    "    plt.savefig(figure_path(name))\n",
    "\n",
    "\n",
    "def save_table(df, name):\n",
    "    out_path = report_path.joinpath(f\"table_{name}.csv\")\n",
    "    df.to_csv(out_path)\n",
    "\n",
    "\n",
    "def display_series(s, indent=0):\n",
    "    width = s.index.str.len().max() + 2\n",
    "    for n, v in s.items():\n",
    "        pad = width - len(n)\n",
    "        print(f\"{' ' * indent}{n}{' ' * pad}{v}\")\n",
    "\n",
    "\n",
    "def label_subplots(axes, titles=string.ascii_lowercase, font_size=16, join_infix=None):\n",
    "    for ax, title in zip(axes, titles):\n",
    "        title = f\"({title})\"\n",
    "        if join_infix is not None:\n",
    "            current_title = ax.title.get_text()\n",
    "            if current_title != \"\":\n",
    "                title = f\"{title}{join_infix}{current_title}\"\n",
    "        ax.set_title(title, fontsize=font_size)\n",
    "\n",
    "\n",
    "def make_gene_selector(symbol_series, rows=3):\n",
    "    symbol_series = symbol_series.sort_values()\n",
    "    return widgets.Select(options=list(zip(symbol_series.values, symbol_series.index)), rows=rows)\n",
    "\n",
    "\n",
    "def ensure_that(condition):\n",
    "    if not condition:\n",
    "        raise AssertionError"
   ]
  },
  {
   "cell_type": "code",
   "execution_count": null,
   "metadata": {},
   "outputs": [],
   "source": [
    "def test_pvalues(pval_series, alpha):\n",
    "    results = sm.stats.multipletests(pval_series, alpha, method=\"fdr_bh\")\n",
    "    return pd.DataFrame(index=pval_series.index, data={\"pvals_corrected\": results[1], \"reject\": results[0]})"
   ]
  },
  {
   "cell_type": "code",
   "execution_count": null,
   "metadata": {},
   "outputs": [],
   "source": [
    "condition_columns = [\"replicate\", \"treatment\", \"time_point\"]\n",
    "index_columns = [\"gene\"] + condition_columns\n",
    "time_points = [\"0\", \"2\", \"4\", \"6\"]\n",
    "\n",
    "gene_info_df = rp2.load_biomart_gene_symbols_df(\"mouse\")"
   ]
  },
  {
   "cell_type": "markdown",
   "metadata": {},
   "source": [
    "## Acquisition and preparation of RNA counts"
   ]
  },
  {
   "cell_type": "code",
   "execution_count": null,
   "metadata": {},
   "outputs": [],
   "source": [
    "mouse_umi_adata = hagai_2018.load_umi_counts(\"mouse\")\n",
    "mouse_umi_adata = mouse_umi_adata[mouse_umi_adata.obs.time_point.isin(time_points)].copy()\n",
    "\n",
    "print(\"Full Hagai mouse dataset has:\")\n",
    "print(f\"  {mouse_umi_adata.n_obs:,} cells\")\n",
    "print(f\"  {mouse_umi_adata.n_vars:,} genes\")\n",
    "\n",
    "ensure_that(mouse_umi_adata.n_obs == 53_086)\n",
    "ensure_that(mouse_umi_adata.n_vars == 22_048)\n",
    "\n",
    "del mouse_umi_adata"
   ]
  },
  {
   "cell_type": "code",
   "execution_count": null,
   "metadata": {},
   "outputs": [],
   "source": [
    "mouse_counts_adata = hagai_2018.load_counts(\"mouse\", scaling=\"median\")\n",
    "mouse_counts_adata = mouse_counts_adata[mouse_counts_adata.obs.time_point.isin(time_points)].copy()\n",
    "\n",
    "print(\"Scaled Hagai mouse dataset has:\")\n",
    "print(f\"  {mouse_counts_adata.n_vars:,} genes\")\n",
    "\n",
    "ensure_that(mouse_counts_adata.n_obs == 53_086)\n",
    "ensure_that(mouse_counts_adata.n_vars == 16_798)"
   ]
  },
  {
   "cell_type": "code",
   "execution_count": null,
   "metadata": {},
   "outputs": [],
   "source": [
    "cell_counts = mouse_counts_adata.X.sum(axis=1)\n",
    "counts_per_cell = cell_counts[0].item()\n",
    "print(f\"Counts per cell: {counts_per_cell:,}\")\n",
    "\n",
    "ensure_that(counts_per_cell == 9_161)\n",
    "ensure_that(cell_counts[-1].item() == counts_per_cell)"
   ]
  },
  {
   "cell_type": "code",
   "execution_count": null,
   "metadata": {},
   "outputs": [],
   "source": [
    "lps_responsive_gene_ids = mouse_counts_adata.var.index[mouse_counts_adata.var.lps_responsive]\n",
    "print(f\"{len(lps_responsive_gene_ids):,} genes are LPS-responsive\")\n",
    "\n",
    "ensure_that(len(lps_responsive_gene_ids) == 2_336)"
   ]
  },
  {
   "cell_type": "code",
   "execution_count": null,
   "metadata": {},
   "outputs": [],
   "source": [
    "additional_genes = gene_info_df.symbol[gene_info_df.symbol.isin([\"Tnf\", \"Il1b\"])]\n",
    "analysis_gene_ids = sorted(set(lps_responsive_gene_ids).union(additional_genes.index))\n",
    "\n",
    "print(f\"{len(analysis_gene_ids):,} genes to be used in analysis\")\n",
    "\n",
    "ensure_that(len(analysis_gene_ids) == 2_338)"
   ]
  },
  {
   "cell_type": "code",
   "execution_count": null,
   "metadata": {},
   "outputs": [],
   "source": [
    "condition_df = mouse_counts_adata.obs[condition_columns].drop_duplicates()\n",
    "\n",
    "print(f\"{len(condition_df)} conditions per gene\")\n",
    "print(\"Per replicate:\")\n",
    "display_series(condition_df.replicate.value_counts().sort_index(), indent=2)\n",
    "print(f\"{len(condition_df) * len(analysis_gene_ids):,} data points overall\")\n",
    "\n",
    "ensure_that(len(condition_df) == 20)\n",
    "ensure_that((20 * 2_337) == 46_740)\n",
    "\n",
    "del condition_df"
   ]
  },
  {
   "cell_type": "markdown",
   "metadata": {},
   "source": [
    "## Verification of linear mean-variance relationship of RNA response"
   ]
  },
  {
   "cell_type": "code",
   "execution_count": null,
   "metadata": {},
   "outputs": [],
   "source": [
    "mv_slope_alpha = 0.05\n",
    "mv_slope_r2_min = 0.6\n",
    "mv_intercept_alpha = 0.05"
   ]
  },
  {
   "cell_type": "code",
   "execution_count": null,
   "metadata": {},
   "outputs": [],
   "source": [
    "analysis_count_adata = mouse_counts_adata[:, analysis_gene_ids].copy()\n",
    "gene_condition_stats_df = hagai_2018.calculate_counts_condition_stats(analysis_count_adata)\n",
    "\n",
    "ensure_that(len(gene_condition_stats_df) == 46_760)"
   ]
  },
  {
   "cell_type": "code",
   "execution_count": null,
   "metadata": {
    "lines_to_next_cell": 1
   },
   "outputs": [],
   "source": [
    "def fit_mean_variance_trends(df):\n",
    "    x = sm.add_constant(df[\"mean\"])\n",
    "    y = df[\"variance\"]\n",
    "    model = sm.RLM(y, x, M=sm.robust.norms.HuberT(t=1.345))\n",
    "    ensure_that(model.M.t == 1.345)\n",
    "\n",
    "    rlm_results = model.fit()\n",
    "\n",
    "    results = {\n",
    "        \"intercept\": rlm_results.params[0],\n",
    "        \"slope\": rlm_results.params[1],\n",
    "        \"intercept_pval\": rlm_results.pvalues[0],\n",
    "        \"slope_pval\": rlm_results.pvalues[1],\n",
    "        \"r2_unweighted\": metrics.r2_score(y, rlm_results.fittedvalues),\n",
    "        \"r2_weighted\": metrics.r2_score(y, rlm_results.fittedvalues, sample_weight=rlm_results.weights),\n",
    "    }\n",
    "    return pd.Series(results)\n",
    "\n",
    "\n",
    "treatment_sets = {\n",
    "    \"all\": [\"unst\", \"lps\", \"pic\"],\n",
    "#    \"lps\": [\"unst\", \"lps\"],\n",
    "#    \"pic\": [\"unst\", \"pic\"],\n",
    "}\n",
    "\n",
    "mv_fit_map = {set_name: gene_condition_stats_df[gene_condition_stats_df.treatment.isin(set_list)].groupby(\"gene\").apply(fit_mean_variance_trends)\n",
    "              for set_name, set_list in treatment_sets.items()}"
   ]
  },
  {
   "cell_type": "code",
   "execution_count": null,
   "metadata": {},
   "outputs": [],
   "source": [
    "def test_mv_fit(mv_fit_df):\n",
    "    mv_test_df = mv_fit_df.copy()\n",
    "\n",
    "    intercept_test = test_pvalues(mv_test_df[\"intercept_pval\"], mv_intercept_alpha)\n",
    "    mv_test_df[\"intercept_pval_adj\"] = intercept_test.pvals_corrected\n",
    "    mv_test_df[\"accept_intercept\"] = intercept_test.reject\n",
    "\n",
    "    slope_test = test_pvalues(mv_test_df[\"slope_pval\"], mv_slope_alpha)\n",
    "    mv_test_df[\"slope_pval_adj\"] = slope_test.pvals_corrected\n",
    "    mv_test_df[\"accept_slope\"] = slope_test.reject\n",
    "\n",
    "    mv_test_df[\"accept_r2\"] = mv_test_df[\"r2_unweighted\"] > mv_slope_r2_min\n",
    "\n",
    "    return mv_test_df\n",
    "\n",
    "\n",
    "all_treatment_mv_fit = test_mv_fit(mv_fit_map[\"all\"])\n",
    "display_series(all_treatment_mv_fit[[c for c in all_treatment_mv_fit.columns if c.startswith(\"accept_\")]].agg(np.count_nonzero))\n",
    "\n",
    "ensure_that(mv_intercept_alpha == 0.05)\n",
    "ensure_that(mv_slope_alpha == 0.05)\n",
    "ensure_that(mv_slope_r2_min == 0.6)\n",
    "\n",
    "ensure_that(np.count_nonzero(all_treatment_mv_fit.accept_intercept) == 614)\n",
    "ensure_that(np.count_nonzero(all_treatment_mv_fit.accept_slope) == 2_133)"
   ]
  },
  {
   "cell_type": "code",
   "execution_count": null,
   "metadata": {},
   "outputs": [],
   "source": [
    "def plot_mv_r2_hist(ax=None):\n",
    "    ax = ax or plt.subplots()[1]\n",
    "    sns.distplot(all_treatment_mv_fit.loc[all_treatment_mv_fit.accept_slope].r2_unweighted, bins=50, kde=False, ax=ax)\n",
    "    ax.axvline(x=0.6, ls=\"--\", label=\"Cut-off\")\n",
    "    ax.set_xlabel(\"$R^2$ of slope\")\n",
    "    ax.set_ylabel(\"Number of genes\")\n",
    "    ax.yaxis.set_major_locator(plt.MaxNLocator(integer=True))\n",
    "    ax.legend()\n",
    "    return ax\n",
    "\n",
    "\n",
    "plot_mv_r2_hist()\n",
    "plt.show()"
   ]
  },
  {
   "cell_type": "code",
   "execution_count": null,
   "metadata": {
    "lines_to_next_cell": 2
   },
   "outputs": [],
   "source": [
    "all_treatment_good_mv_fit = all_treatment_mv_fit.loc[all_treatment_mv_fit.accept_slope & all_treatment_mv_fit.accept_r2]\n",
    "all_treatment_good_mv_fit.insert(0, \"symbol\", gene_info_df.loc[all_treatment_good_mv_fit.index].symbol)\n",
    "\n",
    "accepted_intercept_df = all_treatment_good_mv_fit.loc[all_treatment_good_mv_fit.accept_intercept]\n",
    "\n",
    "print(f\"{len(all_treatment_good_mv_fit):,} mean-variance trends have a good fit (based on slope and unweighted R2)\")\n",
    "print(f\"  i.e. {100 * (len(all_treatment_good_mv_fit) / len(analysis_gene_ids)):.1f}% of all analysis genes\")\n",
    "print(f\"  {len(accepted_intercept_df):,} have a significant intercept\")\n",
    "print(f\"    i.e. {100 * (len(accepted_intercept_df) / len(all_treatment_good_mv_fit)):.1f}% of good fits\")\n",
    "print(f\"    {np.count_nonzero(accepted_intercept_df.intercept < 0)} are negative\")\n",
    "print(f\"    {np.count_nonzero(accepted_intercept_df.intercept > 0)} are positive\")\n",
    "\n",
    "ensure_that(len(all_treatment_good_mv_fit) == 1_551)\n",
    "ensure_that(len(accepted_intercept_df) == 430)\n",
    "ensure_that(np.round(100 * (len(all_treatment_good_mv_fit) / len(analysis_gene_ids))) == 66)\n",
    "ensure_that(np.count_nonzero(all_treatment_good_mv_fit.slope < 0) == 0)\n",
    "ensure_that(np.count_nonzero(accepted_intercept_df.intercept < 0) == 414)\n",
    "ensure_that(np.count_nonzero(accepted_intercept_df.intercept > 0) == 16)\n",
    "\n",
    "del accepted_intercept_df"
   ]
  },
  {
   "cell_type": "code",
   "execution_count": null,
   "metadata": {},
   "outputs": [],
   "source": [
    "def make_value_range_str(series):\n",
    "    return f\"{series.min():.2f} to {series.max():.2f}\"\n",
    "\n",
    "\n",
    "print(\"Slope range:\", make_value_range_str(all_treatment_good_mv_fit.slope))\n",
    "print(\"Intercept range:\", make_value_range_str(all_treatment_good_mv_fit.intercept[all_treatment_good_mv_fit.accept_intercept]))"
   ]
  },
  {
   "cell_type": "code",
   "execution_count": null,
   "metadata": {},
   "outputs": [],
   "source": [
    "def plot_mv_slope_hist(ax=None):\n",
    "    ax = ax or plt.subplots()[1]\n",
    "    sns.distplot(np.log10(all_treatment_good_mv_fit.slope), bins=100, kde=False, ax=ax)\n",
    "    ax.set_xlabel(\"Slope (log$_{10}$)\")\n",
    "    ax.set_ylabel(\"Number of genes\")\n",
    "    ax.yaxis.set_major_locator(plt.MaxNLocator(integer=True))\n",
    "    return ax\n",
    "\n",
    "\n",
    "plot_mv_slope_hist()\n",
    "plt.show()"
   ]
  },
  {
   "cell_type": "code",
   "execution_count": null,
   "metadata": {},
   "outputs": [],
   "source": [
    "def plot_mv_max_rna_hist(ax=None):\n",
    "    ax = ax or plt.subplots()[1]\n",
    "\n",
    "    stats_df = gene_condition_stats_df.loc[gene_condition_stats_df.gene.isin(all_treatment_good_mv_fit.index)]\n",
    "    gene_rna_max = stats_df.groupby(\"gene\")[\"mean\"].agg(\"max\")\n",
    "    ensure_that(len(gene_rna_max) == 1_551)\n",
    "\n",
    "    sns.distplot(np.log10(gene_rna_max), bins=50, kde=False, ax=ax)\n",
    "    ax.set_xlabel(\"Maximum mean RNA (log$_{10}$)\")\n",
    "    ax.set_ylabel(\"Number of genes\")\n",
    "    ax.yaxis.set_major_locator(plt.MaxNLocator(integer=True))\n",
    "    return ax\n",
    "\n",
    "\n",
    "plot_mv_max_rna_hist()\n",
    "plt.show()"
   ]
  },
  {
   "cell_type": "code",
   "execution_count": null,
   "metadata": {},
   "outputs": [],
   "source": [
    "_, axes = plt.subplots(ncols=3, constrained_layout=True, figsize=(12, 3))\n",
    "plot_mv_r2_hist(axes[0])\n",
    "plot_mv_slope_hist(axes[1])\n",
    "plot_mv_max_rna_hist(axes[2])\n",
    "label_subplots(axes)\n",
    "save_figure(\"2\")\n",
    "plt.show()"
   ]
  },
  {
   "cell_type": "code",
   "execution_count": null,
   "metadata": {},
   "outputs": [],
   "source": [
    "def get_closest_index(series, value):\n",
    "    abs_diff = (series - value).abs()\n",
    "    return np.argmin(abs_diff)\n",
    "\n",
    "\n",
    "mv_r2_examples_df = all_treatment_mv_fit.iloc[[get_closest_index(all_treatment_mv_fit.r2_unweighted, r2) for r2 in [0.55, 0.65, 0.8]]]\n",
    "display(mv_r2_examples_df)"
   ]
  },
  {
   "cell_type": "code",
   "execution_count": null,
   "metadata": {},
   "outputs": [],
   "source": [
    "def select_mv_examples(df, var_name):\n",
    "    return df.sort_values(by=var_name).iloc[[0, len(df) // 2, -1]]\n",
    "\n",
    "\n",
    "mv_slope_examples_df = select_mv_examples(all_treatment_good_mv_fit, \"slope\")\n",
    "display(mv_slope_examples_df)"
   ]
  },
  {
   "cell_type": "code",
   "execution_count": null,
   "metadata": {},
   "outputs": [],
   "source": [
    "mv_intercept_examples_df = select_mv_examples(all_treatment_good_mv_fit.loc[all_treatment_good_mv_fit.accept_intercept], \"intercept\")\n",
    "display(mv_intercept_examples_df)"
   ]
  },
  {
   "cell_type": "code",
   "execution_count": null,
   "metadata": {},
   "outputs": [],
   "source": [
    "mv_rna_max_examples = select_mv_examples(all_treatment_good_mv_fit.join(gene_condition_stats_df.groupby(\"gene\")[\"mean\"].agg(\"max\").rename(\"rna_max\")), \"rna_max\")\n",
    "display(mv_rna_max_examples)"
   ]
  },
  {
   "cell_type": "code",
   "execution_count": null,
   "metadata": {},
   "outputs": [],
   "source": [
    "def format_intercept_str(intercept, fmt_func):\n",
    "    prefix = \"+\" if intercept >= 0 else \"\"\n",
    "    return f\"{prefix}{fmt_func(intercept)}\"\n",
    "\n",
    "\n",
    "def format_mv_str(mv_series):\n",
    "    fmt_func = \"{:.2f}\".format if mv_series.slope < 10 else \"{:.0f}\".format\n",
    "    intercept_str = format_intercept_str(mv_series.intercept, fmt_func)\n",
    "    if not mv_series.accept_intercept:\n",
    "        intercept_str = f\"({intercept_str})\"\n",
    "    slope_str = fmt_func(mv_series.slope)\n",
    "    return f\"$\\\\sigma^2={slope_str}\\mu{intercept_str}$\"\n",
    "\n",
    "\n",
    "def plot_mv_fit(mv_fit, ax=None):\n",
    "    ax = ax or plt.subplots()[1]\n",
    "\n",
    "    gene_id = mv_fit.name\n",
    "    gene_symbol = gene_info_df.symbol[gene_id]\n",
    "    ax.set_title(f\"$\\it{{{gene_symbol}}}$: $R^2={mv_fit.r2_unweighted:.2f}$\\n{format_mv_str(mv_fit)}\")\n",
    "\n",
    "    stats_df = gene_condition_stats_df.loc[gene_condition_stats_df.gene == gene_id]\n",
    "    m = stats_df[\"mean\"]\n",
    "    v = stats_df[\"variance\"]\n",
    "    sns.scatterplot(m, v, hue=stats_df[\"treatment\"], ax=ax)\n",
    "\n",
    "    lx = np.asarray((0, m.max()))\n",
    "    ly = (lx * mv_fit.slope) + mv_fit.intercept\n",
    "    ax.plot(lx, ly, ls=\":\")\n",
    "\n",
    "    ax.set_xlim(left=0)\n",
    "    ax.set_ylim(bottom=0)\n",
    "    ax.set_xlabel(\"Mean RNA count ($\\mu$)\")\n",
    "    ax.set_ylabel(\"Variance ($\\sigma^2$)\")\n",
    "    return ax\n",
    "\n",
    "\n",
    "_, axes = plt.subplots(nrows=3, ncols=3, constrained_layout=True, figsize=(12, 9))\n",
    "plot_mv_fit(mv_r2_examples_df.iloc[0], axes[0, 0])\n",
    "plot_mv_fit(mv_r2_examples_df.iloc[1], axes[0, 1])\n",
    "plot_mv_fit(mv_r2_examples_df.iloc[2], axes[0, 2])\n",
    "plot_mv_fit(mv_slope_examples_df.iloc[0], axes[1, 0])\n",
    "plot_mv_fit(mv_slope_examples_df.iloc[1], axes[1, 1])\n",
    "plot_mv_fit(mv_slope_examples_df.iloc[2], axes[1, 2])\n",
    "plot_mv_fit(mv_intercept_examples_df.iloc[0], axes[2, 0])\n",
    "plot_mv_fit(mv_intercept_examples_df.iloc[1], axes[2, 1])\n",
    "plot_mv_fit(mv_intercept_examples_df.iloc[2], axes[2, 2])\n",
    "label_subplots(axes.flat, join_infix=\" \")\n",
    "save_figure(\"3\")\n",
    "plt.show()"
   ]
  },
  {
   "cell_type": "code",
   "execution_count": null,
   "metadata": {},
   "outputs": [],
   "source": [
    "mv_additional_genes = additional_genes.to_frame().join(all_treatment_mv_fit)\n",
    "display(mv_additional_genes)\n",
    "\n",
    "ensure_that(np.count_nonzero(mv_additional_genes.index.isin(all_treatment_good_mv_fit.index)) == 2)"
   ]
  },
  {
   "cell_type": "code",
   "execution_count": null,
   "metadata": {},
   "outputs": [],
   "source": [
    "_, axes = plt.subplots(ncols=2, constrained_layout=True, figsize=(8, 3))\n",
    "plot_mv_fit(mv_additional_genes.iloc[0], axes[0])\n",
    "plot_mv_fit(mv_additional_genes.iloc[1], axes[1])\n",
    "save_figure(\"4\")\n",
    "plt.show()"
   ]
  },
  {
   "cell_type": "markdown",
   "metadata": {},
   "source": [
    "## Fitting of bursting parameters"
   ]
  },
  {
   "cell_type": "code",
   "execution_count": null,
   "metadata": {},
   "outputs": [],
   "source": [
    "txburst_df = rp2.data.load_and_recalculate_txburst_results(\"mouse\", condition_columns, \"median\")\n",
    "txburst_df = txburst_df.loc[txburst_df.time_point.isin(time_points)]\n",
    "txburst_df = txburst_df.loc[txburst_df.gene.isin(all_treatment_good_mv_fit.index)]\n",
    "txburst_df = txburst_df.copy()\n",
    "\n",
    "print(\"For the well-fitted genes:\")\n",
    "print(f\"  txburst results are available for {len(txburst_df):,} data points\")\n",
    "print(f\"  Across {txburst_df.gene.nunique():,} genes\")\n",
    "print(f\"  {len(all_treatment_good_mv_fit) - txburst_df.gene.nunique()} genes have no conditions\")\n",
    "\n",
    "ensure_that(len(txburst_df) == 7_804)\n",
    "ensure_that(len(txburst_df[condition_columns].drop_duplicates()) == 20)\n",
    "ensure_that(txburst_df.gene.nunique() == 1_519)\n",
    "#ensure_that(len(all_treatment_good_mv_fit) - txburst_df.gene.nunique() == 32)"
   ]
  },
  {
   "cell_type": "code",
   "execution_count": null,
   "metadata": {},
   "outputs": [],
   "source": [
    "attempted_txburst_df = rp2.data.load_txburst_results(\"mouse\", condition_columns, \"median\")\n",
    "attempted_txburst_df = attempted_txburst_df.loc[attempted_txburst_df.time_point.isin(time_points)]\n",
    "attempted_txburst_df = attempted_txburst_df.loc[attempted_txburst_df.gene.isin(all_treatment_good_mv_fit.index)]\n",
    "\n",
    "failed_txburst_df = attempted_txburst_df.set_index(index_columns)\n",
    "failed_txburst_df = failed_txburst_df.drop(index=txburst_df.set_index(index_columns).index)\n",
    "\n",
    "print(\"For the well-fitted genes:\")\n",
    "print(f\"  txburst inference was attempted for {len(attempted_txburst_df):,} data points\")\n",
    "print(f\"  {len(failed_txburst_df):,} failed\")\n",
    "\n",
    "ensure_that(len(attempted_txburst_df) == 31_020)\n",
    "ensure_that(len(gene_condition_stats_df.loc[gene_condition_stats_df.gene.isin(all_treatment_good_mv_fit.index)]) == 31_020)\n",
    "ensure_that(len(failed_txburst_df) == 23_216)\n",
    "\n",
    "del attempted_txburst_df"
   ]
  },
  {
   "cell_type": "code",
   "execution_count": null,
   "metadata": {},
   "outputs": [],
   "source": [
    "txburst_gene_condition_counts = txburst_df.gene.value_counts()\n",
    "txburst_gene_id_subset = txburst_gene_condition_counts[txburst_gene_condition_counts >= 10]\n",
    "\n",
    "print(f\"{len(txburst_gene_id_subset):,} genes have >= 10 txburst results\")\n",
    "\n",
    "ensure_that(len(txburst_gene_id_subset) == 99)"
   ]
  },
  {
   "cell_type": "code",
   "execution_count": null,
   "metadata": {},
   "outputs": [],
   "source": [
    "data_point_info_df = txburst_df.loc[txburst_df.gene.isin(txburst_gene_id_subset.index)].set_index(index_columns)\n",
    "data_point_info_df = data_point_info_df.join(gene_condition_stats_df.set_index(index_columns)[[\"mean\"]].add_prefix(\"rna_\")).reset_index()\n",
    "data_point_info_df[\"burstiness\"] = data_point_info_df.k_off / data_point_info_df.k_on\n",
    "data_point_info_df[\"log_burstiness\"] = np.log10(data_point_info_df.burstiness)\n",
    "\n",
    "analysis_mv_fit_df = all_treatment_good_mv_fit.loc[txburst_gene_id_subset.index]\n",
    "\n",
    "print(f\"{len(data_point_info_df):,} data points are available\")\n",
    "\n",
    "ensure_that(data_point_info_df.gene.nunique() == 99)\n",
    "ensure_that(len(analysis_mv_fit_df) == 99)\n",
    "ensure_that(len(data_point_info_df) == 1_343)"
   ]
  },
  {
   "cell_type": "code",
   "execution_count": null,
   "metadata": {},
   "outputs": [],
   "source": [
    "def plot_mv_fit_slope_hist(ax=None):\n",
    "    ax = ax or plt.subplots()[1]\n",
    "    sns.distplot(np.log10(analysis_mv_fit_df.slope), bins=20, kde=False, ax=ax)\n",
    "    ax.set_xlabel(\"Slope (log$_{10}$)\")\n",
    "    ax.set_ylabel(\"Number of genes\")\n",
    "    ax.yaxis.set_major_locator(plt.MaxNLocator(integer=True))\n",
    "    return ax\n",
    "\n",
    "\n",
    "plot_mv_fit_slope_hist()\n",
    "plt.show()"
   ]
  },
  {
   "cell_type": "markdown",
   "metadata": {},
   "source": [
    "### Plot inferred kinetic parameters"
   ]
  },
  {
   "cell_type": "code",
   "execution_count": null,
   "metadata": {},
   "outputs": [],
   "source": [
    "def plot_ksyn_hist(ax=None):\n",
    "    ax = ax or plt.subplots()[1]\n",
    "    sns.distplot(np.log10(data_point_info_df.k_syn), bins=20, kde=False, ax=ax)\n",
    "    ax.set_xlabel(\"$k_s$ (log$_{10}$)\")\n",
    "    ax.set_ylabel(\"Number of data points\")\n",
    "    return ax\n",
    "\n",
    "\n",
    "plot_ksyn_hist()\n",
    "plt.show()"
   ]
  },
  {
   "cell_type": "code",
   "execution_count": null,
   "metadata": {},
   "outputs": [],
   "source": [
    "def plot_koff_kon_scatter(ax=None):\n",
    "    ax = ax or plt.subplots()[1]\n",
    "    sns.scatterplot(np.log10(data_point_info_df.k_off), np.log10(data_point_info_df.k_on), ax=ax)\n",
    "    ax.plot((-2, 1.5), (-2, 1.5), ls=\"--\", label=\"$k_{on}=k_{off}$\")\n",
    "    ax.set_xlabel(\"$k_{off}$ (log$_{10}$)\")\n",
    "    ax.set_ylabel(\"$k_{on}$ (log$_{10}$)\")\n",
    "    ax.legend(loc=\"upper left\")\n",
    "    return ax\n",
    "\n",
    "\n",
    "plot_koff_kon_scatter()\n",
    "plt.show()"
   ]
  },
  {
   "cell_type": "markdown",
   "metadata": {},
   "source": [
    "#### QUESTION: are $k_{on}<k_{off}$ cases expected?\n",
    "\n",
    "#### QUESTION: are the $k_{off}$ values being clipped at 1,000?\n",
    "\n",
    "I believe the txburst optimisation is limited to a parameter search space of [0, 1000]. However, this doesn't appear to be affecting too many points:"
   ]
  },
  {
   "cell_type": "code",
   "execution_count": null,
   "metadata": {},
   "outputs": [],
   "source": [
    "data_point_info_df.k_off.sort_values().reset_index(drop=True).plot.line()\n",
    "plt.show()"
   ]
  },
  {
   "cell_type": "code",
   "execution_count": null,
   "metadata": {},
   "outputs": [],
   "source": [
    "def plot_burstiness_hist(ax=None):\n",
    "    ax = ax or plt.subplots()[1]\n",
    "    sns.distplot(np.log10(data_point_info_df[\"burstiness\"]), bins=20, kde=False, ax=ax)\n",
    "    ax.set_xlabel(\"Burstiness (log$_{10}$)\")\n",
    "    ax.set_ylabel(\"Number of data points\")\n",
    "    return ax\n",
    "\n",
    "\n",
    "plot_burstiness_hist()\n",
    "plt.show()"
   ]
  },
  {
   "cell_type": "code",
   "execution_count": null,
   "metadata": {},
   "outputs": [],
   "source": [
    "_, axes = plt.subplots(ncols=3, constrained_layout=True, figsize=(12, 4))\n",
    "plot_ksyn_hist(axes[0])\n",
    "plot_koff_kon_scatter(axes[1])\n",
    "plot_burstiness_hist(axes[2])\n",
    "label_subplots(axes)\n",
    "save_figure(\"5\")\n",
    "plt.show()"
   ]
  },
  {
   "cell_type": "markdown",
   "metadata": {},
   "source": [
    "#### Plot example fits"
   ]
  },
  {
   "cell_type": "code",
   "execution_count": null,
   "metadata": {},
   "outputs": [],
   "source": [
    "def get_condition_subset(df, replicate, treatment, time_point):\n",
    "    df = df.loc[df.replicate == replicate]\n",
    "    df = df.loc[df.treatment == treatment]\n",
    "    df = df.loc[df.time_point == time_point]\n",
    "    return df\n",
    "\n",
    "\n",
    "def format_k_param(value):\n",
    "    fmt = \"{:.2f}\" if value < 5 else \"{:.0f}\"\n",
    "    return fmt.format(value)\n",
    "\n",
    "\n",
    "def plot_txburst_fit_from_series(tx_series, ax=None):\n",
    "    ax = ax or plt.subplots()[1]\n",
    "\n",
    "    gene_id, replicate, treatment, time_point = tx_series[[\"gene\", \"replicate\", \"treatment\", \"time_point\"]]\n",
    "\n",
    "    obs_subset = get_condition_subset(mouse_counts_adata.obs, replicate, treatment, time_point)\n",
    "    adata = mouse_counts_adata[obs_subset.index, gene_id]\n",
    "    counts = adata.X.A.squeeze()\n",
    "\n",
    "    bin_values, bin_edges, _ =  ax.hist(counts, bins=50)\n",
    "    hist_area = np.sum(np.diff(bin_edges) * bin_values)\n",
    "\n",
    "    k_on, k_off, k_syn = tx_series[[\"k_on\", \"k_off\", \"k_syn\"]]\n",
    "\n",
    "    max_count = np.max(counts)\n",
    "    pmf_in = np.arange(max_count)\n",
    "    with warnings.catch_warnings():\n",
    "        warnings.simplefilter(\"ignore\")\n",
    "        pmf_out = rp2.txburst.poisson_beta_pmf(pmf_in, k_on, k_off, k_syn)\n",
    "    ax.plot(pmf_in + np.mean(bin_edges[:2]), hist_area * pmf_out, ls=\"--\", lw=2)\n",
    "\n",
    "    gene_symbol = gene_info_df.symbol[gene_id]\n",
    "    gene_info_str = f\"$\\it{{{gene_symbol}}}$: Individual {replicate}, {treatment.upper()}, {time_point}h\"\n",
    "    param_info_str = f\"$k_{{on}}={format_k_param(k_on)}$, $k_{{off}}={format_k_param(k_off)}$, $k_s={format_k_param(k_syn)}$\"\n",
    "    ax.set_title(f\"{gene_info_str}\\n{param_info_str}\")\n",
    "\n",
    "    ax.set_xlabel(\"RNA count\")\n",
    "    ax.set_ylabel(\"Number of cells\")\n",
    "    return ax\n",
    "\n",
    "\n",
    "def plot_txburst_fit(gene_id, replicate, treatment, time_point, ax=None):\n",
    "    data_point_subset = get_condition_subset(data_point_info_df, replicate, treatment, time_point)\n",
    "    data_point_subset = data_point_subset.loc[data_point_subset.gene == gene_id]\n",
    "    return plot_txburst_fit_from_series(data_point_subset.squeeze(), ax=ax)\n",
    "\n",
    "\n",
    "_, axes = plt.subplots(ncols=2, constrained_layout=True, figsize=(10, 3))\n",
    "for gene_id, ax in zip(additional_genes.index, axes):\n",
    "    plot_txburst_fit(gene_id, \"3\", \"lps\", \"6\", ax=ax)\n",
    "label_subplots(axes, join_infix=\" \")\n",
    "save_figure(\"6\")\n",
    "plt.show()"
   ]
  },
  {
   "cell_type": "markdown",
   "metadata": {},
   "source": [
    "#### QUESTION: can we find a bad k-terms fit?"
   ]
  },
  {
   "cell_type": "code",
   "execution_count": null,
   "metadata": {},
   "outputs": [],
   "source": [
    "bad_txburst_fit = failed_txburst_df.join(gene_condition_stats_df.set_index(index_columns)[\"mean\"].rename(\"rna_mean\")).sort_values(\"rna_mean\").reset_index().iloc[-1]\n",
    "\n",
    "plot_txburst_fit_from_series(bad_txburst_fit)\n",
    "plt.show()"
   ]
  },
  {
   "cell_type": "markdown",
   "metadata": {},
   "source": [
    "#### Plot calculated bursting parameters"
   ]
  },
  {
   "cell_type": "code",
   "execution_count": null,
   "metadata": {},
   "outputs": [],
   "source": [
    "def plot_bs_bf_scatter(ax=None):\n",
    "    ax = ax or plt.subplots()[1]\n",
    "    gene_labels = data_point_info_df.join(additional_genes.rename(\"Gene\"), on=\"gene\").Gene.fillna(\"\")\n",
    "    sns.scatterplot(\n",
    "        np.log10(data_point_info_df.bs_point),\n",
    "        np.log10(data_point_info_df.bf_point),\n",
    "        hue=gene_labels,\n",
    "        hue_order=gene_labels.sort_values().unique(),\n",
    "        s=20,\n",
    "        ax=ax,\n",
    "    )\n",
    "    ax.set_xlabel(\"Burst size (log$_{10}$)\")\n",
    "    ax.set_ylabel(\"Burst frequency (log$_{10}$)\")\n",
    "    return ax\n",
    "\n",
    "\n",
    "def plot_bs_hist(ax):\n",
    "    ax = ax or plt.subplots()[1]\n",
    "    sns.distplot(np.log10(data_point_info_df.bs_point), bins=50, kde=False, ax=ax)\n",
    "\n",
    "    ax.set_xlabel(\"Burst size (log$_{10}$)\")\n",
    "    ax.set_ylabel(\"Number of data points\")\n",
    "    return ax\n",
    "\n",
    "\n",
    "def plot_bf_hist(ax):\n",
    "    ax = ax or plt.subplots()[1]\n",
    "    sns.distplot(np.log10(data_point_info_df.bf_point), bins=50, kde=False, ax=ax)\n",
    "    ax.set_xlabel(\"Burst frequency (log$_{10}$)\")\n",
    "    ax.set_ylabel(\"Number of data points\")\n",
    "    return ax\n",
    "\n",
    "\n",
    "def plot_bp_fig():\n",
    "    fig = plt.figure(constrained_layout=True, figsize=(12, 8))\n",
    "    gs = fig.add_gridspec(2, 3)\n",
    "    ax_a = fig.add_subplot(gs[0:2, 0:2])\n",
    "    ax_b = fig.add_subplot(gs[0, 2])\n",
    "    ax_c = fig.add_subplot(gs[1, 2])\n",
    "    plot_bs_bf_scatter(ax_a)\n",
    "    plot_bs_hist(ax_b)\n",
    "    plot_bf_hist(ax_c)\n",
    "    label_subplots([ax_a, ax_b, ax_c])\n",
    "\n",
    "\n",
    "plot_bp_fig()\n",
    "save_figure(\"7\")\n",
    "plt.show()"
   ]
  },
  {
   "cell_type": "markdown",
   "metadata": {},
   "source": [
    "#### QUESTION: are points in the lower right quadrant of interest?"
   ]
  },
  {
   "cell_type": "code",
   "execution_count": null,
   "metadata": {},
   "outputs": [],
   "source": [
    "display(data_point_info_df.loc[(np.log10(data_point_info_df.bs_point) > 1) & (np.log10(data_point_info_df.bf_point) < -1.5)].set_index(\"gene\").join(gene_info_df.symbol).reset_index())"
   ]
  },
  {
   "cell_type": "code",
   "execution_count": null,
   "metadata": {},
   "outputs": [],
   "source": [
    "def plot_conditions_per_gene(ax=None):\n",
    "    ax = ax or plt.subplots()[1]\n",
    "    counts = txburst_gene_condition_counts.value_counts().sort_index()\n",
    "    sns.barplot(x=counts.index, y=counts.values, ax=ax)\n",
    "    ax.set_xlabel(\"Number of conditions\")\n",
    "    ax.set_ylabel(\"Number of genes\")\n",
    "    return ax\n",
    "\n",
    "\n",
    "_, axes = plt.subplots(ncols=2, constrained_layout=True, figsize=(10, 3), gridspec_kw={'width_ratios': [4, 3]})\n",
    "plot_conditions_per_gene(axes[0])\n",
    "plot_mv_fit_slope_hist(axes[1])\n",
    "label_subplots(axes)\n",
    "save_figure(\"8\")\n",
    "plt.show()"
   ]
  },
  {
   "cell_type": "markdown",
   "metadata": {},
   "source": [
    "## Bursting parameter trends"
   ]
  },
  {
   "cell_type": "markdown",
   "metadata": {},
   "source": [
    "### Trends based on Spearman rank correlation"
   ]
  },
  {
   "cell_type": "code",
   "execution_count": null,
   "metadata": {},
   "outputs": [],
   "source": [
    "bp_trends_spearman_alpha = 0.05"
   ]
  },
  {
   "cell_type": "code",
   "execution_count": null,
   "metadata": {},
   "outputs": [],
   "source": [
    "def calculate_spearman_r(df, x_var, y_var):\n",
    "    sp_corr = stats.spearmanr(df[x_var], df[y_var])\n",
    "    return pd.Series(data={\"r\": sp_corr.correlation, \"r_pval\": sp_corr.pvalue})\n",
    "\n",
    "\n",
    "bp_spearman_df_map = {c: data_point_info_df.groupby(\"gene\").apply(calculate_spearman_r, \"rna_mean\", c)\n",
    "                      for c in [\"bs_point\", \"bf_point\", \"log_burstiness\"]}"
   ]
  },
  {
   "cell_type": "code",
   "execution_count": null,
   "metadata": {},
   "outputs": [],
   "source": [
    "def concat_bp_df_map(df_map):\n",
    "    return pd.concat(df_map.values(), keys=df_map.keys(), names=[\"param\"])\n",
    "\n",
    "\n",
    "def determine_spearman_trends(df, pval):\n",
    "    trend_df = pd.DataFrame(index=df.index, data={\"possible\": \"constant\"})\n",
    "    trend_df.loc[df.r < 0, \"possible\"] = \"decreasing\"\n",
    "    trend_df.loc[df.r > 0, \"possible\"] = \"increasing\"\n",
    "    trend_df[\"accept_r\"] = df.r_pval < pval\n",
    "    trend_df[\"trend\"] = trend_df.possible.where(trend_df.accept_r, \"uncertain\")\n",
    "    return trend_df\n",
    "\n",
    "\n",
    "def determine_and_display_spearman_trends(pval):\n",
    "    concat_df = concat_bp_df_map(bp_spearman_df_map)\n",
    "    trend_df = determine_spearman_trends(concat_df, pval)\n",
    "    counts = trend_df.groupby(\"param\").trend.value_counts().sort_index(level=0).rename(\"count\")\n",
    "\n",
    "    plot_output = widgets.Output()\n",
    "    with plot_output:\n",
    "        sns.barplot(x=\"param\", y=\"count\", hue=\"trend\", data=counts.to_frame().reset_index(), hue_order=[\"decreasing\", \"increasing\", \"uncertain\"])\n",
    "        plt.show()\n",
    "\n",
    "    info_output = widgets.Output()\n",
    "    with info_output:\n",
    "        display(counts)\n",
    "\n",
    "    display(widgets.HBox([plot_output, info_output]))\n",
    "\n",
    "\n",
    "widgets.interactive(\n",
    "    determine_and_display_spearman_trends,\n",
    "    pval=widgets.BoundedFloatText(value=bp_trends_spearman_alpha, min=0, max=1, step=0.01),\n",
    ")"
   ]
  },
  {
   "cell_type": "code",
   "execution_count": null,
   "metadata": {},
   "outputs": [],
   "source": [
    "ensure_that(bp_trends_spearman_alpha == 0.05)\n",
    "\n",
    "bp_spearman_trends_df = determine_spearman_trends(concat_bp_df_map(bp_spearman_df_map), bp_trends_spearman_alpha)\n",
    "print(\"Trends based on Spearman rank correlation:\")\n",
    "display(bp_spearman_trends_df.groupby(\"param\").trend.value_counts().sort_index(level=0))"
   ]
  },
  {
   "cell_type": "markdown",
   "metadata": {},
   "source": [
    "### Trends based on curve fitting"
   ]
  },
  {
   "cell_type": "code",
   "execution_count": null,
   "metadata": {},
   "outputs": [],
   "source": [
    "bp_trends_curve_r2_min = 0.4"
   ]
  },
  {
   "cell_type": "code",
   "execution_count": null,
   "metadata": {},
   "outputs": [],
   "source": [
    "def fit_bp_curve(df, y_var):\n",
    "    x_var = \"rna_mean\"\n",
    "    results = rp2.regression.calculate_curve_fit(df, x_var, y_var, loss_function=\"huber\", f_scale=1.0)\n",
    "    a, b, c = results[\"a\"], results[\"b\"], results[\"c\"]\n",
    "    if a is np.nan:\n",
    "        return None\n",
    "    results[\"start\"], results[\"end\"] = rp2.regression.power_function((df[x_var].min(), df[x_var].max()), a, b, c)\n",
    "    return pd.Series(data=results)\n",
    "\n",
    "\n",
    "bp_curve_df_map = {c: data_point_info_df.groupby(\"gene\").apply(fit_bp_curve, c)\n",
    "                  for c in [\"bs_point\", \"bf_point\", \"log_burstiness\"]}"
   ]
  },
  {
   "cell_type": "code",
   "execution_count": null,
   "metadata": {},
   "outputs": [],
   "source": [
    "def determine_bp_curve_trends(df, r2):\n",
    "    trend_df = pd.DataFrame(index=df.index, data={\"trend\": \"uncertain\"})\n",
    "    trend_df[\"accept_r2\"] = df.r2 > r2\n",
    "    trend_df.loc[trend_df.accept_r2 & (df[\"start\"] < df[\"end\"]), \"trend\"] = \"increasing\"\n",
    "    trend_df.loc[trend_df.accept_r2 & (df[\"start\"] > df[\"end\"]), \"trend\"] = \"decreasing\"\n",
    "    trend_df.loc[trend_df.accept_r2 & (df[\"start\"] == df[\"end\"]), \"trend\"] = \"constant\"\n",
    "    return trend_df\n",
    "\n",
    "\n",
    "def determine_and_display_curve_trends(r2):\n",
    "    concat_df = concat_bp_df_map(bp_curve_df_map)\n",
    "    trend_df = determine_bp_curve_trends(concat_df, r2)\n",
    "    counts = trend_df.groupby(\"param\").trend.value_counts().sort_index(level=0).rename(\"count\")\n",
    "\n",
    "    plot_output = widgets.Output()\n",
    "    with plot_output:\n",
    "        sns.barplot(x=\"param\", y=\"count\", hue=\"trend\", data=counts.to_frame().reset_index(), hue_order=[\"decreasing\", \"increasing\", \"uncertain\"])\n",
    "        plt.show()\n",
    "\n",
    "    info_output = widgets.Output()\n",
    "    with info_output:\n",
    "        display(counts)\n",
    "\n",
    "    display(widgets.HBox([plot_output, info_output]))\n",
    "\n",
    "\n",
    "widgets.interactive(\n",
    "    determine_and_display_curve_trends,\n",
    "    r2=widgets.FloatSlider(value=bp_trends_curve_r2_min, min=0, max=1, step=0.05),\n",
    ")"
   ]
  },
  {
   "cell_type": "code",
   "execution_count": null,
   "metadata": {},
   "outputs": [],
   "source": [
    "ensure_that(bp_trends_curve_r2_min == 0.4)\n",
    "\n",
    "bp_curve_trends_df = determine_bp_curve_trends(concat_bp_df_map(bp_curve_df_map), bp_trends_curve_r2_min)\n",
    "\n",
    "print(\"Trends based on curve-fitting:\")\n",
    "display(bp_curve_trends_df.groupby(\"param\").trend.value_counts().sort_index())"
   ]
  },
  {
   "cell_type": "markdown",
   "metadata": {},
   "source": [
    "### Comparison of trends"
   ]
  },
  {
   "cell_type": "code",
   "execution_count": null,
   "metadata": {},
   "outputs": [],
   "source": [
    "def plot_trend_comparison(param, ax=None, cbar_ax=None):\n",
    "    ax = ax or plt.subplots()[1]\n",
    "\n",
    "    ct = pd.crosstab(\n",
    "        bp_curve_trends_df.loc[param].trend.rename(\"Curve fit\"),\n",
    "        bp_spearman_trends_df.loc[param].trend.rename(\"Spearman correlation\"),\n",
    "        margins=True,\n",
    "    )\n",
    "    ct.index = ct.index.str.title()\n",
    "    ct.columns = ct.columns.str.title()\n",
    "\n",
    "    # Bodge for missing category\n",
    "    if ct.index[0] != \"Decreasing\":\n",
    "        ct = pd.DataFrame([[0] * len(ct.columns)], index=[\"Decreasing\"], columns=ct.columns).append(ct)\n",
    "\n",
    "    show_cbar = cbar_ax is not None\n",
    "    sns.heatmap(\n",
    "        ct,\n",
    "        annot=True,\n",
    "        cbar=show_cbar,\n",
    "        cbar_ax=cbar_ax,\n",
    "        ax=ax,\n",
    "    )\n",
    "\n",
    "    # Workaround for misaligned labels\n",
    "    ax.set_yticklabels(ax.get_yticklabels(), verticalalignment=\"center\")\n",
    "\n",
    "    return ax\n",
    "\n",
    "\n",
    "_, axes = plt.subplots(ncols=4, constrained_layout=True, figsize=(13, 4), gridspec_kw={'width_ratios': [1, 1, 1, 0.1]})\n",
    "plot_trend_comparison(\"bs_point\", axes[0])\n",
    "axes[0].set_title(\"Burst size\")\n",
    "plot_trend_comparison(\"bf_point\", axes[1])\n",
    "axes[1].set_title(\"Burst frequency\")\n",
    "plot_trend_comparison(\"log_burstiness\", axes[2], cbar_ax=axes[3])\n",
    "axes[2].set_title(\"Burstiness (log$_{10}$)\")\n",
    "label_subplots(axes[:-1], join_infix=\"\\n\")\n",
    "save_figure(\"9\")\n",
    "plt.show()"
   ]
  },
  {
   "cell_type": "code",
   "execution_count": null,
   "metadata": {},
   "outputs": [],
   "source": [
    "bp_trends = bp_curve_trends_df.trend.where(bp_curve_trends_df.trend == bp_spearman_trends_df.trend, \"uncertain\")"
   ]
  },
  {
   "cell_type": "code",
   "execution_count": null,
   "metadata": {},
   "outputs": [],
   "source": [
    "def plot_trend_counts():\n",
    "    counts = bp_trends.groupby(\"param\").value_counts().rename(\"count\")\n",
    "    sns.barplot(x=\"param\", y=\"count\", hue=\"trend\", data=counts.to_frame().reset_index(), hue_order=[\"decreasing\", \"increasing\", \"uncertain\"])\n",
    "    plt.show()    \n",
    "\n",
    "\n",
    "plot_trend_counts()"
   ]
  },
  {
   "cell_type": "code",
   "execution_count": null,
   "metadata": {},
   "outputs": [],
   "source": [
    "def make_trend_frequency_table():\n",
    "    columns = [\"bs_point\", \"bf_point\", \"log_burstiness\"]\n",
    "    df = bp_trends.groupby(\"gene\").agg(tuple).value_counts().rename(\"genes\").reset_index()\n",
    "    df[columns] = pd.DataFrame(df.iloc[:, 0].to_list())\n",
    "    return df.loc[:, columns + [\"genes\"]].sort_values(by=[\"genes\"] + columns, ascending=[False] + ([True] * len(columns)))\n",
    "\n",
    "\n",
    "trend_frequency_df = make_trend_frequency_table()\n",
    "display(trend_frequency_df)\n",
    "\n",
    "save_table(trend_frequency_df, \"1\")"
   ]
  },
  {
   "cell_type": "code",
   "execution_count": null,
   "metadata": {},
   "outputs": [],
   "source": [
    "def determine_bs_prediction_trends(df):\n",
    "    trend_df = pd.DataFrame(index=df.index, data={\"trend\": \"uncertain\"})\n",
    "    trend_df[df.intercept > 0] = \"decreasing\"\n",
    "    trend_df[df.intercept < 0] = \"increasing\"\n",
    "    trend_df[\"confident\"] = df.accept_intercept\n",
    "    return trend_df\n",
    "\n",
    "\n",
    "def plot_bs_trends_contingency(ax=None):\n",
    "    ax = ax or plt.subplots()[1]\n",
    "    pred_trends_df = determine_bs_prediction_trends(analysis_mv_fit_df)\n",
    "    pred_trends_df.loc[~pred_trends_df.confident] = \"uncertain\"\n",
    "    ct = pd.crosstab(\n",
    "        bp_trends.loc[\"bs_point\"].rename(\"Established\"),\n",
    "        pred_trends_df.trend.rename(\"Predicted burst size ($b_p$)\"),\n",
    "        margins=True,\n",
    "    )\n",
    "    ct.index = ct.index.str.title()\n",
    "    ct.columns = ct.columns.str.title()\n",
    "\n",
    "    sns.heatmap(ct, annot=True, ax=ax)\n",
    "    ax.set_yticklabels(ax.get_yticklabels(), verticalalignment=\"center\")\n",
    "\n",
    "    return ax\n",
    "\n",
    "\n",
    "_, ax = plt.subplots(figsize=(5, 4))\n",
    "plot_bs_trends_contingency(ax)\n",
    "save_figure(\"10\")\n",
    "plt.show()"
   ]
  },
  {
   "cell_type": "code",
   "execution_count": null,
   "metadata": {},
   "outputs": [],
   "source": [
    "def estimate_gene_burstiness(gene_df):\n",
    "    q_map = {\n",
    "        \"increasing\": 0.9,\n",
    "        \"decreasing\": 0.1,\n",
    "        \"uncertain\": 0.5,\n",
    "    }\n",
    "    trend_df = bp_spearman_trends_df.loc[\"log_burstiness\"]\n",
    "    trend = trend_df.loc[gene_df.name, \"trend\"]\n",
    "    q = q_map[trend]\n",
    "    return gene_df.burstiness.quantile(q)\n",
    "\n",
    "\n",
    "gene_burstiness_estimates = data_point_info_df.groupby(\"gene\").apply(estimate_gene_burstiness)\n",
    "\n",
    "\n",
    "def plot_burstiness_estimate(gene_id, y_scale):\n",
    "    gene_data_point_info = data_point_info_df.loc[data_point_info_df.gene == gene_id]\n",
    "    display(bp_spearman_df_map[\"log_burstiness\"].join(bp_spearman_trends_df.loc[[(\"log_burstiness\", gene_id)]]))\n",
    "    estimate = gene_burstiness_estimates.loc[gene_id]\n",
    "    sns.scatterplot(\"rna_mean\", \"burstiness\", data=gene_data_point_info)\n",
    "    plt.axhline(y=estimate, ls=\":\")\n",
    "    plt.yscale(y_scale)\n",
    "    plt.show()\n",
    "\n",
    "\n",
    "widgets.interactive(\n",
    "    plot_burstiness_estimate,\n",
    "    gene_id=make_gene_selector(gene_info_df.symbol[gene_burstiness_estimates.index]),\n",
    "    y_scale=widgets.RadioButtons(options=[\"linear\", \"log\"]),\n",
    ")"
   ]
  },
  {
   "cell_type": "markdown",
   "metadata": {},
   "source": [
    "## Relationship between burst size and mean-variance gradient of RNA response\n",
    "\n",
    "For a mean-variance trend $\\sigma^2=\\alpha\\mu+\\sigma_0$, the predicted burst size (in the bursty limit) is:\n",
    "$$b_p=\\left(\\alpha -1\\right)+\\frac{\\sigma _0}{\\mu }$$\n",
    "This expression is constant when $\\sigma_0=0$ and strictly monotonic for $\\alpha>0$ otherwise: increasing when $\\sigma_0<0$ and decreasing when $\\sigma_0>0$. It may be generalised to a power-law curve with the exponent fixed at -1. In all cases the function approaches $\\alpha-1$ as $\\mu\\to\\infty$"
   ]
  },
  {
   "cell_type": "code",
   "execution_count": null,
   "metadata": {},
   "outputs": [],
   "source": [
    "def predict_bf_and_bs(rna_mean, slope, intercept):\n",
    "    bs = (slope - 1) + (intercept / rna_mean)\n",
    "    bf = rna_mean / bs\n",
    "    return bf, bs\n",
    "\n",
    "\n",
    "def calculate_bp_prediction_df(df, mv_df, force_zero_intercepts=False):\n",
    "    if force_zero_intercepts:\n",
    "        mv_df = mv_df.copy()\n",
    "        mv_df.loc[~mv_df.accept_intercept, \"intercept\"] = 0\n",
    "\n",
    "    gene_id = df.gene\n",
    "    df = df.set_index(index_columns)\n",
    "\n",
    "    slope, intercept = mv_df.loc[gene_id, [\"slope\", \"intercept\"]].to_numpy().T\n",
    "    bf, bs = predict_bf_and_bs(df.rna_mean, slope, intercept)\n",
    "    return pd.DataFrame(index=df.index, data={\"bf\": bf, \"bs\": bs})\n",
    "\n",
    "\n",
    "predicted_bp_df = calculate_bp_prediction_df(data_point_info_df, analysis_mv_fit_df, force_zero_intercepts=True)"
   ]
  },
  {
   "cell_type": "code",
   "execution_count": null,
   "metadata": {},
   "outputs": [],
   "source": [
    "bs_trend_df = bp_curve_trends_df.loc[\"bs_point\"].add_prefix(\"curve_\").join(determine_bs_prediction_trends(analysis_mv_fit_df).add_prefix(\"pred_\"))\n",
    "mismatched_bs_trend_df = bs_trend_df.loc[bs_trend_df.curve_trend != bs_trend_df.pred_trend]\n",
    "\n",
    "print(f\"The trends of {len(mismatched_bs_trend_df):,} genes do not match (fit versus predicted)\")"
   ]
  },
  {
   "cell_type": "code",
   "execution_count": null,
   "metadata": {},
   "outputs": [],
   "source": [
    "def plot_bs_prediction(gene_id):\n",
    "    data_point_info_subset = data_point_info_df.loc[data_point_info_df.gene == gene_id]\n",
    "    lx = np.linspace(data_point_info_subset.rna_mean.min(), data_point_info_subset.rna_mean.max())\n",
    "\n",
    "    slope, intercept = analysis_mv_fit_df.loc[gene_id, [\"slope\", \"intercept\"]]\n",
    "    _, py = predict_bf_and_bs(lx, slope, intercept)\n",
    "\n",
    "    a, b, c = bp_curve_df_map[\"bs_point\"].loc[gene_id, [\"a\", \"b\", \"c\"]]\n",
    "    cy = rp2.regression.power_function(lx, a, b, c)\n",
    "\n",
    "    sns.scatterplot(data_point_info_subset.rna_mean, data_point_info_subset.bs_point)\n",
    "    plt.plot(lx, py, ls=\":\", label=\"Predicted\")\n",
    "    plt.plot(lx, cy, ls=\"--\", label=\"Fit curve\")\n",
    "    plt.xlim(left=0)\n",
    "    plt.ylim(bottom=0, top=data_point_info_subset.bs_point.max())\n",
    "    plt.legend(loc=\"upper left\", bbox_to_anchor=(1, 1))\n",
    "    plt.show()\n",
    "\n",
    "\n",
    "widgets.interactive(\n",
    "    plot_bs_prediction,\n",
    "    gene_id=make_gene_selector(gene_info_df.symbol[mismatched_bs_trend_df.index]),\n",
    ")"
   ]
  },
  {
   "cell_type": "code",
   "execution_count": null,
   "metadata": {},
   "outputs": [],
   "source": [
    "def plot_bs_limits_scatter(df, ax):\n",
    "    x = np.log10(df.pred_bs)\n",
    "    y = np.log10(df.curve_bs)\n",
    "    l_min = np.max((x.min(), y.min()))\n",
    "    l_max = np.min((x.max(), y.max()))\n",
    "    ax.scatter(x, y, c=np.log10(df.burstiness))\n",
    "    ax.plot((l_min, l_max), (l_min, l_max), \":\")\n",
    "    ax.set_xlabel(\"Predicted burst size limit (log$_{10}$)\")\n",
    "    ax.set_ylabel(\"Curve fit burst size limit (log$_{10}$)\")\n",
    "    plt.colorbar(ax.collections[0], ax=ax)\n",
    "    return ax\n",
    "\n",
    "\n",
    "bp_trend_limits_df = data_point_info_df.set_index(index_columns).join(predicted_bp_df.add_prefix(\"pred_\")).reset_index()\n",
    "bp_trend_limits_df = bp_trend_limits_df.sort_values(by=[\"gene\", \"rna_mean\"])\n",
    "bp_trend_limits_df = bp_trend_limits_df.loc[~bp_trend_limits_df.gene.duplicated(keep=\"last\")]\n",
    "bp_trend_limits_df = bp_trend_limits_df.set_index(\"gene\")[[\"rna_mean\", \"pred_bf\", \"pred_bs\"]]\n",
    "bp_trend_limits_df = bp_trend_limits_df.join(bp_curve_df_map[\"bf_point\"][\"end\"].rename(\"curve_bf\"))\n",
    "bp_trend_limits_df = bp_trend_limits_df.join(bp_curve_df_map[\"bs_point\"][\"end\"].rename(\"curve_bs\"))\n",
    "bp_trend_limits_df = bp_trend_limits_df.join(gene_burstiness_estimates.rename(\"burstiness\"))\n",
    "\n",
    "fig, axes = plt.subplots(ncols=2, constrained_layout=True, figsize=(9, 4))\n",
    "plot_bs_limits_scatter(bp_trend_limits_df, axes[0])\n",
    "plot_bs_limits_scatter(bp_trend_limits_df.sort_values(by=\"burstiness\").iloc[-50:], axes[1])\n",
    "label_subplots(axes)\n",
    "plt.show()"
   ]
  },
  {
   "cell_type": "markdown",
   "metadata": {},
   "source": [
    "Sq. relative change (of burst size) is $\\left(\\frac{b_k-b_p}{b_p}\\right)^2$, where $b_p$ is the predicted size."
   ]
  },
  {
   "cell_type": "code",
   "execution_count": null,
   "metadata": {},
   "outputs": [],
   "source": [
    "def plot_burstiness_bs_diff_scatter(ax=None):\n",
    "    ax = ax or plt.subplots()[1]\n",
    "    df = data_point_info_df.set_index(index_columns).join(predicted_bp_df.add_suffix(\"_pred\"))\n",
    "    bs_diff = df.bs_point - df.bs_pred\n",
    "    bs_diff /= df.bs_pred\n",
    "    bs_diff **= 2\n",
    "    bs_diff = np.log10(bs_diff + 1)\n",
    "    sns.scatterplot(np.log10(df.burstiness), bs_diff, ax=ax)\n",
    "    ax.axhline(y=0, ls=\":\", label=\"\")\n",
    "    ax.set_xlabel(\"Burstiness (log$_{10}$)\")\n",
    "    ax.set_ylabel(r\"Sq. relative change (log$_{10}$)\")\n",
    "    return ax\n",
    "\n",
    "\n",
    "plot_burstiness_bs_diff_scatter()\n",
    "plt.show()"
   ]
  },
  {
   "cell_type": "code",
   "execution_count": null,
   "metadata": {},
   "outputs": [],
   "source": [
    "def plot_mean_bp_scatter(gene_id):\n",
    "    gene_df = data_point_info_df.set_index(index_columns).join(predicted_bp_df.add_suffix(\"_predicted\")).reset_index()\n",
    "    gene_df = gene_df.loc[gene_df.gene == gene_id]\n",
    "\n",
    "    gene_mv_row = analysis_mv_fit_df.loc[gene_id]\n",
    "    display(gene_mv_row.to_frame().T)\n",
    "\n",
    "    rna_mean = gene_df.rna_mean\n",
    "    cx = np.linspace(rna_mean.min(), rna_mean.max())\n",
    "    intercept = gene_mv_row.intercept if gene_mv_row.accept_intercept else 0\n",
    "    bf, bs = predict_bf_and_bs(cx, gene_mv_row.slope, intercept)\n",
    "    cy_map = {\"bf\": bf, \"bs\": bs}\n",
    "\n",
    "    _, axes = plt.subplots(ncols=2, constrained_layout=True, figsize=(10, 4))\n",
    "    for p, ax in zip([\"bs\", \"bf\"], axes):\n",
    "        y_tx = gene_df[f\"{p}_point\"]\n",
    "        y_pred = gene_df[f\"{p}_predicted\"]\n",
    "        r2 = metrics.r2_score(y_tx, y_pred)\n",
    "\n",
    "        ax.scatter(rna_mean, y_tx, marker=\"o\", label=\"inferred\")\n",
    "        ax.scatter(rna_mean, y_pred, marker=\"x\", label=\"predicted\")\n",
    "\n",
    "        ax.plot(cx, cy_map[p], ls=\":\")\n",
    "\n",
    "        ax.set_title(f\"$R^2$ = {r2:.2f} (data versus prediction)\")\n",
    "        ax.set_xlabel(\"RNA mean\")\n",
    "        ax.set_ylabel(p)\n",
    "        ax.set_xlim(left=0)\n",
    "    plt.legend(loc=\"upper left\", bbox_to_anchor=(1, 1))\n",
    "    plt.show()\n",
    "\n",
    "\n",
    "widgets.interactive(\n",
    "    plot_mean_bp_scatter,\n",
    "    gene_id=make_gene_selector(gene_info_df.symbol[data_point_info_df.gene.unique()]),\n",
    ")"
   ]
  },
  {
   "cell_type": "markdown",
   "metadata": {},
   "source": [
    "## Modulation of burst size and frequency\n",
    "\n",
    "TODO"
   ]
  },
  {
   "cell_type": "code",
   "execution_count": null,
   "metadata": {},
   "outputs": [],
   "source": []
  },
  {
   "cell_type": "markdown",
   "metadata": {},
   "source": [
    "## Relationship between burst size and frequency"
   ]
  },
  {
   "cell_type": "code",
   "execution_count": null,
   "metadata": {},
   "outputs": [],
   "source": [
    "def plot_bs_bf_reciprocal_scatter(ax=None, x_max=None):\n",
    "    ax = ax or plt.subplots()[1]\n",
    "    bs = data_point_info_df.bs_point\n",
    "    bf = data_point_info_df.bf_point / data_point_info_df.rna_mean\n",
    "    lx = np.linspace(bs.min(), bs.max(), 1000)\n",
    "    ly = 1 / lx\n",
    "    sns.scatterplot(bs, bf, ax=ax)\n",
    "    ax.plot(lx, ly, ls=\"--\")\n",
    "    ax.set_xlabel(\"Burst size\")\n",
    "    ax.set_ylabel(\"Burst frequency / $\\mu$\")\n",
    "    if x_max is not None:\n",
    "        ax.set_xlim(left=-10, right=x_max)\n",
    "    return ax\n",
    "\n",
    "\n",
    "def plot_bs_bf_reciprocal_scatter_line(ax=None):\n",
    "    ax = ax or plt.subplots()[1]\n",
    "    bs = 1 / data_point_info_df.bs_point\n",
    "    bf = data_point_info_df.bf_point / data_point_info_df.rna_mean\n",
    "    sns.scatterplot(bs, bf, ax=ax)\n",
    "    ax.plot((0, 1), (0, 1), ls=\"--\")\n",
    "    ax.set_xlabel(\"1 / burst size\")\n",
    "    ax.set_ylabel(\"Burst frequency / $\\mu$\")\n",
    "    return ax\n",
    "\n",
    "\n",
    "_, axes = plt.subplots(ncols=3, constrained_layout=True, figsize=(12, 4))\n",
    "plot_bs_bf_reciprocal_scatter(axes[0])\n",
    "plot_bs_bf_reciprocal_scatter(axes[1], x_max=150)\n",
    "plot_bs_bf_reciprocal_scatter_line(axes[2])\n",
    "label_subplots(axes)\n",
    "plt.show()"
   ]
  }
 ],
 "metadata": {
  "jupytext": {
   "formats": "ipynb,.ipynb.py:percent"
  },
  "kernelspec": {
   "display_name": "Python 3",
   "language": "python",
   "name": "python3"
  },
  "language_info": {
   "codemirror_mode": {
    "name": "ipython",
    "version": 3
   },
   "file_extension": ".py",
   "mimetype": "text/x-python",
   "name": "python",
   "nbconvert_exporter": "python",
   "pygments_lexer": "ipython3",
   "version": "3.8.2"
  }
 },
 "nbformat": 4,
 "nbformat_minor": 4
}
