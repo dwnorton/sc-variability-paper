{
 "cells": [
  {
   "cell_type": "code",
   "execution_count": null,
   "metadata": {},
   "outputs": [],
   "source": [
    "import ipywidgets as widgets\n",
    "import matplotlib.pyplot as plt\n",
    "import numpy as np\n",
    "import scanpy\n",
    "\n",
    "from sklearn.utils import sparsefuncs\n",
    "\n",
    "import rp2\n",
    "from rp2 import hagai_2018\n",
    "\n",
    "rp2.check_environment()"
   ]
  },
  {
   "cell_type": "markdown",
   "metadata": {},
   "source": [
    "The UMI count matrix used in this notebook is associated with Hagai *et al.* (2018) and sourced from [ArrayExpress](https://www.ebi.ac.uk/arrayexpress/experiments/E-MTAB-6754/). The counts are for bone marrow-derived mononuclear phagocytes acquired and QCed as described in the following excerpt.\n",
    "\n",
    "> #### Quantifying gene expression in microfluidic droplet cell capture data\n",
    "> Microfluidic droplet cell capture data was first quantified using 10x Genomics' Cell Ranger Single-Cell Software Suite (version 2.0, 10× Genomics Inc.)<sup>77</sup> against the relevant genome (ENSEMBL, version 84). We removed cells with fewer than 200 genes or more than 10% mitochondrial reads. To remove potential doublets, we excluded the top 10% of cells expressing the highest numbers of genes. Genes expressed in less than 0.5% of the cells were excluded from the calculations. We then filtered cells that expressed fewer than 10% of the total number of filtered genes.\n",
    ">\n",
    "> Since bone marrow-derived phagocytes may include secondary cell populations, we focused our analysis on the major cell population. We identified clusters within each data set, using the Seurat<sup>78</sup> functions RunPCA, followed by FindClusters (using 20 dimensions from the PCA, default perplexity and a resolution of 0.1) and have taken the cells belonging to the largest cluster for further analysis, resulting in a less heterogeneous population of cells. A lower resolution of 0.03 was used for rabbit-LPS4, rabbit-LPS2, mouse-PIC2, mouse-PIC4; and 0.01 for rabbit-LPS6.\n",
    "\n",
    "These data form the basis of the _Cross-species bone marrow-derived phagocyte stimulation with LPS and dsRNA_ component of the paper (in contrast to _Cross-species dermal fibroblast stimulation with dsRNA and IFNB_)."
   ]
  },
  {
   "cell_type": "code",
   "execution_count": null,
   "metadata": {
    "lines_to_next_cell": 2
   },
   "outputs": [],
   "source": [
    "species = \"mouse\"\n",
    "\n",
    "umi_counts_adata = hagai_2018.load_umi_counts_with_additional_annotation(species)\n",
    "print(f\"The UMI count matrix contains {umi_counts_adata.n_obs:,} cells and {umi_counts_adata.n_vars:,} genes\")"
   ]
  },
  {
   "cell_type": "markdown",
   "metadata": {},
   "source": [
    "Although the [paper](http://doi.org/10.1038/s41586-018-0657-2) refers to normalised units (TPMs) for bulk RNA-seq and (plate-based Smart-seq2) scRNA-seq results for fibroblasts, this is not true of the (droplet-based) phagocyte results. The paper and its [Supplementary information](https://static-content.springer.com/esm/art%3A10.1038%2Fs41586-018-0657-2/MediaObjects/41586_2018_657_MOESM1_ESM.pdf) describe that the \"droplet-based sequencing data was aligned, filtered and quantified\" using Cell Ranger and further filtered through Seurat. There is no explicit indication that normalisation or scaling was applied to the resulting UMI counts.\n",
    "\n",
    "A histogram showing the distribution of counts per cell suggests that the values have not been (globally) scaled to account for count depth."
   ]
  },
  {
   "cell_type": "code",
   "execution_count": null,
   "metadata": {},
   "outputs": [],
   "source": [
    "counts_per_cell = np.asarray(umi_counts_adata.X.sum(axis=1))\n",
    "plt.hist(counts_per_cell, bins=40)\n",
    "plt.xlabel(\"Counts per cell\")\n",
    "plt.ylabel(\"Number of cells\")\n",
    "plt.show()"
   ]
  },
  {
   "cell_type": "markdown",
   "metadata": {},
   "source": [
    "Although the cells have been QCed (as described above and in further detail in the corresponding literature), the count matrix contains numerous genes with zero expression."
   ]
  },
  {
   "cell_type": "code",
   "execution_count": null,
   "metadata": {},
   "outputs": [],
   "source": [
    "counts_per_gene = np.asarray(umi_counts_adata.X.sum(axis=0)).squeeze()\n",
    "print(f\"{np.count_nonzero(counts_per_gene == 0):,} genes have zero count\")\n"
   ]
  },
  {
   "cell_type": "markdown",
   "metadata": {},
   "source": [
    "For the Hagai *et al.* (2018) study these genes may have been retained for cross-species interest. For this analysis, they may be removed."
   ]
  },
  {
   "cell_type": "code",
   "execution_count": null,
   "metadata": {},
   "outputs": [],
   "source": [
    "scanpy.pp.filter_genes(umi_counts_adata, min_counts=1)\n",
    "\n",
    "print(f\"The UMI count matrix now contains {umi_counts_adata.n_vars:,} genes\")"
   ]
  },
  {
   "cell_type": "markdown",
   "metadata": {},
   "source": [
    "A mean-variance scatter plot of expression for all genes shows a general pattern of overdispersion when relative to a Poisson distribution (the black line)."
   ]
  },
  {
   "cell_type": "code",
   "execution_count": null,
   "metadata": {
    "jupyter": {
     "source_hidden": true
    }
   },
   "outputs": [],
   "source": [
    "def plot_mean_var_scatter(counts, scale=\"log\", title=\"\"):\n",
    "    x, y = genes_mean, genes_var = sparsefuncs.mean_variance_axis(counts, axis=0)\n",
    "    plt.scatter(x, y, color=\"orange\")\n",
    "\n",
    "    x_range = x.min(), x.max()\n",
    "    plt.plot(x_range, x_range, \"k:\")\n",
    "\n",
    "    plt.xscale(scale)\n",
    "    plt.yscale(scale)\n",
    "\n",
    "    plt.title(title)\n",
    "    plt.xlabel(\"Mean\")\n",
    "    plt.ylabel(\"Variance\")\n",
    "    plt.show()"
   ]
  },
  {
   "cell_type": "code",
   "execution_count": null,
   "metadata": {},
   "outputs": [],
   "source": [
    "@widgets.interact(log_scale=True)\n",
    "def plot_umi_mean_var(log_scale):\n",
    "    plot_mean_var_scatter(umi_counts_adata.X, scale=\"log\" if log_scale else \"linear\")"
   ]
  },
  {
   "cell_type": "markdown",
   "metadata": {},
   "source": [
    "Similar plots are shown below for a variety of global count scaling options including counts per million (CPM), counts per thousand (CPT) and scaling by the (reciprocal of the) median total count of all cells."
   ]
  },
  {
   "cell_type": "code",
   "execution_count": null,
   "metadata": {
    "jupyter": {
     "source_hidden": true
    }
   },
   "outputs": [],
   "source": [
    "def create_normalised_adata(adata, target_sum):\n",
    "    scaled_adata = adata.copy()\n",
    "    scanpy.pp.normalize_total(scaled_adata, target_sum=target_sum)\n",
    "    return scaled_adata"
   ]
  },
  {
   "cell_type": "code",
   "execution_count": null,
   "metadata": {},
   "outputs": [],
   "source": [
    "counts_map = {\n",
    "    \"UMI\": umi_counts_adata,\n",
    "    \"Unit\": create_normalised_adata(umi_counts_adata, 1),\n",
    "    \"CPM\": create_normalised_adata(umi_counts_adata, 1e6),\n",
    "    \"CPT\": create_normalised_adata(umi_counts_adata, 1e3),\n",
    "    \"Median\": create_normalised_adata(umi_counts_adata, None),\n",
    "}\n",
    "\n",
    "for name, counts_adata in counts_map.items():\n",
    "    if name == \"UMI\": continue\n",
    "    plot_mean_var_scatter(counts_adata.X, title=name)"
   ]
  },
  {
   "cell_type": "markdown",
   "metadata": {},
   "source": [
    "Taking further inspiration from a [post by Valentine Svensson](http://www.nxn.se/valent/2018/1/30/count-depth-variation-makes-poisson-scrna-seq-data-negative-binomial), the effacts of scaling upon dropout probabilities can be visualised."
   ]
  },
  {
   "cell_type": "code",
   "execution_count": null,
   "metadata": {
    "jupyter": {
     "source_hidden": true
    }
   },
   "outputs": [],
   "source": [
    "def plot_dropout_probability(counts, axis=0, title=\"\"):\n",
    "    x, _ = sparsefuncs.mean_variance_axis(counts, axis=axis)\n",
    "\n",
    "    n_cells = counts.shape[axis]\n",
    "    n_zeros = n_cells - counts.getnnz(axis=axis)\n",
    "    y = n_zeros / n_cells\n",
    "\n",
    "    x_range = x.min(), x.max()\n",
    "    x2 = np.geomspace(*x_range)\n",
    "    y2 = np.exp(-x2)\n",
    "    \n",
    "    plt.scatter(x, y, color=\"orange\")\n",
    "    plt.plot(x2, y2, \"k:\")\n",
    "\n",
    "    plt.xscale(\"log\")\n",
    "\n",
    "    plt.title(title)\n",
    "    plt.xlabel(\"Mean\")\n",
    "    plt.ylabel(\"Dropout probability\")\n",
    "    plt.show()"
   ]
  },
  {
   "cell_type": "code",
   "execution_count": null,
   "metadata": {},
   "outputs": [],
   "source": [
    "for name, counts_adata in counts_map.items():\n",
    "    plot_dropout_probability(counts_adata.X, title=name)"
   ]
  },
  {
   "cell_type": "code",
   "execution_count": null,
   "metadata": {},
   "outputs": [],
   "source": []
  }
 ],
 "metadata": {
  "jupytext": {
   "formats": "ipynb,.ipynb.py:percent"
  },
  "kernelspec": {
   "display_name": "Python 3",
   "language": "python",
   "name": "python3"
  },
  "language_info": {
   "codemirror_mode": {
    "name": "ipython",
    "version": 3
   },
   "file_extension": ".py",
   "mimetype": "text/x-python",
   "name": "python",
   "nbconvert_exporter": "python",
   "pygments_lexer": "ipython3",
   "version": "3.8.2"
  }
 },
 "nbformat": 4,
 "nbformat_minor": 4
}
