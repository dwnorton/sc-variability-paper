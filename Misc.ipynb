{
 "cells": [
  {
   "cell_type": "code",
   "execution_count": null,
   "metadata": {
    "lines_to_next_cell": 2
   },
   "outputs": [],
   "source": [
    "import itertools\n",
    "\n",
    "import matplotlib.pyplot as plt\n",
    "import numpy as np\n",
    "import pandas as pd\n",
    "\n",
    "import rp2\n",
    "from rp2 import hagai_2018, create_folder\n",
    "from rp2.paths import get_output_path\n",
    "\n",
    "rp2.check_environment()"
   ]
  },
  {
   "cell_type": "code",
   "execution_count": null,
   "metadata": {},
   "outputs": [],
   "source": [
    "def load_gene_list(csv_path, symbol_column=\"symbol\"):\n",
    "    df = pd.read_csv(csv_path)\n",
    "    return df[symbol_column].values"
   ]
  },
  {
   "cell_type": "markdown",
   "metadata": {},
   "source": [
    "## Extract expression counts from Hagai *et al.* (2018) dataset\n",
    "\n",
    "To extract RNA counts for specific genes and conditions:,\n",
    "1. Ensure all previous cells have been executed\n",
    "2. Edit the values of extract_conditions (and show_histograms) accordingly in the cell below\n",
    "3. Run the cell below\n",
    "\n",
    "Output files will be created in *Output/Misc/Counts*.\n",
    "\n",
    "Note that it is possible to combine conditions (i.e. replicate, treatment and time_point) by creating a list of lists. For example\n",
    "```python\n",
    "replicate = [[\"1\", \"2\"], \"3\"]\n",
    "```\n",
    "will create results with replicates ! and 2 combined and 3 as a separate condition.\n",
    "\n",
    "For bulk exporting, a list of genes can be loaded from a .csv file as follows:\n",
    "\n",
    "```python\n",
    "genes = load_gene_list(\"Output/burst_trends_gene_list.csv\")\n",
    "```"
   ]
  },
  {
   "cell_type": "code",
   "execution_count": null,
   "metadata": {},
   "outputs": [],
   "source": [
    "extract_conditions = dict(\n",
    "    species=[\"mouse\"],\n",
    "    count_type=[\"median\"],  # Choose from umi, cpt, cpm or median\n",
    "    gene=[\"tnf\"],\n",
    "    replicate=[\"1\", \"2\", \"3\"],\n",
    "    treatment=[[\"unst\", \"lps\"], [\"unst\", \"pic\"]],\n",
    "    time_point=[\"0\", \"2\", \"4\", \"6\"],\n",
    ")\n",
    "\n",
    "show_histograms = True\n",
    "\n",
    "\n",
    "output_path = get_output_path(\"Misc\", \"Counts\")\n",
    "create_folder(output_path)\n",
    "\n",
    "count_adata_map = {}\n",
    "\n",
    "for values in itertools.product(*extract_conditions.values()):\n",
    "    extract_dict = dict(zip(extract_conditions.keys(), values))\n",
    "\n",
    "    species = extract_dict.pop(\"species\")\n",
    "    count_type = extract_dict.pop(\"count_type\")\n",
    "    gene_symbol = extract_dict.pop(\"gene\").lower()\n",
    "\n",
    "    count_key = f\"{species}-{count_type}\"\n",
    "    if count_key in count_adata_map:\n",
    "        count_adata = count_adata_map[count_key]\n",
    "    else:\n",
    "        print(f'Loading {species} \"{count_type}\" counts')\n",
    "        count_adata = hagai_2018.load_counts(species, scaling=count_type)\n",
    "        count_adata_map[count_key] = count_adata\n",
    "\n",
    "    count_adata = count_adata[:, count_adata.var.symbol.str.lower() == gene_symbol]\n",
    "    if count_adata.n_vars != 1:\n",
    "        if count_adata.n_vars == 0:\n",
    "            print(f\"  No genes with symbol '{gene_symbol}'\")\n",
    "        else:\n",
    "            print(f\"  Multiple genes with symbol '{gene_symbol}':\")\n",
    "            for name in count_adata:\n",
    "                print(f\"  {name}\")\n",
    "        continue\n",
    "\n",
    "    filename = f\"{species}_{count_type}_{gene_symbol}\"\n",
    "\n",
    "    for k, v in extract_dict.items():\n",
    "        if not isinstance(v, list):\n",
    "            v = [v]\n",
    "        count_adata = count_adata[count_adata.obs[k].isin(v), :]\n",
    "\n",
    "        filename += f\"_{k}_\" + \"_\".join(v)\n",
    "\n",
    "    filename += \".txt\"\n",
    "\n",
    "    print(f\"File: {filename}\")\n",
    "    print(f\"  {len(count_adata):,} samples\")\n",
    "\n",
    "    counts = np.asarray(count_adata.X.A).squeeze().round().astype(np.int)\n",
    "    np.savetxt(output_path.joinpath(filename), counts, fmt=\"%d\")\n",
    "\n",
    "    if show_histograms:\n",
    "        plt.hist(counts, log=True)\n",
    "        plt.xlabel(\"Count\")\n",
    "        plt.ylabel(\"Frequency\")\n",
    "        plt.show()"
   ]
  },
  {
   "cell_type": "code",
   "execution_count": null,
   "metadata": {},
   "outputs": [],
   "source": []
  }
 ],
 "metadata": {
  "jupytext": {
   "encoding": "# -*- coding: utf-8 -*-",
   "formats": "ipynb,.ipynb.py:percent"
  },
  "kernelspec": {
   "display_name": "Python 3",
   "language": "python",
   "name": "python3"
  },
  "language_info": {
   "codemirror_mode": {
    "name": "ipython",
    "version": 3
   },
   "file_extension": ".py",
   "mimetype": "text/x-python",
   "name": "python",
   "nbconvert_exporter": "python",
   "pygments_lexer": "ipython3",
   "version": "3.8.2"
  }
 },
 "nbformat": 4,
 "nbformat_minor": 4
}
