{
 "cells": [
  {
   "cell_type": "code",
   "execution_count": null,
   "metadata": {},
   "outputs": [],
   "source": [
    "import anndata\n",
    "import itertools\n",
    "import matplotlib.pyplot as plt\n",
    "import numpy as np\n",
    "\n",
    "from rp2 import create_folder, load_biomart_gene_symbols_df\n",
    "from rp2.paths import get_data_path, get_output_path"
   ]
  },
  {
   "cell_type": "markdown",
   "metadata": {},
   "source": [
    "## Extract UMI counts from Hagai *et al.* (2018) dataset\n",
    "\n",
    "Load full UMI counts in preparation to extract subsets."
   ]
  },
  {
   "cell_type": "code",
   "execution_count": null,
   "metadata": {},
   "outputs": [],
   "source": [
    "def load_umi_count(species):\n",
    "    adata = anndata.read_h5ad(get_data_path(\"ArrayExpress\", f\"E-MTAB-6754.processed.2.{species}.h5ad\"))\n",
    "    gene_symbols_df = load_biomart_gene_symbols_df(species)\n",
    "    adata.var[\"gene_symbol\"] = adata.var_names.map(gene_symbols_df.symbol).str.lower()\n",
    "    return adata\n",
    "\n",
    "\n",
    "available_species = [\"mouse\"]\n",
    "\n",
    "umi_ad_map = {species: load_umi_count(species) for species in available_species}"
   ]
  },
  {
   "cell_type": "markdown",
   "metadata": {},
   "source": [
    "To extract UMI counts for specific genes and conditions:\n",
    "1. Ensure all previous cells have been executed\n",
    "2. Edit the values of extract_conditions (and show_histograms) accordingly in the cell below\n",
    "3. Run the cell below\n",
    "\n",
    "Output files will be created in *Output/Misc/UmiCounts*.\n",
    "\n",
    "Note that it is possible to combine conditions (but not genes) by creating a list of lists. For example\n",
    "```python\n",
    "replicate = [[\"1\", \"2\"], \"3\"]\n",
    "```\n",
    "will create results with replicates ! and 2 combined and 3 as a separate condition."
   ]
  },
  {
   "cell_type": "code",
   "execution_count": null,
   "metadata": {},
   "outputs": [],
   "source": [
    "output_path = get_output_path(\"Misc\", \"UmiCounts\")\n",
    "create_folder(output_path)\n",
    "\n",
    "extract_conditions = dict(\n",
    "    species=[\"mouse\"],\n",
    "    gene=[\"tnf\"],\n",
    "    replicate=[\"1\", \"2\", \"3\"],\n",
    "    treatment=[[\"unst\", \"lps\"]],\n",
    "    time_point=[\"0\", \"2\", \"4\", \"6\"],\n",
    ")\n",
    "\n",
    "show_histograms = True\n",
    "\n",
    "for values in itertools.product(*extract_conditions.values()):\n",
    "    extract_dict = dict(zip(extract_conditions.keys(), values))\n",
    "\n",
    "    species = extract_dict.pop(\"species\")\n",
    "    gene_symbol = extract_dict.pop(\"gene\").lower()\n",
    "\n",
    "    umi_ad = umi_ad_map[species]\n",
    "    \n",
    "    umi_ad = umi_ad[:, umi_ad.var.gene_symbol == gene_symbol]\n",
    "    if umi_ad.n_vars != 1:\n",
    "        if umi_ad.n_vars == 0:\n",
    "            print(f\"  No genes with symbol '{gene_symbol}'\")\n",
    "        else:\n",
    "            print(f\"  Multiple genes with symbol '{gene_symbol}':\")\n",
    "            for name in umi_ad:\n",
    "                print(f\"  {name}\")\n",
    "        continue\n",
    "\n",
    "    file_prefix = f\"species={species}-gene={gene_symbol}\"\n",
    "\n",
    "    for k, v in extract_dict.items():\n",
    "        if not isinstance(v, list):\n",
    "            v = [v]\n",
    "        umi_ad = umi_ad[umi_ad.obs[k].isin(v), :]\n",
    "\n",
    "        file_prefix += f\"-{k}={'+'.join(v)}\"\n",
    "\n",
    "    filename = file_prefix + \".txt\"\n",
    "    print(filename)\n",
    "    print(f\"  {len(umi_ad):,} samples\")\n",
    "\n",
    "    counts = umi_ad.X.A.squeeze().astype(np.int)\n",
    "    np.savetxt(output_path.joinpath(filename), counts, fmt=\"%d\")\n",
    "\n",
    "    if show_histograms:\n",
    "        plt.hist(counts, log=True)\n",
    "        plt.xlabel(\"UMI count\")\n",
    "        plt.ylabel(\"Frequency\")\n",
    "        plt.show()"
   ]
  },
  {
   "cell_type": "code",
   "execution_count": null,
   "metadata": {},
   "outputs": [],
   "source": []
  }
 ],
 "metadata": {
  "jupytext": {
   "formats": "ipynb,.ipynb.py:percent"
  },
  "kernelspec": {
   "display_name": "Python 3",
   "language": "python",
   "name": "python3"
  },
  "language_info": {
   "codemirror_mode": {
    "name": "ipython",
    "version": 3
   },
   "file_extension": ".py",
   "mimetype": "text/x-python",
   "name": "python",
   "nbconvert_exporter": "python",
   "pygments_lexer": "ipython3",
   "version": "3.8.2"
  }
 },
 "nbformat": 4,
 "nbformat_minor": 4
}
